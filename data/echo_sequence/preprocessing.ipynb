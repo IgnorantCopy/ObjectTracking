{
 "cells": [
  {
   "metadata": {},
   "cell_type": "markdown",
   "source": "# load data",
   "id": "b56e12b7daa4a10c"
  },
  {
   "metadata": {
    "ExecuteTime": {
     "end_time": "2025-05-23T13:12:32.919504Z",
     "start_time": "2025-05-23T13:12:30.709081Z"
    }
   },
   "cell_type": "code",
   "source": [
    "import scipy.io as sio\n",
    "\n",
    "mat_data = sio.loadmat(\"./dataset/data1/data1.mat\")\n",
    "mat_data.keys()"
   ],
   "id": "6699afad59314209",
   "outputs": [
    {
     "data": {
      "text/plain": [
       "dict_keys(['__header__', '__version__', '__globals__', 'radar_pulse_squence'])"
      ]
     },
     "execution_count": 1,
     "metadata": {},
     "output_type": "execute_result"
    }
   ],
   "execution_count": 1
  },
  {
   "metadata": {
    "ExecuteTime": {
     "end_time": "2025-05-23T13:14:32.421701Z",
     "start_time": "2025-05-23T13:14:32.415990Z"
    }
   },
   "cell_type": "code",
   "source": [
    "data_array = mat_data['radar_pulse_squence']\n",
    "data_array.shape"
   ],
   "id": "9bbfd9cb31e9f040",
   "outputs": [
    {
     "data": {
      "text/plain": [
       "(319, 64000)"
      ]
     },
     "execution_count": 3,
     "metadata": {},
     "output_type": "execute_result"
    }
   ],
   "execution_count": 3
  },
  {
   "metadata": {
    "ExecuteTime": {
     "end_time": "2025-05-23T14:18:25.709062Z",
     "start_time": "2025-05-23T14:18:25.696176Z"
    }
   },
   "cell_type": "code",
   "source": "data_array",
   "id": "4de170743d150468",
   "outputs": [
    {
     "data": {
      "text/plain": [
       "array([[-68.00696284 -17.8600268j , -46.26524687 -54.01975066j,\n",
       "        -56.35130796 -25.93338809j, ..., -86.27522794 -34.08528519j,\n",
       "        -22.20943728  -6.0490486j ,  45.31803262-121.09400925j],\n",
       "       [-58.08096299 -45.95575993j, -57.24951292 -87.93198915j,\n",
       "        -58.16151994 -62.19071295j, ..., -65.22372793 -38.36068292j,\n",
       "         18.79026822 -31.45809968j,  33.29380769 -97.67873706j],\n",
       "       [-40.13295326 -67.53831343j, -47.8892181 -113.80562466j,\n",
       "        -41.38504869 -89.1567272j , ..., -39.30155793 -36.79996823j,\n",
       "         61.82903328 -52.17548284j,  35.80395351 -67.73860913j],\n",
       "       ...,\n",
       "       [-56.83372172 +37.83495396j,  29.46325714 +58.30847884j,\n",
       "          1.26972846 +77.47971554j, ..., -68.75448264 -27.23218963j,\n",
       "        -86.8226154  +62.17458471j, 129.09695288 -91.9941902j ],\n",
       "       [-65.96827836 +30.64282817j,   7.15948985 +23.87308937j,\n",
       "        -17.43077619 +50.5530483j , ..., -89.05579124 -27.14088832j,\n",
       "        -76.88880942 +42.95518444j, 104.05512159-123.04786471j],\n",
       "       [-70.13903212 +10.20276496j, -21.38976485 -15.2921899j ,\n",
       "        -39.83991576 +13.90091357j, ..., -95.41904101 -29.26467715j,\n",
       "        -55.34443451 +19.8007705j ,  71.56268722-131.71527708j]],\n",
       "      shape=(319, 64000))"
      ]
     },
     "execution_count": 4,
     "metadata": {},
     "output_type": "execute_result"
    }
   ],
   "execution_count": 4
  },
  {
   "metadata": {},
   "cell_type": "code",
   "outputs": [],
   "execution_count": null,
   "source": "",
   "id": "358c182667166b31"
  }
 ],
 "metadata": {
  "kernelspec": {
   "display_name": "Python 3",
   "language": "python",
   "name": "python3"
  },
  "language_info": {
   "codemirror_mode": {
    "name": "ipython",
    "version": 2
   },
   "file_extension": ".py",
   "mimetype": "text/x-python",
   "name": "python",
   "nbconvert_exporter": "python",
   "pygments_lexer": "ipython2",
   "version": "2.7.6"
  }
 },
 "nbformat": 4,
 "nbformat_minor": 5
}
