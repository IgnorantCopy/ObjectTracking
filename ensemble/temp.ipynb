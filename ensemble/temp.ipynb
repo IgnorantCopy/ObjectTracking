{
 "cells": [
  {
   "metadata": {
    "ExecuteTime": {
     "end_time": "2025-08-01T08:27:37.171380Z",
     "start_time": "2025-08-01T08:27:37.168376Z"
    }
   },
   "cell_type": "code",
   "source": [
    "import re\n",
    "import os\n",
    "import glob"
   ],
   "id": "798c3f911dbcd1cf",
   "outputs": [],
   "execution_count": 1
  },
  {
   "metadata": {
    "ExecuteTime": {
     "end_time": "2025-08-01T08:27:43.024450Z",
     "start_time": "2025-08-01T08:27:43.020450Z"
    }
   },
   "cell_type": "code",
   "source": "NUM_CLASSES = 4",
   "id": "376a8fbd551cc4db",
   "outputs": [],
   "execution_count": 2
  },
  {
   "metadata": {
    "ExecuteTime": {
     "end_time": "2025-08-01T08:27:49.453774Z",
     "start_time": "2025-08-01T08:27:49.448759Z"
    }
   },
   "cell_type": "code",
   "source": [
    "correct_batch_track = {i: [] for i in range(NUM_CLASSES)}\n",
    "correct_batch_rd = {i: [] for i in range(NUM_CLASSES)}\n",
    "wrong_batch_track = {i: [] for i in range(NUM_CLASSES)}\n",
    "wrong_batch_rd = {i: [] for i in range(NUM_CLASSES)}\n",
    "\n",
    "track_dir = \"./track_results\"\n",
    "rd_dir = \"./LatestResults\""
   ],
   "id": "4eafea60ba49a09a",
   "outputs": [],
   "execution_count": 3
  },
  {
   "metadata": {
    "ExecuteTime": {
     "end_time": "2025-08-01T08:27:56.864198Z",
     "start_time": "2025-08-01T08:27:56.839021Z"
    }
   },
   "cell_type": "code",
   "source": [
    "for label in range(1, NUM_CLASSES + 1):\n",
    "    # track\n",
    "    # correct\n",
    "    batch_files = glob.glob(os.path.join(track_dir, f\"correct/Label_{label}/Batch_*.txt\"))\n",
    "    for batch_file in batch_files:\n",
    "        batch_id = int(re.match(r\"Batch_(\\d+).txt\", os.path.basename(batch_file)).group(1))\n",
    "        correct_batch_track[label - 1].append(batch_id)\n",
    "    # wrong\n",
    "    batch_files = glob.glob(os.path.join(track_dir, f\"wrong/Label_{label}/Batch_*.txt\"))\n",
    "    for batch_file in batch_files:\n",
    "        batch_id = int(re.match(r\"Batch_(\\d+).txt\", os.path.basename(batch_file)).group(1))\n",
    "        wrong_batch_track[label - 1].append(batch_id)\n",
    "    # rd\n",
    "    # correct\n",
    "    batch_files = glob.glob(os.path.join(rd_dir, f\"correct/Label_{label}/Batch_*.txt\"))\n",
    "    for batch_file in batch_files:\n",
    "        batch_id = int(re.match(r\"Batch_(\\d+).txt\", os.path.basename(batch_file)).group(1))\n",
    "        correct_batch_rd[label - 1].append(batch_id)\n",
    "    # wrong\n",
    "    batch_files = glob.glob(os.path.join(rd_dir, f\"wrong/Label_{label}/Batch_*.txt\"))\n",
    "    for batch_file in batch_files:\n",
    "        batch_id = int(re.match(r\"Batch_(\\d+).txt\", os.path.basename(batch_file)).group(1))\n",
    "        wrong_batch_rd[label - 1].append(batch_id)"
   ],
   "id": "fe88fb993ada1ef3",
   "outputs": [],
   "execution_count": 4
  },
  {
   "metadata": {
    "ExecuteTime": {
     "end_time": "2025-08-01T09:00:32.348517Z",
     "start_time": "2025-08-01T09:00:32.342523Z"
    }
   },
   "cell_type": "code",
   "source": [
    "correct_intersection = {i: set(correct_batch_track[i]).intersection(set(correct_batch_rd[i])) for i in range(NUM_CLASSES)}\n",
    "wrong_intersection = {i: set(wrong_batch_track[i]).intersection(set(wrong_batch_rd[i])) for i in range(NUM_CLASSES)}"
   ],
   "id": "b0209aebcc7581cf",
   "outputs": [],
   "execution_count": 7
  },
  {
   "metadata": {
    "ExecuteTime": {
     "end_time": "2025-08-01T09:00:33.070293Z",
     "start_time": "2025-08-01T09:00:33.065035Z"
    }
   },
   "cell_type": "code",
   "source": [
    "correct_track_intersection = {i: len(correct_batch_track[i]) - len(correct_intersection[i]) for i in range(NUM_CLASSES)}\n",
    "wrong_track_intersection = {i: len(wrong_batch_track[i]) - len(wrong_intersection[i]) for i in range(NUM_CLASSES)}\n",
    "correct_rd_intersection = {i: len(correct_batch_rd[i]) - len(correct_intersection[i]) for i in range(NUM_CLASSES)}\n",
    "wrong_rd_intersection = {i: len(wrong_batch_rd[i]) - len(wrong_intersection[i]) for i in range(NUM_CLASSES)}"
   ],
   "id": "553502c3bc0c7cb8",
   "outputs": [],
   "execution_count": 8
  },
  {
   "metadata": {},
   "cell_type": "code",
   "outputs": [],
   "execution_count": null,
   "source": "",
   "id": "4f1cace45fb6bcb"
  }
 ],
 "metadata": {
  "kernelspec": {
   "display_name": "Python 3",
   "language": "python",
   "name": "python3"
  },
  "language_info": {
   "codemirror_mode": {
    "name": "ipython",
    "version": 2
   },
   "file_extension": ".py",
   "mimetype": "text/x-python",
   "name": "python",
   "nbconvert_exporter": "python",
   "pygments_lexer": "ipython2",
   "version": "2.7.6"
  }
 },
 "nbformat": 4,
 "nbformat_minor": 5
}
