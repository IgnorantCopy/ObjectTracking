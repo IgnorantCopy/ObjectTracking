{
 "cells": [
  {
   "metadata": {
    "ExecuteTime": {
     "end_time": "2025-07-30T15:24:14.934031Z",
     "start_time": "2025-07-30T15:24:14.930520Z"
    }
   },
   "cell_type": "code",
   "source": [
    "from tsai.models.HydraMultiRocketPlus import HydraMultiRocketBackbonePlus\n",
    "import torch"
   ],
   "id": "c5c6ad5d70ec3d01",
   "outputs": [],
   "execution_count": 6
  },
  {
   "metadata": {
    "ExecuteTime": {
     "end_time": "2025-07-30T14:47:37.280765Z",
     "start_time": "2025-07-30T14:47:37.277308Z"
    }
   },
   "cell_type": "code",
   "source": [
    "DATA_ROOT = r'D:\\DataSets\\挑战杯_揭榜挂帅_CQ-08赛题_数据集'\n",
    "NUM_CLASSES = 4\n",
    "TOTAL_FEATURES_PER_TIMESTEP = 28\n",
    "SEQ_LEN = 29\n",
    "ABNORMAL_BATCH_ID = [1451, 1452, 1457, 1462, 1467, 1469, 1473, 1478, 1484, 1487, 1488, 1490, 1494, 1496, 1497, 1500]"
   ],
   "id": "3c2efd7e41d84318",
   "outputs": [],
   "execution_count": 1
  },
  {
   "metadata": {
    "ExecuteTime": {
     "end_time": "2025-07-30T15:26:07.148344Z",
     "start_time": "2025-07-30T15:26:07.122540Z"
    }
   },
   "cell_type": "code",
   "source": [
    "model = HydraMultiRocketBackbonePlus(c_in=TOTAL_FEATURES_PER_TIMESTEP, c_out=NUM_CLASSES,seq_len=SEQ_LEN, num_features=20000)\n",
    "model.cuda()\n",
    "x = torch.randn(1, 28, 29).cuda()\n",
    "y = model(x)\n",
    "print(y.shape)"
   ],
   "id": "d3cdf32eb69ca2d7",
   "outputs": [
    {
     "name": "stdout",
     "output_type": "stream",
     "text": [
      "torch.Size([1, 21536])\n"
     ]
    }
   ],
   "execution_count": 10
  },
  {
   "metadata": {},
   "cell_type": "code",
   "outputs": [],
   "execution_count": null,
   "source": "",
   "id": "739229f4c4c59ac6"
  }
 ],
 "metadata": {
  "kernelspec": {
   "display_name": "Python 3",
   "language": "python",
   "name": "python3"
  },
  "language_info": {
   "codemirror_mode": {
    "name": "ipython",
    "version": 2
   },
   "file_extension": ".py",
   "mimetype": "text/x-python",
   "name": "python",
   "nbconvert_exporter": "python",
   "pygments_lexer": "ipython2",
   "version": "2.7.6"
  }
 },
 "nbformat": 4,
 "nbformat_minor": 5
}
