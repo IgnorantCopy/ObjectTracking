{
 "cells": [
  {
   "metadata": {},
   "cell_type": "markdown",
   "source": "# 点航分支",
   "id": "2b1d23d4fe67fdca"
  },
  {
   "cell_type": "code",
   "id": "dee6052d21fde066",
   "metadata": {
    "ExecuteTime": {
     "end_time": "2025-08-04T13:37:38.863316Z",
     "start_time": "2025-08-04T13:37:38.855317Z"
    }
   },
   "source": [
    "from sklearn.metrics import accuracy_score\n",
    "from sklearn.model_selection import train_test_split, cross_validate\n",
    "from sklearn.preprocessing import StandardScaler\n",
    "from sklearn.gaussian_process.kernels import RBF\n",
    "from sktime.dists_kernels import AggrDist\n",
    "from sktime.classification.distance_based import KNeighborsTimeSeriesClassifier\n",
    "from sktime.classification.kernel_based import RocketClassifier, TimeSeriesSVC\n",
    "from sktime.classification.hybrid import HIVECOTEV2\n",
    "from sktime.classification.ensemble import WeightedEnsembleClassifier\n",
    "from sktime.dists_kernels import FlatDist, ScipyDist\n",
    "import plotly.graph_objects as go\n",
    "import polars as pl\n",
    "import numpy as np\n",
    "import pickle\n",
    "import os\n",
    "import glob\n",
    "import re\n",
    "\n",
    "from data.track_preprocess import TrajectoryDataProcessor, process_df"
   ],
   "outputs": [],
   "execution_count": 8
  },
  {
   "metadata": {
    "ExecuteTime": {
     "end_time": "2025-08-04T13:37:39.863915Z",
     "start_time": "2025-08-04T13:37:39.859075Z"
    }
   },
   "cell_type": "code",
   "source": [
    "DATA_ROOT = r'D:\\DataSets\\挑战杯_揭榜挂帅_CQ-08赛题_数据集'\n",
    "NUM_CLASSES = 4\n",
    "SEQ_LEN = 29\n",
    "ABNORMAL_BATCH_ID = [1451, 1452, 1457, 1462, 1467, 1469, 1473, 1478, 1484, 1487, 1488, 1490, 1494, 1496, 1497, 1500]"
   ],
   "id": "fa27666413251e36",
   "outputs": [],
   "execution_count": 9
  },
  {
   "metadata": {
    "ExecuteTime": {
     "end_time": "2025-08-04T11:57:26.801023Z",
     "start_time": "2025-08-04T11:57:25.162635Z"
    }
   },
   "cell_type": "code",
   "source": [
    "# 查找支持多元时序分类的模型\n",
    "from sktime.registry import all_estimators\n",
    "\n",
    "all_estimators(\"classifier\", filter_tags={\"capability:multivariate\": True}, as_dataframe=True)"
   ],
   "id": "46b431504a1185b3",
   "outputs": [
    {
     "data": {
      "text/plain": [
       "                                     name  \\\n",
       "0                                 Arsenal   \n",
       "1                       BaggingClassifier   \n",
       "2                           CNNClassifier   \n",
       "3                          CNTCClassifier   \n",
       "4                 CanonicalIntervalForest   \n",
       "5                       Catch22Classifier   \n",
       "6                ColumnEnsembleClassifier   \n",
       "7                                   DrCIF   \n",
       "8                         DummyClassifier   \n",
       "9                           FCNClassifier   \n",
       "10                            FreshPRINCE   \n",
       "11                          GRUClassifier   \n",
       "12                      GRUFCNNClassifier   \n",
       "13                             HIVECOTEV2   \n",
       "14                InceptionTimeClassifier   \n",
       "15                          IndividualTDE   \n",
       "16         KNeighborsTimeSeriesClassifier   \n",
       "17  KNeighborsTimeSeriesClassifierTslearn   \n",
       "18                      LSTMFCNClassifier   \n",
       "19                        MACNNClassifier   \n",
       "20                       MCDCNNClassifier   \n",
       "21                          MLPClassifier   \n",
       "22                                   MUSE   \n",
       "23              MVTSTransformerClassifier   \n",
       "24                     MomentFMClassifier   \n",
       "25                    MultiplexClassifier   \n",
       "26    ProbabilityThresholdEarlyClassifier   \n",
       "27               RandomIntervalClassifier   \n",
       "28                       ResNetClassifier   \n",
       "29                       RocketClassifier   \n",
       "30      ShapeletLearningClassifierTslearn   \n",
       "31            ShapeletTransformClassifier   \n",
       "32                    SignatureClassifier   \n",
       "33                    SimpleRNNClassifier   \n",
       "34              SklearnClassifierPipeline   \n",
       "35                      SummaryClassifier   \n",
       "36                        TSCGridSearchCV   \n",
       "37                      TSFreshClassifier   \n",
       "38                       TapNetClassifier   \n",
       "39             TemporalDictionaryEnsemble   \n",
       "40                          TimeSeriesSVC   \n",
       "41                   TimeSeriesSVCTslearn   \n",
       "42             WeightedEnsembleClassifier   \n",
       "\n",
       "                                                                                                                 object  \n",
       "0                                                         <class 'sktime.classification.kernel_based._arsenal.Arsenal'>  \n",
       "1                                                   <class 'sktime.classification.ensemble._bagging.BaggingClassifier'>  \n",
       "2                                                       <class 'sktime.classification.deep_learning.cnn.CNNClassifier'>  \n",
       "3                                                     <class 'sktime.classification.deep_learning.cntc.CNTCClassifier'>  \n",
       "4                                           <class 'sktime.classification.interval_based._cif.CanonicalIntervalForest'>  \n",
       "5                                   <class 'sktime.classification.feature_based._catch22_classifier.Catch22Classifier'>  \n",
       "6                                     <class 'sktime.classification.compose._column_ensemble.ColumnEnsembleClassifier'>  \n",
       "7                                                           <class 'sktime.classification.interval_based._drcif.DrCIF'>  \n",
       "8                                                          <class 'sktime.classification.dummy._dummy.DummyClassifier'>  \n",
       "9                                                       <class 'sktime.classification.deep_learning.fcn.FCNClassifier'>  \n",
       "10                                              <class 'sktime.classification.feature_based._fresh_prince.FreshPRINCE'>  \n",
       "11                                                      <class 'sktime.classification.deep_learning.gru.GRUClassifier'>  \n",
       "12                                                  <class 'sktime.classification.deep_learning.gru.GRUFCNNClassifier'>  \n",
       "13                                                       <class 'sktime.classification.hybrid._hivecote_v2.HIVECOTEV2'>  \n",
       "14                                  <class 'sktime.classification.deep_learning.inceptiontime.InceptionTimeClassifier'>  \n",
       "15                                                  <class 'sktime.classification.dictionary_based._tde.IndividualTDE'>  \n",
       "16                 <class 'sktime.classification.distance_based._time_series_neighbors.KNeighborsTimeSeriesClassifier'>  \n",
       "17  <class 'sktime.classification.distance_based._time_series_neighbors_tslearn.KNeighborsTimeSeriesClassifierTslearn'>  \n",
       "18                                              <class 'sktime.classification.deep_learning.lstmfcn.LSTMFCNClassifier'>  \n",
       "19                                                  <class 'sktime.classification.deep_learning.macnn.MACNNClassifier'>  \n",
       "20                                                <class 'sktime.classification.deep_learning.mcdcnn.MCDCNNClassifier'>  \n",
       "21                                                      <class 'sktime.classification.deep_learning.mlp.MLPClassifier'>  \n",
       "22                                                          <class 'sktime.classification.dictionary_based._muse.MUSE'>  \n",
       "23                             <class 'sktime.classification.deep_learning.mvts_transformer.MVTSTransformerClassifier'>  \n",
       "24                                        <class 'sktime.classification.foundation_models.momentfm.MomentFMClassifier'>  \n",
       "25                                             <class 'sktime.classification.compose._multiplexer.MultiplexClassifier'>  \n",
       "26      <class 'sktime.classification.early_classification._probability_threshold.ProbabilityThresholdEarlyClassifier'>  \n",
       "27                   <class 'sktime.classification.feature_based._random_interval_classifier.RandomIntervalClassifier'>  \n",
       "28                                                <class 'sktime.classification.deep_learning.resnet.ResNetClassifier'>  \n",
       "29                                     <class 'sktime.classification.kernel_based._rocket_classifier.RocketClassifier'>  \n",
       "30                   <class 'sktime.classification.shapelet_based._learning_tslearn.ShapeletLearningClassifierTslearn'>  \n",
       "31                                      <class 'sktime.classification.shapelet_based._stc.ShapeletTransformClassifier'>  \n",
       "32                              <class 'sktime.classification.feature_based._signature_classifier.SignatureClassifier'>  \n",
       "33                                                <class 'sktime.classification.deep_learning.rnn.SimpleRNNClassifier'>  \n",
       "34                                          <class 'sktime.classification.compose._pipeline.SklearnClassifierPipeline'>  \n",
       "35                                  <class 'sktime.classification.feature_based._summary_classifier.SummaryClassifier'>  \n",
       "36                                                <class 'sktime.classification.model_selection._tune.TSCGridSearchCV'>  \n",
       "37                                  <class 'sktime.classification.feature_based._tsfresh_classifier.TSFreshClassifier'>  \n",
       "38                                                <class 'sktime.classification.deep_learning.tapnet.TapNetClassifier'>  \n",
       "39                                     <class 'sktime.classification.dictionary_based._tde.TemporalDictionaryEnsemble'>  \n",
       "40                                                      <class 'sktime.classification.kernel_based._svc.TimeSeriesSVC'>  \n",
       "41                                       <class 'sktime.classification.kernel_based._svc_tslearn.TimeSeriesSVCTslearn'>  \n",
       "42                                        <class 'sktime.classification.ensemble._weighted.WeightedEnsembleClassifier'>  "
      ],
      "text/html": [
       "<div>\n",
       "<style scoped>\n",
       "    .dataframe tbody tr th:only-of-type {\n",
       "        vertical-align: middle;\n",
       "    }\n",
       "\n",
       "    .dataframe tbody tr th {\n",
       "        vertical-align: top;\n",
       "    }\n",
       "\n",
       "    .dataframe thead th {\n",
       "        text-align: right;\n",
       "    }\n",
       "</style>\n",
       "<table border=\"1\" class=\"dataframe\">\n",
       "  <thead>\n",
       "    <tr style=\"text-align: right;\">\n",
       "      <th></th>\n",
       "      <th>name</th>\n",
       "      <th>object</th>\n",
       "    </tr>\n",
       "  </thead>\n",
       "  <tbody>\n",
       "    <tr>\n",
       "      <th>0</th>\n",
       "      <td>Arsenal</td>\n",
       "      <td>&lt;class 'sktime.classification.kernel_based._arsenal.Arsenal'&gt;</td>\n",
       "    </tr>\n",
       "    <tr>\n",
       "      <th>1</th>\n",
       "      <td>BaggingClassifier</td>\n",
       "      <td>&lt;class 'sktime.classification.ensemble._bagging.BaggingClassifier'&gt;</td>\n",
       "    </tr>\n",
       "    <tr>\n",
       "      <th>2</th>\n",
       "      <td>CNNClassifier</td>\n",
       "      <td>&lt;class 'sktime.classification.deep_learning.cnn.CNNClassifier'&gt;</td>\n",
       "    </tr>\n",
       "    <tr>\n",
       "      <th>3</th>\n",
       "      <td>CNTCClassifier</td>\n",
       "      <td>&lt;class 'sktime.classification.deep_learning.cntc.CNTCClassifier'&gt;</td>\n",
       "    </tr>\n",
       "    <tr>\n",
       "      <th>4</th>\n",
       "      <td>CanonicalIntervalForest</td>\n",
       "      <td>&lt;class 'sktime.classification.interval_based._cif.CanonicalIntervalForest'&gt;</td>\n",
       "    </tr>\n",
       "    <tr>\n",
       "      <th>5</th>\n",
       "      <td>Catch22Classifier</td>\n",
       "      <td>&lt;class 'sktime.classification.feature_based._catch22_classifier.Catch22Classifier'&gt;</td>\n",
       "    </tr>\n",
       "    <tr>\n",
       "      <th>6</th>\n",
       "      <td>ColumnEnsembleClassifier</td>\n",
       "      <td>&lt;class 'sktime.classification.compose._column_ensemble.ColumnEnsembleClassifier'&gt;</td>\n",
       "    </tr>\n",
       "    <tr>\n",
       "      <th>7</th>\n",
       "      <td>DrCIF</td>\n",
       "      <td>&lt;class 'sktime.classification.interval_based._drcif.DrCIF'&gt;</td>\n",
       "    </tr>\n",
       "    <tr>\n",
       "      <th>8</th>\n",
       "      <td>DummyClassifier</td>\n",
       "      <td>&lt;class 'sktime.classification.dummy._dummy.DummyClassifier'&gt;</td>\n",
       "    </tr>\n",
       "    <tr>\n",
       "      <th>9</th>\n",
       "      <td>FCNClassifier</td>\n",
       "      <td>&lt;class 'sktime.classification.deep_learning.fcn.FCNClassifier'&gt;</td>\n",
       "    </tr>\n",
       "    <tr>\n",
       "      <th>10</th>\n",
       "      <td>FreshPRINCE</td>\n",
       "      <td>&lt;class 'sktime.classification.feature_based._fresh_prince.FreshPRINCE'&gt;</td>\n",
       "    </tr>\n",
       "    <tr>\n",
       "      <th>11</th>\n",
       "      <td>GRUClassifier</td>\n",
       "      <td>&lt;class 'sktime.classification.deep_learning.gru.GRUClassifier'&gt;</td>\n",
       "    </tr>\n",
       "    <tr>\n",
       "      <th>12</th>\n",
       "      <td>GRUFCNNClassifier</td>\n",
       "      <td>&lt;class 'sktime.classification.deep_learning.gru.GRUFCNNClassifier'&gt;</td>\n",
       "    </tr>\n",
       "    <tr>\n",
       "      <th>13</th>\n",
       "      <td>HIVECOTEV2</td>\n",
       "      <td>&lt;class 'sktime.classification.hybrid._hivecote_v2.HIVECOTEV2'&gt;</td>\n",
       "    </tr>\n",
       "    <tr>\n",
       "      <th>14</th>\n",
       "      <td>InceptionTimeClassifier</td>\n",
       "      <td>&lt;class 'sktime.classification.deep_learning.inceptiontime.InceptionTimeClassifier'&gt;</td>\n",
       "    </tr>\n",
       "    <tr>\n",
       "      <th>15</th>\n",
       "      <td>IndividualTDE</td>\n",
       "      <td>&lt;class 'sktime.classification.dictionary_based._tde.IndividualTDE'&gt;</td>\n",
       "    </tr>\n",
       "    <tr>\n",
       "      <th>16</th>\n",
       "      <td>KNeighborsTimeSeriesClassifier</td>\n",
       "      <td>&lt;class 'sktime.classification.distance_based._time_series_neighbors.KNeighborsTimeSeriesClassifier'&gt;</td>\n",
       "    </tr>\n",
       "    <tr>\n",
       "      <th>17</th>\n",
       "      <td>KNeighborsTimeSeriesClassifierTslearn</td>\n",
       "      <td>&lt;class 'sktime.classification.distance_based._time_series_neighbors_tslearn.KNeighborsTimeSeriesClassifierTslearn'&gt;</td>\n",
       "    </tr>\n",
       "    <tr>\n",
       "      <th>18</th>\n",
       "      <td>LSTMFCNClassifier</td>\n",
       "      <td>&lt;class 'sktime.classification.deep_learning.lstmfcn.LSTMFCNClassifier'&gt;</td>\n",
       "    </tr>\n",
       "    <tr>\n",
       "      <th>19</th>\n",
       "      <td>MACNNClassifier</td>\n",
       "      <td>&lt;class 'sktime.classification.deep_learning.macnn.MACNNClassifier'&gt;</td>\n",
       "    </tr>\n",
       "    <tr>\n",
       "      <th>20</th>\n",
       "      <td>MCDCNNClassifier</td>\n",
       "      <td>&lt;class 'sktime.classification.deep_learning.mcdcnn.MCDCNNClassifier'&gt;</td>\n",
       "    </tr>\n",
       "    <tr>\n",
       "      <th>21</th>\n",
       "      <td>MLPClassifier</td>\n",
       "      <td>&lt;class 'sktime.classification.deep_learning.mlp.MLPClassifier'&gt;</td>\n",
       "    </tr>\n",
       "    <tr>\n",
       "      <th>22</th>\n",
       "      <td>MUSE</td>\n",
       "      <td>&lt;class 'sktime.classification.dictionary_based._muse.MUSE'&gt;</td>\n",
       "    </tr>\n",
       "    <tr>\n",
       "      <th>23</th>\n",
       "      <td>MVTSTransformerClassifier</td>\n",
       "      <td>&lt;class 'sktime.classification.deep_learning.mvts_transformer.MVTSTransformerClassifier'&gt;</td>\n",
       "    </tr>\n",
       "    <tr>\n",
       "      <th>24</th>\n",
       "      <td>MomentFMClassifier</td>\n",
       "      <td>&lt;class 'sktime.classification.foundation_models.momentfm.MomentFMClassifier'&gt;</td>\n",
       "    </tr>\n",
       "    <tr>\n",
       "      <th>25</th>\n",
       "      <td>MultiplexClassifier</td>\n",
       "      <td>&lt;class 'sktime.classification.compose._multiplexer.MultiplexClassifier'&gt;</td>\n",
       "    </tr>\n",
       "    <tr>\n",
       "      <th>26</th>\n",
       "      <td>ProbabilityThresholdEarlyClassifier</td>\n",
       "      <td>&lt;class 'sktime.classification.early_classification._probability_threshold.ProbabilityThresholdEarlyClassifier'&gt;</td>\n",
       "    </tr>\n",
       "    <tr>\n",
       "      <th>27</th>\n",
       "      <td>RandomIntervalClassifier</td>\n",
       "      <td>&lt;class 'sktime.classification.feature_based._random_interval_classifier.RandomIntervalClassifier'&gt;</td>\n",
       "    </tr>\n",
       "    <tr>\n",
       "      <th>28</th>\n",
       "      <td>ResNetClassifier</td>\n",
       "      <td>&lt;class 'sktime.classification.deep_learning.resnet.ResNetClassifier'&gt;</td>\n",
       "    </tr>\n",
       "    <tr>\n",
       "      <th>29</th>\n",
       "      <td>RocketClassifier</td>\n",
       "      <td>&lt;class 'sktime.classification.kernel_based._rocket_classifier.RocketClassifier'&gt;</td>\n",
       "    </tr>\n",
       "    <tr>\n",
       "      <th>30</th>\n",
       "      <td>ShapeletLearningClassifierTslearn</td>\n",
       "      <td>&lt;class 'sktime.classification.shapelet_based._learning_tslearn.ShapeletLearningClassifierTslearn'&gt;</td>\n",
       "    </tr>\n",
       "    <tr>\n",
       "      <th>31</th>\n",
       "      <td>ShapeletTransformClassifier</td>\n",
       "      <td>&lt;class 'sktime.classification.shapelet_based._stc.ShapeletTransformClassifier'&gt;</td>\n",
       "    </tr>\n",
       "    <tr>\n",
       "      <th>32</th>\n",
       "      <td>SignatureClassifier</td>\n",
       "      <td>&lt;class 'sktime.classification.feature_based._signature_classifier.SignatureClassifier'&gt;</td>\n",
       "    </tr>\n",
       "    <tr>\n",
       "      <th>33</th>\n",
       "      <td>SimpleRNNClassifier</td>\n",
       "      <td>&lt;class 'sktime.classification.deep_learning.rnn.SimpleRNNClassifier'&gt;</td>\n",
       "    </tr>\n",
       "    <tr>\n",
       "      <th>34</th>\n",
       "      <td>SklearnClassifierPipeline</td>\n",
       "      <td>&lt;class 'sktime.classification.compose._pipeline.SklearnClassifierPipeline'&gt;</td>\n",
       "    </tr>\n",
       "    <tr>\n",
       "      <th>35</th>\n",
       "      <td>SummaryClassifier</td>\n",
       "      <td>&lt;class 'sktime.classification.feature_based._summary_classifier.SummaryClassifier'&gt;</td>\n",
       "    </tr>\n",
       "    <tr>\n",
       "      <th>36</th>\n",
       "      <td>TSCGridSearchCV</td>\n",
       "      <td>&lt;class 'sktime.classification.model_selection._tune.TSCGridSearchCV'&gt;</td>\n",
       "    </tr>\n",
       "    <tr>\n",
       "      <th>37</th>\n",
       "      <td>TSFreshClassifier</td>\n",
       "      <td>&lt;class 'sktime.classification.feature_based._tsfresh_classifier.TSFreshClassifier'&gt;</td>\n",
       "    </tr>\n",
       "    <tr>\n",
       "      <th>38</th>\n",
       "      <td>TapNetClassifier</td>\n",
       "      <td>&lt;class 'sktime.classification.deep_learning.tapnet.TapNetClassifier'&gt;</td>\n",
       "    </tr>\n",
       "    <tr>\n",
       "      <th>39</th>\n",
       "      <td>TemporalDictionaryEnsemble</td>\n",
       "      <td>&lt;class 'sktime.classification.dictionary_based._tde.TemporalDictionaryEnsemble'&gt;</td>\n",
       "    </tr>\n",
       "    <tr>\n",
       "      <th>40</th>\n",
       "      <td>TimeSeriesSVC</td>\n",
       "      <td>&lt;class 'sktime.classification.kernel_based._svc.TimeSeriesSVC'&gt;</td>\n",
       "    </tr>\n",
       "    <tr>\n",
       "      <th>41</th>\n",
       "      <td>TimeSeriesSVCTslearn</td>\n",
       "      <td>&lt;class 'sktime.classification.kernel_based._svc_tslearn.TimeSeriesSVCTslearn'&gt;</td>\n",
       "    </tr>\n",
       "    <tr>\n",
       "      <th>42</th>\n",
       "      <td>WeightedEnsembleClassifier</td>\n",
       "      <td>&lt;class 'sktime.classification.ensemble._weighted.WeightedEnsembleClassifier'&gt;</td>\n",
       "    </tr>\n",
       "  </tbody>\n",
       "</table>\n",
       "</div>"
      ]
     },
     "execution_count": 11,
     "metadata": {},
     "output_type": "execute_result"
    }
   ],
   "execution_count": 11
  },
  {
   "metadata": {
    "ExecuteTime": {
     "end_time": "2025-08-04T12:00:54.521943Z",
     "start_time": "2025-08-04T12:00:37.921022Z"
    }
   },
   "cell_type": "code",
   "source": [
    "data = []\n",
    "labels = []\n",
    "\n",
    "point_files = glob.glob(os.path.join(DATA_ROOT, '点迹/PointTracks_*.txt'))\n",
    "for point_file in point_files:\n",
    "    match_result = re.match(r'PointTracks_(\\d+)_(\\d+)_(\\d+).txt', os.path.basename(point_file))\n",
    "    batch_id = int(match_result.group(1))\n",
    "    label = int(match_result.group(2))\n",
    "    num_tracks = int(match_result.group(3))\n",
    "    if label > NUM_CLASSES or batch_id in ABNORMAL_BATCH_ID:\n",
    "        continue\n",
    "    track_file = os.path.join(DATA_ROOT, f\"航迹/Tracks_{batch_id}_{label}_{num_tracks}.txt\")\n",
    "\n",
    "    preprocessed_data = TrajectoryDataProcessor(point_file, track_file).get_processed_data()\n",
    "    point_df = pl.from_pandas(preprocessed_data['point_data'])\n",
    "    track_df = pl.from_pandas(preprocessed_data['track_data'])\n",
    "    df = point_df.join(track_df, on=[\"时间\", \"批号\"], how=\"left\").sort(\"时间\")\n",
    "    df = process_df(df)\n",
    "    data_batch = df.to_numpy(order='c').astype(np.float64)\n",
    "    data.append(data_batch)\n",
    "    labels.append(label - 1)\n",
    "labels = np.array(labels)"
   ],
   "id": "3635e0fe8a0b8e1d",
   "outputs": [
    {
     "name": "stderr",
     "output_type": "stream",
     "text": [
      "C:\\Users\\27344\\codespace\\codes\\ObjectTracking\\ensemble\\data\\track_preprocess.py:288: FutureWarning: Setting an item of incompatible dtype is deprecated and will raise an error in a future version of pandas. Value '7399314.333333331' has dtype incompatible with int64, please explicitly cast to a compatible dtype first.\n",
      "  series_copy.iloc[i] = predicted_value\n",
      "C:\\Users\\27344\\codespace\\codes\\ObjectTracking\\ensemble\\data\\track_preprocess.py:346: FutureWarning: Setting an item of incompatible dtype is deprecated and will raise an error in a future version of pandas. Value '[5720083.         7640677.         6499358.         7399314.33333333\n",
      " 8561698.         2925092.          582255.         2391100.\n",
      "  858322.         1008002.         4644832.         1809684.\n",
      " 2517474.         3830768.          398214.        ]' has dtype incompatible with int64, please explicitly cast to a compatible dtype first.\n",
      "  processed_data.loc[batch_mask, col] = corrected_series.values\n",
      "C:\\Users\\27344\\codespace\\codes\\ObjectTracking\\ensemble\\data\\track_preprocess.py:288: FutureWarning: Setting an item of incompatible dtype is deprecated and will raise an error in a future version of pandas. Value '1147357.967032967' has dtype incompatible with int64, please explicitly cast to a compatible dtype first.\n",
      "  series_copy.iloc[i] = predicted_value\n",
      "C:\\Users\\27344\\codespace\\codes\\ObjectTracking\\ensemble\\data\\track_preprocess.py:346: FutureWarning: Setting an item of incompatible dtype is deprecated and will raise an error in a future version of pandas. Value '[ 915875.         1168817.          800103.          624738.\n",
      " 1018088.         1036907.         1017761.          969333.\n",
      "  909217.         1004950.         1107930.         1102379.\n",
      " 1255769.         1091109.         1147357.96703297]' has dtype incompatible with int64, please explicitly cast to a compatible dtype first.\n",
      "  processed_data.loc[batch_mask, col] = corrected_series.values\n",
      "C:\\Users\\27344\\codespace\\codes\\ObjectTracking\\ensemble\\data\\track_preprocess.py:288: FutureWarning: Setting an item of incompatible dtype is deprecated and will raise an error in a future version of pandas. Value '943830.0095238095' has dtype incompatible with int64, please explicitly cast to a compatible dtype first.\n",
      "  series_copy.iloc[i] = predicted_value\n",
      "C:\\Users\\27344\\codespace\\codes\\ObjectTracking\\ensemble\\data\\track_preprocess.py:346: FutureWarning: Setting an item of incompatible dtype is deprecated and will raise an error in a future version of pandas. Value '[ 167134.          182655.          854036.           66343.\n",
      "   76424.           77683.           60992.           68746.\n",
      "  110083.          126032.          276345.          201053.\n",
      "  290143.          560800.          725730.          658514.\n",
      "  564820.         2222912.          295911.         1461940.\n",
      "  377184.          943830.00952381  871069.         2187627.        ]' has dtype incompatible with int64, please explicitly cast to a compatible dtype first.\n",
      "  processed_data.loc[batch_mask, col] = corrected_series.values\n",
      "C:\\Users\\27344\\codespace\\codes\\ObjectTracking\\ensemble\\data\\track_preprocess.py:201: RuntimeWarning: Precision loss occurred in moment calculation due to catastrophic cancellation. This occurs when the data are nearly identical. Results may be unreliable.\n",
      "  z_scores = np.abs(zscore(series, nan_policy='omit'))\n",
      "C:\\Users\\27344\\codespace\\codes\\ObjectTracking\\ensemble\\data\\track_preprocess.py:201: RuntimeWarning: Precision loss occurred in moment calculation due to catastrophic cancellation. This occurs when the data are nearly identical. Results may be unreliable.\n",
      "  z_scores = np.abs(zscore(series, nan_policy='omit'))\n",
      "C:\\Users\\27344\\codespace\\codes\\ObjectTracking\\ensemble\\data\\track_preprocess.py:288: FutureWarning: Setting an item of incompatible dtype is deprecated and will raise an error in a future version of pandas. Value '224149.50980392168' has dtype incompatible with int64, please explicitly cast to a compatible dtype first.\n",
      "  series_copy.iloc[i] = predicted_value\n",
      "C:\\Users\\27344\\codespace\\codes\\ObjectTracking\\ensemble\\data\\track_preprocess.py:346: FutureWarning: Setting an item of incompatible dtype is deprecated and will raise an error in a future version of pandas. Value '[403728.         346242.         471604.         184900.\n",
      " 334552.         397870.         116850.         121401.\n",
      " 339887.         327538.         227572.         285675.\n",
      "  64933.          33479.         114263.         374221.\n",
      " 493318.         316377.         224149.50980392]' has dtype incompatible with int64, please explicitly cast to a compatible dtype first.\n",
      "  processed_data.loc[batch_mask, col] = corrected_series.values\n",
      "C:\\Users\\27344\\codespace\\codes\\ObjectTracking\\ensemble\\data\\track_preprocess.py:288: FutureWarning: Setting an item of incompatible dtype is deprecated and will raise an error in a future version of pandas. Value '3286463.125' has dtype incompatible with int64, please explicitly cast to a compatible dtype first.\n",
      "  series_copy.iloc[i] = predicted_value\n",
      "C:\\Users\\27344\\codespace\\codes\\ObjectTracking\\ensemble\\data\\track_preprocess.py:346: FutureWarning: Setting an item of incompatible dtype is deprecated and will raise an error in a future version of pandas. Value '[ 202216.     610216.     382821.     341840.     542907.    1211699.\n",
      "  867345.     573873.    1334238.    3431084.    1207616.     846341.\n",
      " 2558461.    3099717.    3877426.    2794675.    2471750.    3286463.125\n",
      " 4836585.    2402615.    1292262.     511866.      92508.   ]' has dtype incompatible with int64, please explicitly cast to a compatible dtype first.\n",
      "  processed_data.loc[batch_mask, col] = corrected_series.values\n",
      "C:\\Users\\27344\\codespace\\codes\\ObjectTracking\\ensemble\\data\\track_preprocess.py:288: FutureWarning: Setting an item of incompatible dtype is deprecated and will raise an error in a future version of pandas. Value '7250389.813186813' has dtype incompatible with int64, please explicitly cast to a compatible dtype first.\n",
      "  series_copy.iloc[i] = predicted_value\n",
      "C:\\Users\\27344\\codespace\\codes\\ObjectTracking\\ensemble\\data\\track_preprocess.py:346: FutureWarning: Setting an item of incompatible dtype is deprecated and will raise an error in a future version of pandas. Value '[7252989.         7324514.         6888283.         6878666.\n",
      " 7442530.         7866051.         7686855.         6638761.\n",
      " 6835694.         7027168.         6050257.         7190603.\n",
      " 7462065.         8128895.         7250389.81318681]' has dtype incompatible with int64, please explicitly cast to a compatible dtype first.\n",
      "  processed_data.loc[batch_mask, col] = corrected_series.values\n",
      "C:\\Users\\27344\\codespace\\codes\\ObjectTracking\\ensemble\\data\\track_preprocess.py:242: FutureWarning: Setting an item of incompatible dtype is deprecated and will raise an error in a future version of pandas. Value '181311.66666666666' has dtype incompatible with int64, please explicitly cast to a compatible dtype first.\n",
      "  series_copy.iloc[i] = fill_value\n",
      "C:\\Users\\27344\\codespace\\codes\\ObjectTracking\\ensemble\\data\\track_preprocess.py:346: FutureWarning: Setting an item of incompatible dtype is deprecated and will raise an error in a future version of pandas. Value '[181311.66666667 244945.         221524.         286613.\n",
      " 176317.         115497.          98926.         137856.\n",
      "  72619.         223327.         177304.         377876.\n",
      " 134618.          82027.         506502.         181560.\n",
      "  91342.          75489.          59268.        ]' has dtype incompatible with int64, please explicitly cast to a compatible dtype first.\n",
      "  processed_data.loc[batch_mask, col] = corrected_series.values\n",
      "C:\\Users\\27344\\codespace\\codes\\ObjectTracking\\ensemble\\data\\track_preprocess.py:242: FutureWarning: Setting an item of incompatible dtype is deprecated and will raise an error in a future version of pandas. Value '189876.95238095237' has dtype incompatible with int64, please explicitly cast to a compatible dtype first.\n",
      "  series_copy.iloc[i] = fill_value\n",
      "C:\\Users\\27344\\codespace\\codes\\ObjectTracking\\ensemble\\data\\track_preprocess.py:346: FutureWarning: Setting an item of incompatible dtype is deprecated and will raise an error in a future version of pandas. Value '[189876.95238095 509657.          64906.          76099.\n",
      " 158300.          66114.         103181.         711375.\n",
      " 277166.         286314.          65344.         137168.\n",
      "  53992.          79589.         191228.         233869.\n",
      "  83151.         207225.         356634.         220864.\n",
      "  40895.          64345.        ]' has dtype incompatible with int64, please explicitly cast to a compatible dtype first.\n",
      "  processed_data.loc[batch_mask, col] = corrected_series.values\n",
      "C:\\Users\\27344\\codespace\\codes\\ObjectTracking\\ensemble\\data\\track_preprocess.py:201: RuntimeWarning: Precision loss occurred in moment calculation due to catastrophic cancellation. This occurs when the data are nearly identical. Results may be unreliable.\n",
      "  z_scores = np.abs(zscore(series, nan_policy='omit'))\n",
      "C:\\Users\\27344\\codespace\\codes\\ObjectTracking\\ensemble\\data\\track_preprocess.py:288: FutureWarning: Setting an item of incompatible dtype is deprecated and will raise an error in a future version of pandas. Value '798668.1999999996' has dtype incompatible with int64, please explicitly cast to a compatible dtype first.\n",
      "  series_copy.iloc[i] = predicted_value\n",
      "C:\\Users\\27344\\codespace\\codes\\ObjectTracking\\ensemble\\data\\track_preprocess.py:346: FutureWarning: Setting an item of incompatible dtype is deprecated and will raise an error in a future version of pandas. Value '[ 477057.  1236509.  1802225.  3684895.  1695851.   896924.   668438.\n",
      " 1081075.   325366.  1040049.   798668.2  163755.  1029202.  2354866.\n",
      " 2587848.  5054220.   538093.  2272188.   273495.   830066. ]' has dtype incompatible with int64, please explicitly cast to a compatible dtype first.\n",
      "  processed_data.loc[batch_mask, col] = corrected_series.values\n",
      "C:\\Users\\27344\\codespace\\codes\\ObjectTracking\\ensemble\\data\\track_preprocess.py:288: FutureWarning: Setting an item of incompatible dtype is deprecated and will raise an error in a future version of pandas. Value '362532.26373626373' has dtype incompatible with int64, please explicitly cast to a compatible dtype first.\n",
      "  series_copy.iloc[i] = predicted_value\n",
      "C:\\Users\\27344\\codespace\\codes\\ObjectTracking\\ensemble\\data\\track_preprocess.py:346: FutureWarning: Setting an item of incompatible dtype is deprecated and will raise an error in a future version of pandas. Value '[ 97002.         113646.         459760.         166230.\n",
      " 120390.         122371.         142567.         311110.\n",
      " 447636.         422840.         305522.         310240.\n",
      " 215171.         336682.         362532.26373626 284692.\n",
      " 472767.         224539.        ]' has dtype incompatible with int64, please explicitly cast to a compatible dtype first.\n",
      "  processed_data.loc[batch_mask, col] = corrected_series.values\n",
      "C:\\Users\\27344\\codespace\\codes\\ObjectTracking\\ensemble\\data\\track_preprocess.py:288: FutureWarning: Setting an item of incompatible dtype is deprecated and will raise an error in a future version of pandas. Value '991024.5614035085' has dtype incompatible with int64, please explicitly cast to a compatible dtype first.\n",
      "  series_copy.iloc[i] = predicted_value\n",
      "C:\\Users\\27344\\codespace\\codes\\ObjectTracking\\ensemble\\data\\track_preprocess.py:346: FutureWarning: Setting an item of incompatible dtype is deprecated and will raise an error in a future version of pandas. Value '[  95084.           62019.          112560.          256311.\n",
      "  232986.          214351.           85024.           60755.\n",
      "  117349.          344254.          386307.          437187.\n",
      "  239292.          859029.          429197.          472757.\n",
      " 1133452.          782103.         1594510.          991024.56140351]' has dtype incompatible with int64, please explicitly cast to a compatible dtype first.\n",
      "  processed_data.loc[batch_mask, col] = corrected_series.values\n",
      "C:\\Users\\27344\\codespace\\codes\\ObjectTracking\\ensemble\\data\\track_preprocess.py:288: FutureWarning: Setting an item of incompatible dtype is deprecated and will raise an error in a future version of pandas. Value '1062815.4264705884' has dtype incompatible with int64, please explicitly cast to a compatible dtype first.\n",
      "  series_copy.iloc[i] = predicted_value\n",
      "C:\\Users\\27344\\codespace\\codes\\ObjectTracking\\ensemble\\data\\track_preprocess.py:346: FutureWarning: Setting an item of incompatible dtype is deprecated and will raise an error in a future version of pandas. Value '[ 786695.          884978.         1073449.          840494.\n",
      "  806308.          814119.         1003527.          756719.\n",
      " 1136296.          954103.          947248.          862073.\n",
      "  969616.         1084650.         1027549.         1157544.\n",
      "  980464.         1062815.42647059]' has dtype incompatible with int64, please explicitly cast to a compatible dtype first.\n",
      "  processed_data.loc[batch_mask, col] = corrected_series.values\n",
      "C:\\Users\\27344\\codespace\\codes\\ObjectTracking\\ensemble\\data\\track_preprocess.py:288: FutureWarning: Setting an item of incompatible dtype is deprecated and will raise an error in a future version of pandas. Value '2514786.285714286' has dtype incompatible with int64, please explicitly cast to a compatible dtype first.\n",
      "  series_copy.iloc[i] = predicted_value\n",
      "C:\\Users\\27344\\codespace\\codes\\ObjectTracking\\ensemble\\data\\track_preprocess.py:346: FutureWarning: Setting an item of incompatible dtype is deprecated and will raise an error in a future version of pandas. Value '[  70117.          104358.          407461.          426037.\n",
      "  457933.          177953.          178723.          681583.\n",
      "  607014.          160726.          601974.          589157.\n",
      " 1720509.         2027543.         1139509.         1113714.\n",
      "  878838.          865082.         5689073.          582779.\n",
      " 3582244.         2514786.28571429 2649574.         1112277.        ]' has dtype incompatible with int64, please explicitly cast to a compatible dtype first.\n",
      "  processed_data.loc[batch_mask, col] = corrected_series.values\n",
      "C:\\Users\\27344\\codespace\\codes\\ObjectTracking\\ensemble\\data\\track_preprocess.py:288: FutureWarning: Setting an item of incompatible dtype is deprecated and will raise an error in a future version of pandas. Value '2965762.2333333334' has dtype incompatible with int64, please explicitly cast to a compatible dtype first.\n",
      "  series_copy.iloc[i] = predicted_value\n",
      "C:\\Users\\27344\\codespace\\codes\\ObjectTracking\\ensemble\\data\\track_preprocess.py:346: FutureWarning: Setting an item of incompatible dtype is deprecated and will raise an error in a future version of pandas. Value '[1553821.          811099.          812802.          966759.\n",
      " 1527831.         2910680.         3661720.         2366463.\n",
      "  649514.         1182778.         1174386.         2096799.\n",
      " 2613267.         1959834.         2444031.         2335546.\n",
      " 1795550.         2725873.         2234063.         3033770.\n",
      " 3933762.         2965762.23333333 4374450.        ]' has dtype incompatible with int64, please explicitly cast to a compatible dtype first.\n",
      "  processed_data.loc[batch_mask, col] = corrected_series.values\n",
      "C:\\Users\\27344\\codespace\\codes\\ObjectTracking\\ensemble\\data\\track_preprocess.py:288: FutureWarning: Setting an item of incompatible dtype is deprecated and will raise an error in a future version of pandas. Value '742665.893939394' has dtype incompatible with int64, please explicitly cast to a compatible dtype first.\n",
      "  series_copy.iloc[i] = predicted_value\n",
      "C:\\Users\\27344\\codespace\\codes\\ObjectTracking\\ensemble\\data\\track_preprocess.py:346: FutureWarning: Setting an item of incompatible dtype is deprecated and will raise an error in a future version of pandas. Value '[ 76188.         103187.         115334.         134857.\n",
      " 233148.         304310.         453969.         366268.\n",
      " 522831.         728191.         354843.         820235.\n",
      " 742665.89393939 547591.         331404.        ]' has dtype incompatible with int64, please explicitly cast to a compatible dtype first.\n",
      "  processed_data.loc[batch_mask, col] = corrected_series.values\n",
      "C:\\Users\\27344\\codespace\\codes\\ObjectTracking\\ensemble\\data\\track_preprocess.py:201: RuntimeWarning: Precision loss occurred in moment calculation due to catastrophic cancellation. This occurs when the data are nearly identical. Results may be unreliable.\n",
      "  z_scores = np.abs(zscore(series, nan_policy='omit'))\n",
      "C:\\Users\\27344\\codespace\\codes\\ObjectTracking\\ensemble\\data\\track_preprocess.py:242: FutureWarning: Setting an item of incompatible dtype is deprecated and will raise an error in a future version of pandas. Value '285348.39130434784' has dtype incompatible with int64, please explicitly cast to a compatible dtype first.\n",
      "  series_copy.iloc[i] = fill_value\n",
      "C:\\Users\\27344\\codespace\\codes\\ObjectTracking\\ensemble\\data\\track_preprocess.py:346: FutureWarning: Setting an item of incompatible dtype is deprecated and will raise an error in a future version of pandas. Value '[329868.         285348.39130435 208148.         200327.\n",
      " 342521.         809044.          33722.          93612.\n",
      " 908741.         149600.          56145.          34525.\n",
      " 385479.         308171.         202898.          61011.\n",
      " 687458.         191850.         390392.         251761.\n",
      " 234927.         257619.         295986.         129208.        ]' has dtype incompatible with int64, please explicitly cast to a compatible dtype first.\n",
      "  processed_data.loc[batch_mask, col] = corrected_series.values\n",
      "C:\\Users\\27344\\codespace\\codes\\ObjectTracking\\ensemble\\data\\track_preprocess.py:288: FutureWarning: Setting an item of incompatible dtype is deprecated and will raise an error in a future version of pandas. Value '1057582.3142857144' has dtype incompatible with int64, please explicitly cast to a compatible dtype first.\n",
      "  series_copy.iloc[i] = predicted_value\n",
      "C:\\Users\\27344\\codespace\\codes\\ObjectTracking\\ensemble\\data\\track_preprocess.py:346: FutureWarning: Setting an item of incompatible dtype is deprecated and will raise an error in a future version of pandas. Value '[2369380.          583305.         1461648.         3757650.\n",
      " 2138423.          793204.          449706.          495538.\n",
      " 1087440.         1201550.          666887.         1052737.\n",
      "  443378.         2092043.         2146756.         1057582.31428571\n",
      " 2609174.         1597855.         1762914.         1271009.\n",
      "  745442.         1282134.          628947.          680416.        ]' has dtype incompatible with int64, please explicitly cast to a compatible dtype first.\n",
      "  processed_data.loc[batch_mask, col] = corrected_series.values\n",
      "C:\\Users\\27344\\codespace\\codes\\ObjectTracking\\ensemble\\data\\track_preprocess.py:288: FutureWarning: Setting an item of incompatible dtype is deprecated and will raise an error in a future version of pandas. Value '1777413.5000000002' has dtype incompatible with int64, please explicitly cast to a compatible dtype first.\n",
      "  series_copy.iloc[i] = predicted_value\n",
      "C:\\Users\\27344\\codespace\\codes\\ObjectTracking\\ensemble\\data\\track_preprocess.py:346: FutureWarning: Setting an item of incompatible dtype is deprecated and will raise an error in a future version of pandas. Value '[1166968.  1531803.  1702593.  1509601.  1777413.5 1457868.   972706.\n",
      " 1059369.  1113215.  1489114.  1019444.   935432.  1256952.  1012758.\n",
      " 1026066. ]' has dtype incompatible with int64, please explicitly cast to a compatible dtype first.\n",
      "  processed_data.loc[batch_mask, col] = corrected_series.values\n",
      "C:\\Users\\27344\\codespace\\codes\\ObjectTracking\\ensemble\\data\\track_preprocess.py:288: FutureWarning: Setting an item of incompatible dtype is deprecated and will raise an error in a future version of pandas. Value '59632.89999999994' has dtype incompatible with int64, please explicitly cast to a compatible dtype first.\n",
      "  series_copy.iloc[i] = predicted_value\n",
      "C:\\Users\\27344\\codespace\\codes\\ObjectTracking\\ensemble\\data\\track_preprocess.py:346: FutureWarning: Setting an item of incompatible dtype is deprecated and will raise an error in a future version of pandas. Value '[125330.  113079.   58454.   88588.   81360.   59632.9 118433.  330046.\n",
      " 580252.  297128.  363250.  640492.  375120.   94352.  102192.  371682.\n",
      "  46355.  240625.  159872.  566786. ]' has dtype incompatible with int64, please explicitly cast to a compatible dtype first.\n",
      "  processed_data.loc[batch_mask, col] = corrected_series.values\n",
      "C:\\Users\\27344\\codespace\\codes\\ObjectTracking\\ensemble\\data\\track_preprocess.py:288: FutureWarning: Setting an item of incompatible dtype is deprecated and will raise an error in a future version of pandas. Value '888572.5333333331' has dtype incompatible with int64, please explicitly cast to a compatible dtype first.\n",
      "  series_copy.iloc[i] = predicted_value\n",
      "C:\\Users\\27344\\codespace\\codes\\ObjectTracking\\ensemble\\data\\track_preprocess.py:346: FutureWarning: Setting an item of incompatible dtype is deprecated and will raise an error in a future version of pandas. Value '[  64059.           98161.          576088.          480671.\n",
      "  219669.          980875.          888572.53333333 1143645.\n",
      " 1309682.          184933.          102745.          243776.\n",
      "  153175.          117568.           45080.          107380.\n",
      "  311941.          551712.           56516.          146291.\n",
      "  518915.          153864.          445675.          501949.\n",
      "  512184.        ]' has dtype incompatible with int64, please explicitly cast to a compatible dtype first.\n",
      "  processed_data.loc[batch_mask, col] = corrected_series.values\n",
      "C:\\Users\\27344\\codespace\\codes\\ObjectTracking\\ensemble\\data\\track_preprocess.py:288: FutureWarning: Setting an item of incompatible dtype is deprecated and will raise an error in a future version of pandas. Value '180865.59999999998' has dtype incompatible with int64, please explicitly cast to a compatible dtype first.\n",
      "  series_copy.iloc[i] = predicted_value\n",
      "C:\\Users\\27344\\codespace\\codes\\ObjectTracking\\ensemble\\data\\track_preprocess.py:346: FutureWarning: Setting an item of incompatible dtype is deprecated and will raise an error in a future version of pandas. Value '[  50169.    85166.    41799.   105836.   189084.   134543.   180865.6\n",
      " 1400509.   207240.   108399.   154996.   205303.   176414.   288508.\n",
      "  658729.    68550.   702044.    88331.   341695. ]' has dtype incompatible with int64, please explicitly cast to a compatible dtype first.\n",
      "  processed_data.loc[batch_mask, col] = corrected_series.values\n",
      "C:\\Users\\27344\\codespace\\codes\\ObjectTracking\\ensemble\\data\\track_preprocess.py:288: FutureWarning: Setting an item of incompatible dtype is deprecated and will raise an error in a future version of pandas. Value '3052.999999999999' has dtype incompatible with int64, please explicitly cast to a compatible dtype first.\n",
      "  series_copy.iloc[i] = predicted_value\n",
      "C:\\Users\\27344\\codespace\\codes\\ObjectTracking\\ensemble\\data\\track_preprocess.py:346: FutureWarning: Setting an item of incompatible dtype is deprecated and will raise an error in a future version of pandas. Value '[3053. 3053. 3053. 3053. 3053. 3053. 3053. 3053. 3053. 3053. 3053. 3053.\n",
      " 3053. 3053. 3053.]' has dtype incompatible with int64, please explicitly cast to a compatible dtype first.\n",
      "  processed_data.loc[batch_mask, col] = corrected_series.values\n",
      "C:\\Users\\27344\\codespace\\codes\\ObjectTracking\\ensemble\\data\\track_preprocess.py:288: FutureWarning: Setting an item of incompatible dtype is deprecated and will raise an error in a future version of pandas. Value '193740.33333333337' has dtype incompatible with int64, please explicitly cast to a compatible dtype first.\n",
      "  series_copy.iloc[i] = predicted_value\n",
      "C:\\Users\\27344\\codespace\\codes\\ObjectTracking\\ensemble\\data\\track_preprocess.py:346: FutureWarning: Setting an item of incompatible dtype is deprecated and will raise an error in a future version of pandas. Value '[ 876058.          990945.          335598.          193740.33333333\n",
      "  337494.          326637.          743600.          248123.\n",
      "  331489.          523026.          691606.          882415.\n",
      "  638674.          870035.          752595.          964401.\n",
      " 1137653.          980586.          772213.          857549.\n",
      "  937915.          826479.          888832.        ]' has dtype incompatible with int64, please explicitly cast to a compatible dtype first.\n",
      "  processed_data.loc[batch_mask, col] = corrected_series.values\n",
      "C:\\Users\\27344\\codespace\\codes\\ObjectTracking\\ensemble\\data\\track_preprocess.py:288: FutureWarning: Setting an item of incompatible dtype is deprecated and will raise an error in a future version of pandas. Value '1589277.6785714282' has dtype incompatible with int64, please explicitly cast to a compatible dtype first.\n",
      "  series_copy.iloc[i] = predicted_value\n",
      "C:\\Users\\27344\\codespace\\codes\\ObjectTracking\\ensemble\\data\\track_preprocess.py:346: FutureWarning: Setting an item of incompatible dtype is deprecated and will raise an error in a future version of pandas. Value '[  81733.         1048668.          166994.          476354.\n",
      "  390261.          306366.          801231.         2518935.\n",
      " 1589277.67857143  846317.          644953.         1210417.\n",
      "  956199.          609669.         1277429.          689641.\n",
      "  664828.          450597.          364127.          425457.\n",
      "  380063.          314085.          247946.        ]' has dtype incompatible with int64, please explicitly cast to a compatible dtype first.\n",
      "  processed_data.loc[batch_mask, col] = corrected_series.values\n",
      "C:\\Users\\27344\\codespace\\codes\\ObjectTracking\\ensemble\\data\\track_preprocess.py:242: FutureWarning: Setting an item of incompatible dtype is deprecated and will raise an error in a future version of pandas. Value '1063733.608695652' has dtype incompatible with int64, please explicitly cast to a compatible dtype first.\n",
      "  series_copy.iloc[i] = fill_value\n",
      "C:\\Users\\27344\\codespace\\codes\\ObjectTracking\\ensemble\\data\\track_preprocess.py:346: FutureWarning: Setting an item of incompatible dtype is deprecated and will raise an error in a future version of pandas. Value '[1063733.60869565 1281852.         1168882.          948726.\n",
      "  977291.          918819.         1078150.         1081396.\n",
      " 1145277.         1146152.         1005181.         1081687.\n",
      " 1013806.         1092736.         1047540.          974049.\n",
      " 1162384.         1029068.         1185372.         1222716.\n",
      " 1047396.          899148.         1031988.          926257.        ]' has dtype incompatible with int64, please explicitly cast to a compatible dtype first.\n",
      "  processed_data.loc[batch_mask, col] = corrected_series.values\n",
      "C:\\Users\\27344\\codespace\\codes\\ObjectTracking\\ensemble\\data\\track_preprocess.py:288: FutureWarning: Setting an item of incompatible dtype is deprecated and will raise an error in a future version of pandas. Value '1063721.576923077' has dtype incompatible with int64, please explicitly cast to a compatible dtype first.\n",
      "  series_copy.iloc[i] = predicted_value\n",
      "C:\\Users\\27344\\codespace\\codes\\ObjectTracking\\ensemble\\data\\track_preprocess.py:346: FutureWarning: Setting an item of incompatible dtype is deprecated and will raise an error in a future version of pandas. Value '[1127560.         1077009.          950363.         1131488.\n",
      " 1132308.         1130213.         1219238.         1145624.\n",
      " 1194323.         1157586.         1245370.          981033.\n",
      "  815001.         1063721.57692308]' has dtype incompatible with int64, please explicitly cast to a compatible dtype first.\n",
      "  processed_data.loc[batch_mask, col] = corrected_series.values\n",
      "C:\\Users\\27344\\codespace\\codes\\ObjectTracking\\ensemble\\data\\track_preprocess.py:288: FutureWarning: Setting an item of incompatible dtype is deprecated and will raise an error in a future version of pandas. Value '1159538.8441558443' has dtype incompatible with int64, please explicitly cast to a compatible dtype first.\n",
      "  series_copy.iloc[i] = predicted_value\n",
      "C:\\Users\\27344\\codespace\\codes\\ObjectTracking\\ensemble\\data\\track_preprocess.py:346: FutureWarning: Setting an item of incompatible dtype is deprecated and will raise an error in a future version of pandas. Value '[ 569299.          838992.          921961.          927486.\n",
      " 1014496.         1189968.         1105142.         1274721.\n",
      " 1050372.         1166087.         1068904.         1077675.\n",
      " 1092328.         1045436.          976707.         1101861.\n",
      " 1146661.         1128731.         1241318.         1177889.\n",
      " 1244403.          663724.         1159538.84415584]' has dtype incompatible with int64, please explicitly cast to a compatible dtype first.\n",
      "  processed_data.loc[batch_mask, col] = corrected_series.values\n",
      "C:\\Users\\27344\\codespace\\codes\\ObjectTracking\\ensemble\\data\\track_preprocess.py:288: FutureWarning: Setting an item of incompatible dtype is deprecated and will raise an error in a future version of pandas. Value '760307.5' has dtype incompatible with int64, please explicitly cast to a compatible dtype first.\n",
      "  series_copy.iloc[i] = predicted_value\n",
      "C:\\Users\\27344\\codespace\\codes\\ObjectTracking\\ensemble\\data\\track_preprocess.py:346: FutureWarning: Setting an item of incompatible dtype is deprecated and will raise an error in a future version of pandas. Value '[ 119822.   209158.   334331.   653053.   760307.5  329846.   364227.\n",
      " 1029253.   121167.   680164.   135248.   233099.    88754.   250738.\n",
      "  368788.   183602.    87660.    98328. ]' has dtype incompatible with int64, please explicitly cast to a compatible dtype first.\n",
      "  processed_data.loc[batch_mask, col] = corrected_series.values\n",
      "C:\\Users\\27344\\codespace\\codes\\ObjectTracking\\ensemble\\data\\track_preprocess.py:288: FutureWarning: Setting an item of incompatible dtype is deprecated and will raise an error in a future version of pandas. Value '6313716.095238095' has dtype incompatible with int64, please explicitly cast to a compatible dtype first.\n",
      "  series_copy.iloc[i] = predicted_value\n",
      "C:\\Users\\27344\\codespace\\codes\\ObjectTracking\\ensemble\\data\\track_preprocess.py:346: FutureWarning: Setting an item of incompatible dtype is deprecated and will raise an error in a future version of pandas. Value '[ 8454733.         7328317.         8372645.         5385514.\n",
      "  5059707.         7700756.         5892733.         6944628.\n",
      "  7463466.         7429115.         9081541.         6670929.\n",
      "  5908685.         6838929.         6305914.         5921400.\n",
      "  5558385.         4054539.         5346376.         5952067.\n",
      " 10646719.         6313716.0952381  4498999.         6563507.\n",
      "  8253192.       ]' has dtype incompatible with int64, please explicitly cast to a compatible dtype first.\n",
      "  processed_data.loc[batch_mask, col] = corrected_series.values\n",
      "C:\\Users\\27344\\codespace\\codes\\ObjectTracking\\ensemble\\data\\track_preprocess.py:288: FutureWarning: Setting an item of incompatible dtype is deprecated and will raise an error in a future version of pandas. Value '1343169.5047619047' has dtype incompatible with int64, please explicitly cast to a compatible dtype first.\n",
      "  series_copy.iloc[i] = predicted_value\n",
      "C:\\Users\\27344\\codespace\\codes\\ObjectTracking\\ensemble\\data\\track_preprocess.py:346: FutureWarning: Setting an item of incompatible dtype is deprecated and will raise an error in a future version of pandas. Value '[  42928.          75045.         104407.         169796.\n",
      "  236223.         259707.         433239.         242086.\n",
      "  696498.         929848.        1295526.         517305.\n",
      " 1240223.        1086357.        1316952.        1343169.5047619]' has dtype incompatible with int64, please explicitly cast to a compatible dtype first.\n",
      "  processed_data.loc[batch_mask, col] = corrected_series.values\n",
      "C:\\Users\\27344\\codespace\\codes\\ObjectTracking\\ensemble\\data\\track_preprocess.py:288: FutureWarning: Setting an item of incompatible dtype is deprecated and will raise an error in a future version of pandas. Value '189634.1999999999' has dtype incompatible with int64, please explicitly cast to a compatible dtype first.\n",
      "  series_copy.iloc[i] = predicted_value\n",
      "C:\\Users\\27344\\codespace\\codes\\ObjectTracking\\ensemble\\data\\track_preprocess.py:346: FutureWarning: Setting an item of incompatible dtype is deprecated and will raise an error in a future version of pandas. Value '[ 42449.  138182.  111178.  191457.  169428.  127012.  189634.2 166945.\n",
      " 323867.   77350.   46293.   75225.  102949.  116027.  211173.  268829. ]' has dtype incompatible with int64, please explicitly cast to a compatible dtype first.\n",
      "  processed_data.loc[batch_mask, col] = corrected_series.values\n",
      "C:\\Users\\27344\\codespace\\codes\\ObjectTracking\\ensemble\\data\\track_preprocess.py:288: FutureWarning: Setting an item of incompatible dtype is deprecated and will raise an error in a future version of pandas. Value '1091235.0999999999' has dtype incompatible with int64, please explicitly cast to a compatible dtype first.\n",
      "  series_copy.iloc[i] = predicted_value\n",
      "C:\\Users\\27344\\codespace\\codes\\ObjectTracking\\ensemble\\data\\track_preprocess.py:346: FutureWarning: Setting an item of incompatible dtype is deprecated and will raise an error in a future version of pandas. Value '[  69717.   865510.   415276.   540213.  1065639.  1091235.1  204877.\n",
      " 1415322.   826904.   147257.   248321.   924661. ]' has dtype incompatible with int64, please explicitly cast to a compatible dtype first.\n",
      "  processed_data.loc[batch_mask, col] = corrected_series.values\n",
      "C:\\Users\\27344\\codespace\\codes\\ObjectTracking\\ensemble\\data\\track_preprocess.py:288: FutureWarning: Setting an item of incompatible dtype is deprecated and will raise an error in a future version of pandas. Value '348526.0784313729' has dtype incompatible with int64, please explicitly cast to a compatible dtype first.\n",
      "  series_copy.iloc[i] = predicted_value\n",
      "C:\\Users\\27344\\codespace\\codes\\ObjectTracking\\ensemble\\data\\track_preprocess.py:346: FutureWarning: Setting an item of incompatible dtype is deprecated and will raise an error in a future version of pandas. Value '[1077757.          909437.          662420.          707964.\n",
      "  323896.          560926.          697582.          299410.\n",
      " 1018824.          273024.         1051358.          303532.\n",
      " 1271118.          165662.           70084.           59640.\n",
      " 1008261.          215142.          348526.07843137 2642766.\n",
      "  519064.          600978.          655661.        ]' has dtype incompatible with int64, please explicitly cast to a compatible dtype first.\n",
      "  processed_data.loc[batch_mask, col] = corrected_series.values\n",
      "C:\\Users\\27344\\codespace\\codes\\ObjectTracking\\ensemble\\data\\track_preprocess.py:288: FutureWarning: Setting an item of incompatible dtype is deprecated and will raise an error in a future version of pandas. Value '5441591.999999997' has dtype incompatible with int64, please explicitly cast to a compatible dtype first.\n",
      "  series_copy.iloc[i] = predicted_value\n",
      "C:\\Users\\27344\\codespace\\codes\\ObjectTracking\\ensemble\\data\\track_preprocess.py:346: FutureWarning: Setting an item of incompatible dtype is deprecated and will raise an error in a future version of pandas. Value '[7657686. 6549639. 5441592. 5895515. 7351084. 7030995. 7369780. 7758604.\n",
      " 6344391. 6766711. 8046887. 7551799. 7619239. 6988433. 5342174. 6152269.\n",
      " 7197063. 7792708. 8076325.]' has dtype incompatible with int64, please explicitly cast to a compatible dtype first.\n",
      "  processed_data.loc[batch_mask, col] = corrected_series.values\n",
      "C:\\Users\\27344\\codespace\\codes\\ObjectTracking\\ensemble\\data\\track_preprocess.py:288: FutureWarning: Setting an item of incompatible dtype is deprecated and will raise an error in a future version of pandas. Value '536615.2545454546' has dtype incompatible with int64, please explicitly cast to a compatible dtype first.\n",
      "  series_copy.iloc[i] = predicted_value\n",
      "C:\\Users\\27344\\codespace\\codes\\ObjectTracking\\ensemble\\data\\track_preprocess.py:346: FutureWarning: Setting an item of incompatible dtype is deprecated and will raise an error in a future version of pandas. Value '[  37428.          223733.          121451.          179958.\n",
      "   63133.           99834.          757301.          109306.\n",
      "  542864.          427998.          467887.          536615.25454545\n",
      " 1061273.           87295.          308229.        ]' has dtype incompatible with int64, please explicitly cast to a compatible dtype first.\n",
      "  processed_data.loc[batch_mask, col] = corrected_series.values\n",
      "C:\\Users\\27344\\codespace\\codes\\ObjectTracking\\ensemble\\data\\track_preprocess.py:288: FutureWarning: Setting an item of incompatible dtype is deprecated and will raise an error in a future version of pandas. Value '1172151.4999999972' has dtype incompatible with int64, please explicitly cast to a compatible dtype first.\n",
      "  series_copy.iloc[i] = predicted_value\n",
      "C:\\Users\\27344\\codespace\\codes\\ObjectTracking\\ensemble\\data\\track_preprocess.py:346: FutureWarning: Setting an item of incompatible dtype is deprecated and will raise an error in a future version of pandas. Value '[4348389.  8744330.  2761389.  2078787.  2742836.  1172151.5 1418884.\n",
      " 2073720.  3344263.  2429597.  2885356.  1920081.   395986.  2179034.\n",
      " 2734168.  1097105.  1734135.  3092911.  2447015.  1481470. ]' has dtype incompatible with int64, please explicitly cast to a compatible dtype first.\n",
      "  processed_data.loc[batch_mask, col] = corrected_series.values\n",
      "C:\\Users\\27344\\codespace\\codes\\ObjectTracking\\ensemble\\data\\track_preprocess.py:288: FutureWarning: Setting an item of incompatible dtype is deprecated and will raise an error in a future version of pandas. Value '1448792.2637362638' has dtype incompatible with int64, please explicitly cast to a compatible dtype first.\n",
      "  series_copy.iloc[i] = predicted_value\n",
      "C:\\Users\\27344\\codespace\\codes\\ObjectTracking\\ensemble\\data\\track_preprocess.py:346: FutureWarning: Setting an item of incompatible dtype is deprecated and will raise an error in a future version of pandas. Value '[ 985597.          376473.          838835.           88044.\n",
      "  313284.          961958.          324545.           93010.\n",
      "  512672.          408335.          282295.         2326624.\n",
      "  771566.         2701176.         1448792.26373626 1522247.\n",
      " 1449171.          771913.         2062722.         2279762.\n",
      " 2999852.        ]' has dtype incompatible with int64, please explicitly cast to a compatible dtype first.\n",
      "  processed_data.loc[batch_mask, col] = corrected_series.values\n",
      "C:\\Users\\27344\\codespace\\codes\\ObjectTracking\\ensemble\\data\\track_preprocess.py:288: FutureWarning: Setting an item of incompatible dtype is deprecated and will raise an error in a future version of pandas. Value '1711739.2666666661' has dtype incompatible with int64, please explicitly cast to a compatible dtype first.\n",
      "  series_copy.iloc[i] = predicted_value\n",
      "C:\\Users\\27344\\codespace\\codes\\ObjectTracking\\ensemble\\data\\track_preprocess.py:346: FutureWarning: Setting an item of incompatible dtype is deprecated and will raise an error in a future version of pandas. Value '[1246114.         1764520.          883788.          917144.\n",
      "  217985.         2935744.         1711739.26666667 3660757.\n",
      " 1489394.         1165908.          764942.         1246571.\n",
      " 1570768.          503745.         1592488.          242379.\n",
      "  964795.          274370.         1324221.          455050.\n",
      "  212148.         1052055.         1542267.        ]' has dtype incompatible with int64, please explicitly cast to a compatible dtype first.\n",
      "  processed_data.loc[batch_mask, col] = corrected_series.values\n",
      "C:\\Users\\27344\\codespace\\codes\\ObjectTracking\\ensemble\\data\\track_preprocess.py:288: FutureWarning: Setting an item of incompatible dtype is deprecated and will raise an error in a future version of pandas. Value '469070.33333333314' has dtype incompatible with int64, please explicitly cast to a compatible dtype first.\n",
      "  series_copy.iloc[i] = predicted_value\n",
      "C:\\Users\\27344\\codespace\\codes\\ObjectTracking\\ensemble\\data\\track_preprocess.py:346: FutureWarning: Setting an item of incompatible dtype is deprecated and will raise an error in a future version of pandas. Value '[1019358.          891731.          638549.          469070.33333333\n",
      "  402276.          607195.          167670.          831942.\n",
      "  218406.          276142.          279990.          236179.\n",
      "  127806.          663551.          372458.           91557.        ]' has dtype incompatible with int64, please explicitly cast to a compatible dtype first.\n",
      "  processed_data.loc[batch_mask, col] = corrected_series.values\n",
      "C:\\Users\\27344\\codespace\\codes\\ObjectTracking\\ensemble\\data\\track_preprocess.py:242: FutureWarning: Setting an item of incompatible dtype is deprecated and will raise an error in a future version of pandas. Value '332609.93333333335' has dtype incompatible with int64, please explicitly cast to a compatible dtype first.\n",
      "  series_copy.iloc[i] = fill_value\n",
      "C:\\Users\\27344\\codespace\\codes\\ObjectTracking\\ensemble\\data\\track_preprocess.py:346: FutureWarning: Setting an item of incompatible dtype is deprecated and will raise an error in a future version of pandas. Value '[237575.         332609.93333333 590594.         391644.\n",
      "  52986.         418885.         396853.         291756.\n",
      " 573845.         184791.         139689.         226390.\n",
      " 153691.         600631.         378972.         350847.        ]' has dtype incompatible with int64, please explicitly cast to a compatible dtype first.\n",
      "  processed_data.loc[batch_mask, col] = corrected_series.values\n",
      "C:\\Users\\27344\\codespace\\codes\\ObjectTracking\\ensemble\\data\\track_preprocess.py:288: FutureWarning: Setting an item of incompatible dtype is deprecated and will raise an error in a future version of pandas. Value '320459.19999999925' has dtype incompatible with int64, please explicitly cast to a compatible dtype first.\n",
      "  series_copy.iloc[i] = predicted_value\n",
      "C:\\Users\\27344\\codespace\\codes\\ObjectTracking\\ensemble\\data\\track_preprocess.py:346: FutureWarning: Setting an item of incompatible dtype is deprecated and will raise an error in a future version of pandas. Value '[1210245.   622514.   148082.   197733.   740375.   742295.  1125694.\n",
      "  450382.   109996.   312863.   320459.2   96991.   271524.    81055.\n",
      "  545586.  1012871.   262396.  1061448.   691911.   531735.   249711.\n",
      "  438340.   725847.   724320.   496506. ]' has dtype incompatible with int64, please explicitly cast to a compatible dtype first.\n",
      "  processed_data.loc[batch_mask, col] = corrected_series.values\n",
      "C:\\Users\\27344\\codespace\\codes\\ObjectTracking\\ensemble\\data\\track_preprocess.py:288: FutureWarning: Setting an item of incompatible dtype is deprecated and will raise an error in a future version of pandas. Value '196058.0606060605' has dtype incompatible with int64, please explicitly cast to a compatible dtype first.\n",
      "  series_copy.iloc[i] = predicted_value\n",
      "C:\\Users\\27344\\codespace\\codes\\ObjectTracking\\ensemble\\data\\track_preprocess.py:346: FutureWarning: Setting an item of incompatible dtype is deprecated and will raise an error in a future version of pandas. Value '[226384.          55111.         475423.         147887.\n",
      " 358874.          62523.          71860.         479088.\n",
      " 144944.         193033.         142963.         225085.\n",
      " 196058.06060606 951396.         110137.         155801.\n",
      "  67146.         223475.         249516.          90419.\n",
      " 127729.         317111.         527659.         119321.\n",
      " 208146.         456419.         477808.          80451.\n",
      " 106874.        ]' has dtype incompatible with int64, please explicitly cast to a compatible dtype first.\n",
      "  processed_data.loc[batch_mask, col] = corrected_series.values\n",
      "C:\\Users\\27344\\codespace\\codes\\ObjectTracking\\ensemble\\data\\track_preprocess.py:201: RuntimeWarning: Precision loss occurred in moment calculation due to catastrophic cancellation. This occurs when the data are nearly identical. Results may be unreliable.\n",
      "  z_scores = np.abs(zscore(series, nan_policy='omit'))\n",
      "C:\\Users\\27344\\codespace\\codes\\ObjectTracking\\ensemble\\data\\track_preprocess.py:201: RuntimeWarning: Precision loss occurred in moment calculation due to catastrophic cancellation. This occurs when the data are nearly identical. Results may be unreliable.\n",
      "  z_scores = np.abs(zscore(series, nan_policy='omit'))\n",
      "C:\\Users\\27344\\codespace\\codes\\ObjectTracking\\ensemble\\data\\track_preprocess.py:288: FutureWarning: Setting an item of incompatible dtype is deprecated and will raise an error in a future version of pandas. Value '1472773.2499999995' has dtype incompatible with int64, please explicitly cast to a compatible dtype first.\n",
      "  series_copy.iloc[i] = predicted_value\n",
      "C:\\Users\\27344\\codespace\\codes\\ObjectTracking\\ensemble\\data\\track_preprocess.py:346: FutureWarning: Setting an item of incompatible dtype is deprecated and will raise an error in a future version of pandas. Value '[  51741.     45171.    349671.    521064.   1072432.    384729.\n",
      "  506365.   1934147.   1472773.25  113699.    427445.    160502.\n",
      "  511681.    462155.    167381.  ]' has dtype incompatible with int64, please explicitly cast to a compatible dtype first.\n",
      "  processed_data.loc[batch_mask, col] = corrected_series.values\n",
      "C:\\Users\\27344\\codespace\\codes\\ObjectTracking\\ensemble\\data\\track_preprocess.py:288: FutureWarning: Setting an item of incompatible dtype is deprecated and will raise an error in a future version of pandas. Value '3141995.100000001' has dtype incompatible with int64, please explicitly cast to a compatible dtype first.\n",
      "  series_copy.iloc[i] = predicted_value\n",
      "C:\\Users\\27344\\codespace\\codes\\ObjectTracking\\ensemble\\data\\track_preprocess.py:346: FutureWarning: Setting an item of incompatible dtype is deprecated and will raise an error in a future version of pandas. Value '[ 463550.   119721.   675379.   600362.  3630163.  3141995.1 1755345.\n",
      " 1871099.   908397.   796026.  1273483.  1015780.  1460273.   767924.\n",
      "   84914.   275389.    65046.   214639.   202296.   462973.   171005.\n",
      "  126594.   384545.   276342.   141039.   841085.   158188. ]' has dtype incompatible with int64, please explicitly cast to a compatible dtype first.\n",
      "  processed_data.loc[batch_mask, col] = corrected_series.values\n",
      "C:\\Users\\27344\\codespace\\codes\\ObjectTracking\\ensemble\\data\\track_preprocess.py:288: FutureWarning: Setting an item of incompatible dtype is deprecated and will raise an error in a future version of pandas. Value '1057543.7362637362' has dtype incompatible with int64, please explicitly cast to a compatible dtype first.\n",
      "  series_copy.iloc[i] = predicted_value\n",
      "C:\\Users\\27344\\codespace\\codes\\ObjectTracking\\ensemble\\data\\track_preprocess.py:346: FutureWarning: Setting an item of incompatible dtype is deprecated and will raise an error in a future version of pandas. Value '[ 387267.          455870.          984696.         1117862.\n",
      "  263386.          570673.          568066.          292854.\n",
      "  925856.          937439.          711676.         1619747.\n",
      " 1244461.          565702.         1057543.73626374 2205032.\n",
      " 1110492.          411958.          831712.         1867907.        ]' has dtype incompatible with int64, please explicitly cast to a compatible dtype first.\n",
      "  processed_data.loc[batch_mask, col] = corrected_series.values\n",
      "C:\\Users\\27344\\codespace\\codes\\ObjectTracking\\ensemble\\data\\track_preprocess.py:288: FutureWarning: Setting an item of incompatible dtype is deprecated and will raise an error in a future version of pandas. Value '2934249.7424242427' has dtype incompatible with int64, please explicitly cast to a compatible dtype first.\n",
      "  series_copy.iloc[i] = predicted_value\n",
      "C:\\Users\\27344\\codespace\\codes\\ObjectTracking\\ensemble\\data\\track_preprocess.py:346: FutureWarning: Setting an item of incompatible dtype is deprecated and will raise an error in a future version of pandas. Value '[ 620683.          718324.          750188.          303491.\n",
      " 2947604.          694645.          612062.         1496435.\n",
      " 2158533.         4738246.          252339.         3497738.\n",
      " 2934249.74242424 1221564.          941692.         1175550.\n",
      " 4312685.         3879285.          822425.          585205.\n",
      " 1841928.          321636.         2535272.         1702091.\n",
      "  871843.        ]' has dtype incompatible with int64, please explicitly cast to a compatible dtype first.\n",
      "  processed_data.loc[batch_mask, col] = corrected_series.values\n",
      "C:\\Users\\27344\\codespace\\codes\\ObjectTracking\\ensemble\\data\\track_preprocess.py:288: FutureWarning: Setting an item of incompatible dtype is deprecated and will raise an error in a future version of pandas. Value '5574291.714285714' has dtype incompatible with int64, please explicitly cast to a compatible dtype first.\n",
      "  series_copy.iloc[i] = predicted_value\n",
      "C:\\Users\\27344\\codespace\\codes\\ObjectTracking\\ensemble\\data\\track_preprocess.py:346: FutureWarning: Setting an item of incompatible dtype is deprecated and will raise an error in a future version of pandas. Value '[2735613.         2970461.         2258267.         6767974.\n",
      " 3592605.         6405595.         3572940.         5574291.71428571\n",
      " 2107774.         7069523.         3720142.         3046891.\n",
      " 1756568.         1654345.         2969027.         5003045.\n",
      "  472454.         3470223.         2394056.        ]' has dtype incompatible with int64, please explicitly cast to a compatible dtype first.\n",
      "  processed_data.loc[batch_mask, col] = corrected_series.values\n",
      "C:\\Users\\27344\\codespace\\codes\\ObjectTracking\\ensemble\\data\\track_preprocess.py:288: FutureWarning: Setting an item of incompatible dtype is deprecated and will raise an error in a future version of pandas. Value '4314826.333333331' has dtype incompatible with int64, please explicitly cast to a compatible dtype first.\n",
      "  series_copy.iloc[i] = predicted_value\n",
      "C:\\Users\\27344\\codespace\\codes\\ObjectTracking\\ensemble\\data\\track_preprocess.py:346: FutureWarning: Setting an item of incompatible dtype is deprecated and will raise an error in a future version of pandas. Value '[4246413.         4793585.         4160930.         4314826.33333333\n",
      " 4840833.         4692021.         4929021.         4964277.\n",
      " 2475460.         1713413.         2418921.         2852613.\n",
      " 1317981.         3975958.         3546407.         2403578.\n",
      "  635425.         2007947.         2687299.         4203100.\n",
      " 1784691.         2777107.         4519876.        ]' has dtype incompatible with int64, please explicitly cast to a compatible dtype first.\n",
      "  processed_data.loc[batch_mask, col] = corrected_series.values\n",
      "C:\\Users\\27344\\codespace\\codes\\ObjectTracking\\ensemble\\data\\track_preprocess.py:288: FutureWarning: Setting an item of incompatible dtype is deprecated and will raise an error in a future version of pandas. Value '63046.666666666555' has dtype incompatible with int64, please explicitly cast to a compatible dtype first.\n",
      "  series_copy.iloc[i] = predicted_value\n",
      "C:\\Users\\27344\\codespace\\codes\\ObjectTracking\\ensemble\\data\\track_preprocess.py:346: FutureWarning: Setting an item of incompatible dtype is deprecated and will raise an error in a future version of pandas. Value '[145516.         160257.         100575.         190766.\n",
      " 104508.         122842.          91855.          95100.\n",
      "  74080.          71130.          63046.66666667  73613.\n",
      "  66219.          74157.          80493.          76528.        ]' has dtype incompatible with int64, please explicitly cast to a compatible dtype first.\n",
      "  processed_data.loc[batch_mask, col] = corrected_series.values\n",
      "C:\\Users\\27344\\codespace\\codes\\ObjectTracking\\ensemble\\data\\track_preprocess.py:288: FutureWarning: Setting an item of incompatible dtype is deprecated and will raise an error in a future version of pandas. Value '173645.57692307694' has dtype incompatible with int64, please explicitly cast to a compatible dtype first.\n",
      "  series_copy.iloc[i] = predicted_value\n",
      "C:\\Users\\27344\\codespace\\codes\\ObjectTracking\\ensemble\\data\\track_preprocess.py:346: FutureWarning: Setting an item of incompatible dtype is deprecated and will raise an error in a future version of pandas. Value '[ 98098.         102580.          73006.          39318.\n",
      " 200003.          89027.          33517.         207315.\n",
      "  75149.         103565.          88131.         271382.\n",
      " 171920.         173645.57692308 128257.         143885.\n",
      "  81398.          82285.        ]' has dtype incompatible with int64, please explicitly cast to a compatible dtype first.\n",
      "  processed_data.loc[batch_mask, col] = corrected_series.values\n",
      "C:\\Users\\27344\\codespace\\codes\\ObjectTracking\\ensemble\\data\\track_preprocess.py:288: FutureWarning: Setting an item of incompatible dtype is deprecated and will raise an error in a future version of pandas. Value '931985.5333333329' has dtype incompatible with int64, please explicitly cast to a compatible dtype first.\n",
      "  series_copy.iloc[i] = predicted_value\n",
      "C:\\Users\\27344\\codespace\\codes\\ObjectTracking\\ensemble\\data\\track_preprocess.py:346: FutureWarning: Setting an item of incompatible dtype is deprecated and will raise an error in a future version of pandas. Value '[  83934.          566794.          360359.         1185501.\n",
      "  585034.          633544.          931985.53333333 1252108.\n",
      "  664831.           94342.           90120.          144029.\n",
      "   59067.           74229.          928931.          310328.\n",
      "  431007.          869737.          541828.        ]' has dtype incompatible with int64, please explicitly cast to a compatible dtype first.\n",
      "  processed_data.loc[batch_mask, col] = corrected_series.values\n",
      "C:\\Users\\27344\\codespace\\codes\\ObjectTracking\\ensemble\\data\\track_preprocess.py:288: FutureWarning: Setting an item of incompatible dtype is deprecated and will raise an error in a future version of pandas. Value '-83132.3333333336' has dtype incompatible with int64, please explicitly cast to a compatible dtype first.\n",
      "  series_copy.iloc[i] = predicted_value\n",
      "C:\\Users\\27344\\codespace\\codes\\ObjectTracking\\ensemble\\data\\track_preprocess.py:346: FutureWarning: Setting an item of incompatible dtype is deprecated and will raise an error in a future version of pandas. Value '[663829.         441857.         159101.         -83132.33333333\n",
      " 344269.         103717.         165373.         360854.\n",
      " 268013.         211209.         136539.         200023.\n",
      "  89453.         191998.          58544.         103474.\n",
      " 420012.         561466.         334952.        ]' has dtype incompatible with int64, please explicitly cast to a compatible dtype first.\n",
      "  processed_data.loc[batch_mask, col] = corrected_series.values\n",
      "C:\\Users\\27344\\codespace\\codes\\ObjectTracking\\ensemble\\data\\track_preprocess.py:288: FutureWarning: Setting an item of incompatible dtype is deprecated and will raise an error in a future version of pandas. Value '66667.8368421052' has dtype incompatible with int64, please explicitly cast to a compatible dtype first.\n",
      "  series_copy.iloc[i] = predicted_value\n",
      "C:\\Users\\27344\\codespace\\codes\\ObjectTracking\\ensemble\\data\\track_preprocess.py:346: FutureWarning: Setting an item of incompatible dtype is deprecated and will raise an error in a future version of pandas. Value '[161689.         135553.         376423.         124100.\n",
      "  90579.         217763.          65296.         112480.\n",
      " 123209.          63753.          89534.         108267.\n",
      " 104353.         106490.          92725.         100109.\n",
      "  37383.          61547.          36648.         231197.\n",
      "  66667.83684211  45378.         102597.          59484.\n",
      "  47388.        ]' has dtype incompatible with int64, please explicitly cast to a compatible dtype first.\n",
      "  processed_data.loc[batch_mask, col] = corrected_series.values\n",
      "C:\\Users\\27344\\codespace\\codes\\ObjectTracking\\ensemble\\data\\track_preprocess.py:288: FutureWarning: Setting an item of incompatible dtype is deprecated and will raise an error in a future version of pandas. Value '151440.07272727275' has dtype incompatible with int64, please explicitly cast to a compatible dtype first.\n",
      "  series_copy.iloc[i] = predicted_value\n",
      "C:\\Users\\27344\\codespace\\codes\\ObjectTracking\\ensemble\\data\\track_preprocess.py:346: FutureWarning: Setting an item of incompatible dtype is deprecated and will raise an error in a future version of pandas. Value '[572153.         188020.         196964.          90354.\n",
      " 154355.         641772.          97465.          75228.\n",
      " 385887.          77604.         219930.         151440.07272727\n",
      "  62254.         400663.         274524.         167645.        ]' has dtype incompatible with int64, please explicitly cast to a compatible dtype first.\n",
      "  processed_data.loc[batch_mask, col] = corrected_series.values\n",
      "C:\\Users\\27344\\codespace\\codes\\ObjectTracking\\ensemble\\data\\track_preprocess.py:288: FutureWarning: Setting an item of incompatible dtype is deprecated and will raise an error in a future version of pandas. Value '533805.6666666667' has dtype incompatible with int64, please explicitly cast to a compatible dtype first.\n",
      "  series_copy.iloc[i] = predicted_value\n",
      "C:\\Users\\27344\\codespace\\codes\\ObjectTracking\\ensemble\\data\\track_preprocess.py:346: FutureWarning: Setting an item of incompatible dtype is deprecated and will raise an error in a future version of pandas. Value '[ 55371.         636787.         268843.         533805.66666667\n",
      " 273094.         175408.         305707.         140342.\n",
      " 371085.         126662.         122458.          98023.\n",
      " 158881.         211312.         177766.         146155.\n",
      " 194196.        ]' has dtype incompatible with int64, please explicitly cast to a compatible dtype first.\n",
      "  processed_data.loc[batch_mask, col] = corrected_series.values\n",
      "C:\\Users\\27344\\codespace\\codes\\ObjectTracking\\ensemble\\data\\track_preprocess.py:288: FutureWarning: Setting an item of incompatible dtype is deprecated and will raise an error in a future version of pandas. Value '1002494.9999999995' has dtype incompatible with int64, please explicitly cast to a compatible dtype first.\n",
      "  series_copy.iloc[i] = predicted_value\n",
      "C:\\Users\\27344\\codespace\\codes\\ObjectTracking\\ensemble\\data\\track_preprocess.py:346: FutureWarning: Setting an item of incompatible dtype is deprecated and will raise an error in a future version of pandas. Value '[ 541757.  772126. 1002495.  312043.  290602.  482356.  620899.  590520.\n",
      "  232631.  351931.   47503.   42029.   57489.   32987.   87142.   34584.\n",
      "  263405.  404982.  287238.]' has dtype incompatible with int64, please explicitly cast to a compatible dtype first.\n",
      "  processed_data.loc[batch_mask, col] = corrected_series.values\n",
      "C:\\Users\\27344\\codespace\\codes\\ObjectTracking\\ensemble\\data\\track_preprocess.py:288: FutureWarning: Setting an item of incompatible dtype is deprecated and will raise an error in a future version of pandas. Value '-57115.000000000175' has dtype incompatible with int64, please explicitly cast to a compatible dtype first.\n",
      "  series_copy.iloc[i] = predicted_value\n",
      "C:\\Users\\27344\\codespace\\codes\\ObjectTracking\\ensemble\\data\\track_preprocess.py:346: FutureWarning: Setting an item of incompatible dtype is deprecated and will raise an error in a future version of pandas. Value '[343327. 143106. -57115.  74270. 202941.  33837. 123338.  61928.  43765.\n",
      " 154543. 109298. 103207. 102187. 156149. 120890. 135754.  91328. 188895.\n",
      "  96424. 136129. 194164.]' has dtype incompatible with int64, please explicitly cast to a compatible dtype first.\n",
      "  processed_data.loc[batch_mask, col] = corrected_series.values\n",
      "C:\\Users\\27344\\codespace\\codes\\ObjectTracking\\ensemble\\data\\track_preprocess.py:288: FutureWarning: Setting an item of incompatible dtype is deprecated and will raise an error in a future version of pandas. Value '129425.87272727276' has dtype incompatible with int64, please explicitly cast to a compatible dtype first.\n",
      "  series_copy.iloc[i] = predicted_value\n",
      "C:\\Users\\27344\\codespace\\codes\\ObjectTracking\\ensemble\\data\\track_preprocess.py:346: FutureWarning: Setting an item of incompatible dtype is deprecated and will raise an error in a future version of pandas. Value '[120630.         152579.         104825.         179770.\n",
      " 110948.         166405.          82198.         130714.\n",
      " 131338.          66995.         193242.         129425.87272727\n",
      "  89246.         131705.          47243.         154618.        ]' has dtype incompatible with int64, please explicitly cast to a compatible dtype first.\n",
      "  processed_data.loc[batch_mask, col] = corrected_series.values\n",
      "C:\\Users\\27344\\codespace\\codes\\ObjectTracking\\ensemble\\data\\track_preprocess.py:288: FutureWarning: Setting an item of incompatible dtype is deprecated and will raise an error in a future version of pandas. Value '69722.57692307692' has dtype incompatible with int64, please explicitly cast to a compatible dtype first.\n",
      "  series_copy.iloc[i] = predicted_value\n",
      "C:\\Users\\27344\\codespace\\codes\\ObjectTracking\\ensemble\\data\\track_preprocess.py:346: FutureWarning: Setting an item of incompatible dtype is deprecated and will raise an error in a future version of pandas. Value '[ 46198.          37649.          63295.          36032.\n",
      "  37624.          59269.          49173.          50643.\n",
      "  62102.          55935.          57615.          77321.\n",
      "  68573.          69722.57692308 108881.          74868.\n",
      "  48214.         103272.          42664.          49179.\n",
      "  43624.          56845.          40007.          57735.        ]' has dtype incompatible with int64, please explicitly cast to a compatible dtype first.\n",
      "  processed_data.loc[batch_mask, col] = corrected_series.values\n",
      "C:\\Users\\27344\\codespace\\codes\\ObjectTracking\\ensemble\\data\\track_preprocess.py:288: FutureWarning: Setting an item of incompatible dtype is deprecated and will raise an error in a future version of pandas. Value '452663.875' has dtype incompatible with int64, please explicitly cast to a compatible dtype first.\n",
      "  series_copy.iloc[i] = predicted_value\n",
      "C:\\Users\\27344\\codespace\\codes\\ObjectTracking\\ensemble\\data\\track_preprocess.py:346: FutureWarning: Setting an item of incompatible dtype is deprecated and will raise an error in a future version of pandas. Value '[ 199351.     927735.     117889.      74193.     112395.     548437.\n",
      "  115275.      81766.      44149.      69718.      39503.      51631.\n",
      "   42397.     965196.    1700344.     210505.      92420.     452663.875\n",
      " 1713216.     477093.     148137.     602041.     299749.     299547.\n",
      " 1093966.   ]' has dtype incompatible with int64, please explicitly cast to a compatible dtype first.\n",
      "  processed_data.loc[batch_mask, col] = corrected_series.values\n",
      "C:\\Users\\27344\\codespace\\codes\\ObjectTracking\\ensemble\\data\\track_preprocess.py:288: FutureWarning: Setting an item of incompatible dtype is deprecated and will raise an error in a future version of pandas. Value '73450.99999999997' has dtype incompatible with int64, please explicitly cast to a compatible dtype first.\n",
      "  series_copy.iloc[i] = predicted_value\n",
      "C:\\Users\\27344\\codespace\\codes\\ObjectTracking\\ensemble\\data\\track_preprocess.py:346: FutureWarning: Setting an item of incompatible dtype is deprecated and will raise an error in a future version of pandas. Value '[ 43343.  58397.  73451. 108282.  43453. 186256. 117862.  59120.  46010.\n",
      "  69176.  87005. 202184. 266339. 162161. 146873. 117654.]' has dtype incompatible with int64, please explicitly cast to a compatible dtype first.\n",
      "  processed_data.loc[batch_mask, col] = corrected_series.values\n",
      "C:\\Users\\27344\\codespace\\codes\\ObjectTracking\\ensemble\\data\\track_preprocess.py:288: FutureWarning: Setting an item of incompatible dtype is deprecated and will raise an error in a future version of pandas. Value '432106.99999999994' has dtype incompatible with int64, please explicitly cast to a compatible dtype first.\n",
      "  series_copy.iloc[i] = predicted_value\n",
      "C:\\Users\\27344\\codespace\\codes\\ObjectTracking\\ensemble\\data\\track_preprocess.py:346: FutureWarning: Setting an item of incompatible dtype is deprecated and will raise an error in a future version of pandas. Value '[275273. 268725. 301212. 305381. 656390. 459101. 212139. 432107. 266122.\n",
      " 384778. 177749. 212688.  40568. 142593. 170347.]' has dtype incompatible with int64, please explicitly cast to a compatible dtype first.\n",
      "  processed_data.loc[batch_mask, col] = corrected_series.values\n",
      "C:\\Users\\27344\\codespace\\codes\\ObjectTracking\\ensemble\\data\\track_preprocess.py:288: FutureWarning: Setting an item of incompatible dtype is deprecated and will raise an error in a future version of pandas. Value '1134141.9750000003' has dtype incompatible with int64, please explicitly cast to a compatible dtype first.\n",
      "  series_copy.iloc[i] = predicted_value\n",
      "C:\\Users\\27344\\codespace\\codes\\ObjectTracking\\ensemble\\data\\track_preprocess.py:346: FutureWarning: Setting an item of incompatible dtype is deprecated and will raise an error in a future version of pandas. Value '[1116160.    1065519.     985568.    1049587.    1125403.    1109896.\n",
      " 1062164.    1039872.    1123836.    1118916.    1198974.    1112063.\n",
      " 1231797.    1140167.    1149557.     964358.    1134141.975]' has dtype incompatible with int64, please explicitly cast to a compatible dtype first.\n",
      "  processed_data.loc[batch_mask, col] = corrected_series.values\n",
      "C:\\Users\\27344\\codespace\\codes\\ObjectTracking\\ensemble\\data\\track_preprocess.py:242: FutureWarning: Setting an item of incompatible dtype is deprecated and will raise an error in a future version of pandas. Value '209033.05263157896' has dtype incompatible with int64, please explicitly cast to a compatible dtype first.\n",
      "  series_copy.iloc[i] = fill_value\n",
      "C:\\Users\\27344\\codespace\\codes\\ObjectTracking\\ensemble\\data\\track_preprocess.py:346: FutureWarning: Setting an item of incompatible dtype is deprecated and will raise an error in a future version of pandas. Value '[180097.         209033.05263158 194230.         218798.\n",
      " 186969.         188837.         239871.         202928.\n",
      " 152843.         251784.         184979.         184060.\n",
      " 229683.         235430.         229544.         156799.\n",
      " 204510.         221045.         251356.         257865.        ]' has dtype incompatible with int64, please explicitly cast to a compatible dtype first.\n",
      "  processed_data.loc[batch_mask, col] = corrected_series.values\n",
      "C:\\Users\\27344\\codespace\\codes\\ObjectTracking\\ensemble\\data\\track_preprocess.py:288: FutureWarning: Setting an item of incompatible dtype is deprecated and will raise an error in a future version of pandas. Value '77970.814229249' has dtype incompatible with int64, please explicitly cast to a compatible dtype first.\n",
      "  series_copy.iloc[i] = predicted_value\n",
      "C:\\Users\\27344\\codespace\\codes\\ObjectTracking\\ensemble\\data\\track_preprocess.py:346: FutureWarning: Setting an item of incompatible dtype is deprecated and will raise an error in a future version of pandas. Value '[88741.         87449.         85191.         81889.\n",
      " 84679.         84935.         82482.         83268.\n",
      " 82365.         76866.         74522.         70381.\n",
      " 71516.         77727.         84571.         89099.\n",
      " 82309.         92723.         77123.         96239.\n",
      " 50291.         85262.         81086.         77970.81422925\n",
      " 84847.        ]' has dtype incompatible with int64, please explicitly cast to a compatible dtype first.\n",
      "  processed_data.loc[batch_mask, col] = corrected_series.values\n",
      "C:\\Users\\27344\\codespace\\codes\\ObjectTracking\\ensemble\\data\\track_preprocess.py:288: FutureWarning: Setting an item of incompatible dtype is deprecated and will raise an error in a future version of pandas. Value '-230025.00000000012' has dtype incompatible with int64, please explicitly cast to a compatible dtype first.\n",
      "  series_copy.iloc[i] = predicted_value\n",
      "C:\\Users\\27344\\codespace\\codes\\ObjectTracking\\ensemble\\data\\track_preprocess.py:346: FutureWarning: Setting an item of incompatible dtype is deprecated and will raise an error in a future version of pandas. Value '[ 449349.  109662. -230025.  608576.  210717.  149129.  512030.   53430.\n",
      "  510293.  236412.   54741.   95449.  367893.  341016.  194442.   64675.\n",
      "  157990.  173893.  141058.  220486.  189457.   98349.]' has dtype incompatible with int64, please explicitly cast to a compatible dtype first.\n",
      "  processed_data.loc[batch_mask, col] = corrected_series.values\n",
      "C:\\Users\\27344\\codespace\\codes\\ObjectTracking\\ensemble\\data\\track_preprocess.py:242: FutureWarning: Setting an item of incompatible dtype is deprecated and will raise an error in a future version of pandas. Value '1268884.8823529412' has dtype incompatible with int64, please explicitly cast to a compatible dtype first.\n",
      "  series_copy.iloc[i] = fill_value\n",
      "C:\\Users\\27344\\codespace\\codes\\ObjectTracking\\ensemble\\data\\track_preprocess.py:346: FutureWarning: Setting an item of incompatible dtype is deprecated and will raise an error in a future version of pandas. Value '[1268884.88235294 2359725.         2145627.         1571456.\n",
      " 1508216.         1010004.         1075520.         1083203.\n",
      " 1017786.         1084200.         1101332.         1070636.\n",
      " 1200258.         1181068.          998691.          891342.\n",
      " 1211738.         1060241.        ]' has dtype incompatible with int64, please explicitly cast to a compatible dtype first.\n",
      "  processed_data.loc[batch_mask, col] = corrected_series.values\n",
      "C:\\Users\\27344\\codespace\\codes\\ObjectTracking\\ensemble\\data\\track_preprocess.py:288: FutureWarning: Setting an item of incompatible dtype is deprecated and will raise an error in a future version of pandas. Value '341983.0000000001' has dtype incompatible with int64, please explicitly cast to a compatible dtype first.\n",
      "  series_copy.iloc[i] = predicted_value\n",
      "C:\\Users\\27344\\codespace\\codes\\ObjectTracking\\ensemble\\data\\track_preprocess.py:346: FutureWarning: Setting an item of incompatible dtype is deprecated and will raise an error in a future version of pandas. Value '[127629. 108943. 302421. 254587. 341983.  76234. 209022. 181298. 159634.\n",
      "  87677. 110999.  87706. 258185.  74379. 325022. 131624.  96942. 160814.\n",
      " 577105. 421402.  94641.  93305.]' has dtype incompatible with int64, please explicitly cast to a compatible dtype first.\n",
      "  processed_data.loc[batch_mask, col] = corrected_series.values\n",
      "C:\\Users\\27344\\codespace\\codes\\ObjectTracking\\ensemble\\data\\track_preprocess.py:288: FutureWarning: Setting an item of incompatible dtype is deprecated and will raise an error in a future version of pandas. Value '1238957.0666666662' has dtype incompatible with int64, please explicitly cast to a compatible dtype first.\n",
      "  series_copy.iloc[i] = predicted_value\n",
      "C:\\Users\\27344\\codespace\\codes\\ObjectTracking\\ensemble\\data\\track_preprocess.py:346: FutureWarning: Setting an item of incompatible dtype is deprecated and will raise an error in a future version of pandas. Value '[ 383435.          193017.          558753.         2753290.\n",
      "  113206.          852321.         1238957.06666667 1785351.\n",
      "  450483.          596916.          779540.          398387.\n",
      "  272566.          831782.          196738.          812435.\n",
      "  176132.          523133.          224393.           70977.        ]' has dtype incompatible with int64, please explicitly cast to a compatible dtype first.\n",
      "  processed_data.loc[batch_mask, col] = corrected_series.values\n",
      "C:\\Users\\27344\\codespace\\codes\\ObjectTracking\\ensemble\\data\\track_preprocess.py:201: RuntimeWarning: Precision loss occurred in moment calculation due to catastrophic cancellation. This occurs when the data are nearly identical. Results may be unreliable.\n",
      "  z_scores = np.abs(zscore(series, nan_policy='omit'))\n",
      "C:\\Users\\27344\\codespace\\codes\\ObjectTracking\\ensemble\\data\\track_preprocess.py:201: RuntimeWarning: Precision loss occurred in moment calculation due to catastrophic cancellation. This occurs when the data are nearly identical. Results may be unreliable.\n",
      "  z_scores = np.abs(zscore(series, nan_policy='omit'))\n",
      "C:\\Users\\27344\\codespace\\codes\\ObjectTracking\\ensemble\\data\\track_preprocess.py:242: FutureWarning: Setting an item of incompatible dtype is deprecated and will raise an error in a future version of pandas. Value '168010.17647058822' has dtype incompatible with int64, please explicitly cast to a compatible dtype first.\n",
      "  series_copy.iloc[i] = fill_value\n",
      "C:\\Users\\27344\\codespace\\codes\\ObjectTracking\\ensemble\\data\\track_preprocess.py:346: FutureWarning: Setting an item of incompatible dtype is deprecated and will raise an error in a future version of pandas. Value '[168010.17647059 246284.         733306.         160880.\n",
      "  98131.         102992.         174095.         255633.\n",
      " 144791.          95717.         116937.          93068.\n",
      "  60027.         105257.         194272.          61997.\n",
      " 117820.          94966.        ]' has dtype incompatible with int64, please explicitly cast to a compatible dtype first.\n",
      "  processed_data.loc[batch_mask, col] = corrected_series.values\n",
      "C:\\Users\\27344\\codespace\\codes\\ObjectTracking\\ensemble\\data\\track_preprocess.py:288: FutureWarning: Setting an item of incompatible dtype is deprecated and will raise an error in a future version of pandas. Value '107521.1333333333' has dtype incompatible with int64, please explicitly cast to a compatible dtype first.\n",
      "  series_copy.iloc[i] = predicted_value\n",
      "C:\\Users\\27344\\codespace\\codes\\ObjectTracking\\ensemble\\data\\track_preprocess.py:346: FutureWarning: Setting an item of incompatible dtype is deprecated and will raise an error in a future version of pandas. Value '[ 71011.         117989.         107006.          67277.\n",
      " 114328.         102744.         107521.13333333  82962.\n",
      "  66458.         152123.         175617.          95291.\n",
      " 162632.         222390.         205168.        ]' has dtype incompatible with int64, please explicitly cast to a compatible dtype first.\n",
      "  processed_data.loc[batch_mask, col] = corrected_series.values\n",
      "C:\\Users\\27344\\codespace\\codes\\ObjectTracking\\ensemble\\data\\track_preprocess.py:288: FutureWarning: Setting an item of incompatible dtype is deprecated and will raise an error in a future version of pandas. Value '39706.99999999994' has dtype incompatible with int64, please explicitly cast to a compatible dtype first.\n",
      "  series_copy.iloc[i] = predicted_value\n",
      "C:\\Users\\27344\\codespace\\codes\\ObjectTracking\\ensemble\\data\\track_preprocess.py:346: FutureWarning: Setting an item of incompatible dtype is deprecated and will raise an error in a future version of pandas. Value '[380527. 210117.  39707. 335941. 168173. 293960. 173529.  86138. 154138.\n",
      " 207903. 289101. 375779. 230889.  84262. 131901. 315495. 357841. 116166.\n",
      " 135246.  38444. 221952. 289678. 153649. 254539. 341345.]' has dtype incompatible with int64, please explicitly cast to a compatible dtype first.\n",
      "  processed_data.loc[batch_mask, col] = corrected_series.values\n",
      "C:\\Users\\27344\\codespace\\codes\\ObjectTracking\\ensemble\\data\\track_preprocess.py:288: FutureWarning: Setting an item of incompatible dtype is deprecated and will raise an error in a future version of pandas. Value '4813870.311688311' has dtype incompatible with int64, please explicitly cast to a compatible dtype first.\n",
      "  series_copy.iloc[i] = predicted_value\n",
      "C:\\Users\\27344\\codespace\\codes\\ObjectTracking\\ensemble\\data\\track_preprocess.py:346: FutureWarning: Setting an item of incompatible dtype is deprecated and will raise an error in a future version of pandas. Value '[ 1590022.           244958.          1429703.          2434206.\n",
      "  1791420.           237096.          2007809.          1329104.\n",
      "  1281124.           628441.           950180.           597152.\n",
      "  2249705.          1563336.          2314499.          1328935.\n",
      "  1692653.          2377873.          3115872.          9420201.\n",
      "  7012561.          5376996.          4813870.31168831  4093667.\n",
      " 12979769.        ]' has dtype incompatible with int64, please explicitly cast to a compatible dtype first.\n",
      "  processed_data.loc[batch_mask, col] = corrected_series.values\n",
      "C:\\Users\\27344\\codespace\\codes\\ObjectTracking\\ensemble\\data\\track_preprocess.py:288: FutureWarning: Setting an item of incompatible dtype is deprecated and will raise an error in a future version of pandas. Value '103313.53333333331' has dtype incompatible with int64, please explicitly cast to a compatible dtype first.\n",
      "  series_copy.iloc[i] = predicted_value\n",
      "C:\\Users\\27344\\codespace\\codes\\ObjectTracking\\ensemble\\data\\track_preprocess.py:346: FutureWarning: Setting an item of incompatible dtype is deprecated and will raise an error in a future version of pandas. Value '[106555.          97138.          71386.         166869.\n",
      " 145794.          43811.          91424.         121556.\n",
      " 133894.          78608.         103313.53333333 116279.\n",
      " 209703.          96710.         101736.         141048.\n",
      " 105974.          90236.          86457.         134577.\n",
      "  92082.         130808.          89897.         102607.\n",
      "  67354.          61120.          77458.        ]' has dtype incompatible with int64, please explicitly cast to a compatible dtype first.\n",
      "  processed_data.loc[batch_mask, col] = corrected_series.values\n",
      "C:\\Users\\27344\\codespace\\codes\\ObjectTracking\\ensemble\\data\\track_preprocess.py:288: FutureWarning: Setting an item of incompatible dtype is deprecated and will raise an error in a future version of pandas. Value '132104.42857142855' has dtype incompatible with int64, please explicitly cast to a compatible dtype first.\n",
      "  series_copy.iloc[i] = predicted_value\n",
      "C:\\Users\\27344\\codespace\\codes\\ObjectTracking\\ensemble\\data\\track_preprocess.py:346: FutureWarning: Setting an item of incompatible dtype is deprecated and will raise an error in a future version of pandas. Value '[ 96850.          83593.          82737.         287161.\n",
      " 144422.         123709.          63723.         132104.42857143\n",
      " 215098.         306010.         122706.          61485.\n",
      "  62698.         137478.          78543.         246801.\n",
      "  73556.         102485.         128184.60468521  99335.\n",
      " 112507.         178082.          76106.        ]' has dtype incompatible with int64, please explicitly cast to a compatible dtype first.\n",
      "  processed_data.loc[batch_mask, col] = corrected_series.values\n",
      "C:\\Users\\27344\\codespace\\codes\\ObjectTracking\\ensemble\\data\\track_preprocess.py:242: FutureWarning: Setting an item of incompatible dtype is deprecated and will raise an error in a future version of pandas. Value '264445.28571428574' has dtype incompatible with int64, please explicitly cast to a compatible dtype first.\n",
      "  series_copy.iloc[i] = fill_value\n",
      "C:\\Users\\27344\\codespace\\codes\\ObjectTracking\\ensemble\\data\\track_preprocess.py:346: FutureWarning: Setting an item of incompatible dtype is deprecated and will raise an error in a future version of pandas. Value '[254495.         264445.28571429 134786.          74471.\n",
      " 539069.         191689.          78443.         439776.\n",
      " 467439.         335450.         310915.         137249.\n",
      " 289876.         273572.         175004.        ]' has dtype incompatible with int64, please explicitly cast to a compatible dtype first.\n",
      "  processed_data.loc[batch_mask, col] = corrected_series.values\n",
      "C:\\Users\\27344\\codespace\\codes\\ObjectTracking\\ensemble\\data\\track_preprocess.py:288: FutureWarning: Setting an item of incompatible dtype is deprecated and will raise an error in a future version of pandas. Value '1627853.1000000006' has dtype incompatible with int64, please explicitly cast to a compatible dtype first.\n",
      "  series_copy.iloc[i] = predicted_value\n",
      "C:\\Users\\27344\\codespace\\codes\\ObjectTracking\\ensemble\\data\\track_preprocess.py:346: FutureWarning: Setting an item of incompatible dtype is deprecated and will raise an error in a future version of pandas. Value '[  58504.   182383.  1348622.  1263958.   959737.  1627853.1 3906307.\n",
      " 1997671.  1232309.  1298099.   585993.   184304.   105942.  2714894.\n",
      "  640747.   754091.  2076184.   955501.  5553692.  3072711.  4100381.\n",
      "  228101. ]' has dtype incompatible with int64, please explicitly cast to a compatible dtype first.\n",
      "  processed_data.loc[batch_mask, col] = corrected_series.values\n",
      "C:\\Users\\27344\\codespace\\codes\\ObjectTracking\\ensemble\\data\\track_preprocess.py:288: FutureWarning: Setting an item of incompatible dtype is deprecated and will raise an error in a future version of pandas. Value '3985938.7000000007' has dtype incompatible with int64, please explicitly cast to a compatible dtype first.\n",
      "  series_copy.iloc[i] = predicted_value\n",
      "C:\\Users\\27344\\codespace\\codes\\ObjectTracking\\ensemble\\data\\track_preprocess.py:346: FutureWarning: Setting an item of incompatible dtype is deprecated and will raise an error in a future version of pandas. Value '[ 653415.   273883.   528754.  2110366.  3892199.  3985938.7 2184490.\n",
      " 1550090.   778838.   119618.  1354469.  1642529.  1051923.   621734.\n",
      " 2814279.   912365.   741699.   836084. ]' has dtype incompatible with int64, please explicitly cast to a compatible dtype first.\n",
      "  processed_data.loc[batch_mask, col] = corrected_series.values\n",
      "C:\\Users\\27344\\codespace\\codes\\ObjectTracking\\ensemble\\data\\track_preprocess.py:288: FutureWarning: Setting an item of incompatible dtype is deprecated and will raise an error in a future version of pandas. Value '1876155.1421052637' has dtype incompatible with int64, please explicitly cast to a compatible dtype first.\n",
      "  series_copy.iloc[i] = predicted_value\n",
      "C:\\Users\\27344\\codespace\\codes\\ObjectTracking\\ensemble\\data\\track_preprocess.py:346: FutureWarning: Setting an item of incompatible dtype is deprecated and will raise an error in a future version of pandas. Value '[ 401836.          381392.          772222.         1909268.\n",
      " 3467144.         1000045.         1987502.         1766346.\n",
      "  675182.         3182321.         1836316.         2511935.\n",
      " 2879968.         1229142.          644969.         1578246.\n",
      " 1490869.         1669202.         1561127.         1609528.\n",
      " 1876155.14210526 1998288.        ]' has dtype incompatible with int64, please explicitly cast to a compatible dtype first.\n",
      "  processed_data.loc[batch_mask, col] = corrected_series.values\n",
      "C:\\Users\\27344\\codespace\\codes\\ObjectTracking\\ensemble\\data\\track_preprocess.py:242: FutureWarning: Setting an item of incompatible dtype is deprecated and will raise an error in a future version of pandas. Value '1955835.5454545454' has dtype incompatible with int64, please explicitly cast to a compatible dtype first.\n",
      "  series_copy.iloc[i] = fill_value\n",
      "C:\\Users\\27344\\codespace\\codes\\ObjectTracking\\ensemble\\data\\track_preprocess.py:346: FutureWarning: Setting an item of incompatible dtype is deprecated and will raise an error in a future version of pandas. Value '[7064779.         1955835.54545455  948539.          825413.\n",
      "  396392.         3680638.         2659103.          151577.\n",
      " 2316704.         1537343.         1275018.          358917.\n",
      " 1594083.         3294374.         2527643.         3677090.\n",
      " 1993669.         1709075.         1184418.         3304479.\n",
      "  992577.          867998.          668553.        ]' has dtype incompatible with int64, please explicitly cast to a compatible dtype first.\n",
      "  processed_data.loc[batch_mask, col] = corrected_series.values\n",
      "C:\\Users\\27344\\codespace\\codes\\ObjectTracking\\ensemble\\data\\track_preprocess.py:242: FutureWarning: Setting an item of incompatible dtype is deprecated and will raise an error in a future version of pandas. Value '1989847.5217391304' has dtype incompatible with int64, please explicitly cast to a compatible dtype first.\n",
      "  series_copy.iloc[i] = fill_value\n",
      "C:\\Users\\27344\\codespace\\codes\\ObjectTracking\\ensemble\\data\\track_preprocess.py:346: FutureWarning: Setting an item of incompatible dtype is deprecated and will raise an error in a future version of pandas. Value '[1989847.52173913  732426.          477006.         1876925.\n",
      " 4503713.         4070899.         2563338.         1250858.\n",
      "  575377.         1938826.         4053963.          900569.\n",
      "  951565.         1740835.         5807527.          350686.\n",
      "  314140.         2843194.          394934.         1276221.\n",
      "  859392.         1701309.          473780.         6109010.        ]' has dtype incompatible with int64, please explicitly cast to a compatible dtype first.\n",
      "  processed_data.loc[batch_mask, col] = corrected_series.values\n",
      "C:\\Users\\27344\\codespace\\codes\\ObjectTracking\\ensemble\\data\\track_preprocess.py:288: FutureWarning: Setting an item of incompatible dtype is deprecated and will raise an error in a future version of pandas. Value '2282155.6363636362' has dtype incompatible with int64, please explicitly cast to a compatible dtype first.\n",
      "  series_copy.iloc[i] = predicted_value\n",
      "C:\\Users\\27344\\codespace\\codes\\ObjectTracking\\ensemble\\data\\track_preprocess.py:346: FutureWarning: Setting an item of incompatible dtype is deprecated and will raise an error in a future version of pandas. Value '[1543118.         1505181.          710217.         1399027.\n",
      " 3979507.         2393019.         1107514.         1580467.\n",
      " 2527603.         2256938.         1087389.         2693094.\n",
      " 2282155.63636364 2850492.         1744960.         4600968.\n",
      " 3839377.         3204167.         1045692.         2117838.\n",
      " 3662265.         1458990.          424261.          304730.\n",
      "  290359.        ]' has dtype incompatible with int64, please explicitly cast to a compatible dtype first.\n",
      "  processed_data.loc[batch_mask, col] = corrected_series.values\n",
      "C:\\Users\\27344\\codespace\\codes\\ObjectTracking\\ensemble\\data\\track_preprocess.py:288: FutureWarning: Setting an item of incompatible dtype is deprecated and will raise an error in a future version of pandas. Value '-2910.499999999942' has dtype incompatible with int64, please explicitly cast to a compatible dtype first.\n",
      "  series_copy.iloc[i] = predicted_value\n",
      "C:\\Users\\27344\\codespace\\codes\\ObjectTracking\\ensemble\\data\\track_preprocess.py:346: FutureWarning: Setting an item of incompatible dtype is deprecated and will raise an error in a future version of pandas. Value '[ 367639.   342886.   138508.   111655.    -2910.5  407664.  1154199.\n",
      "  353103.    95115.   320589.   228992.   108545.    45854.   201139.\n",
      " 1008432.   241247.   316656.   801107.   374758.   647280.   147536.\n",
      "  135629.    65505. ]' has dtype incompatible with int64, please explicitly cast to a compatible dtype first.\n",
      "  processed_data.loc[batch_mask, col] = corrected_series.values\n",
      "C:\\Users\\27344\\codespace\\codes\\ObjectTracking\\ensemble\\data\\track_preprocess.py:288: FutureWarning: Setting an item of incompatible dtype is deprecated and will raise an error in a future version of pandas. Value '302676.06666666653' has dtype incompatible with int64, please explicitly cast to a compatible dtype first.\n",
      "  series_copy.iloc[i] = predicted_value\n",
      "C:\\Users\\27344\\codespace\\codes\\ObjectTracking\\ensemble\\data\\track_preprocess.py:346: FutureWarning: Setting an item of incompatible dtype is deprecated and will raise an error in a future version of pandas. Value '[133912.         178863.         627561.         146902.\n",
      "  81151.         665879.         504709.         232085.\n",
      " 129894.         237053.         302676.06666667 954616.\n",
      " 132057.          70536.         297818.          29474.\n",
      "  74467.         119983.         189403.          31145.\n",
      "  50550.          38688.          23701.          99873.\n",
      "  29182.        ]' has dtype incompatible with int64, please explicitly cast to a compatible dtype first.\n",
      "  processed_data.loc[batch_mask, col] = corrected_series.values\n",
      "C:\\Users\\27344\\codespace\\codes\\ObjectTracking\\ensemble\\data\\track_preprocess.py:288: FutureWarning: Setting an item of incompatible dtype is deprecated and will raise an error in a future version of pandas. Value '1340366.5357142857' has dtype incompatible with int64, please explicitly cast to a compatible dtype first.\n",
      "  series_copy.iloc[i] = predicted_value\n",
      "C:\\Users\\27344\\codespace\\codes\\ObjectTracking\\ensemble\\data\\track_preprocess.py:346: FutureWarning: Setting an item of incompatible dtype is deprecated and will raise an error in a future version of pandas. Value '[ 790590.          312620.          476757.          771990.\n",
      "  469470.         2063178.          797976.         1115510.\n",
      " 1340366.53571429 1864576.         5440235.         1698438.\n",
      " 1134919.         2290473.          597406.        ]' has dtype incompatible with int64, please explicitly cast to a compatible dtype first.\n",
      "  processed_data.loc[batch_mask, col] = corrected_series.values\n",
      "C:\\Users\\27344\\codespace\\codes\\ObjectTracking\\ensemble\\data\\track_preprocess.py:288: FutureWarning: Setting an item of incompatible dtype is deprecated and will raise an error in a future version of pandas. Value '987766.2456140349' has dtype incompatible with int64, please explicitly cast to a compatible dtype first.\n",
      "  series_copy.iloc[i] = predicted_value\n",
      "C:\\Users\\27344\\codespace\\codes\\ObjectTracking\\ensemble\\data\\track_preprocess.py:346: FutureWarning: Setting an item of incompatible dtype is deprecated and will raise an error in a future version of pandas. Value '[ 463217.          367863.          417344.          638397.\n",
      " 1972446.         1729416.         1641880.          380852.\n",
      "  372165.         2600981.         1769693.          965885.\n",
      " 1109152.          884278.          199990.          537971.\n",
      " 1360765.          483929.          927205.          987766.24561403\n",
      "  174013.          234219.        ]' has dtype incompatible with int64, please explicitly cast to a compatible dtype first.\n",
      "  processed_data.loc[batch_mask, col] = corrected_series.values\n",
      "C:\\Users\\27344\\codespace\\codes\\ObjectTracking\\ensemble\\data\\track_preprocess.py:288: FutureWarning: Setting an item of incompatible dtype is deprecated and will raise an error in a future version of pandas. Value '999376.6666666667' has dtype incompatible with int64, please explicitly cast to a compatible dtype first.\n",
      "  series_copy.iloc[i] = predicted_value\n",
      "C:\\Users\\27344\\codespace\\codes\\ObjectTracking\\ensemble\\data\\track_preprocess.py:346: FutureWarning: Setting an item of incompatible dtype is deprecated and will raise an error in a future version of pandas. Value '[ 865278.          778854.          987458.          999376.66666667\n",
      " 1271418.         1139799.         1755101.          601942.\n",
      "  444063.         1323495.          248754.          887543.\n",
      " 1282208.         1308397.          356274.         1352131.\n",
      " 1745779.          682139.          432475.         1226722.        ]' has dtype incompatible with int64, please explicitly cast to a compatible dtype first.\n",
      "  processed_data.loc[batch_mask, col] = corrected_series.values\n",
      "C:\\Users\\27344\\codespace\\codes\\ObjectTracking\\ensemble\\data\\track_preprocess.py:288: FutureWarning: Setting an item of incompatible dtype is deprecated and will raise an error in a future version of pandas. Value '368540.29999999976' has dtype incompatible with int64, please explicitly cast to a compatible dtype first.\n",
      "  series_copy.iloc[i] = predicted_value\n",
      "C:\\Users\\27344\\codespace\\codes\\ObjectTracking\\ensemble\\data\\track_preprocess.py:346: FutureWarning: Setting an item of incompatible dtype is deprecated and will raise an error in a future version of pandas. Value '[ 469482.   348437.   109869.   378374.   475020.   368540.3   89376.\n",
      "  469197.   456342.   231589.   701037.    97438.  1192719.   137502.\n",
      "  209381.    59062.    38452.    69320.    84100. ]' has dtype incompatible with int64, please explicitly cast to a compatible dtype first.\n",
      "  processed_data.loc[batch_mask, col] = corrected_series.values\n",
      "C:\\Users\\27344\\codespace\\codes\\ObjectTracking\\ensemble\\data\\track_preprocess.py:288: FutureWarning: Setting an item of incompatible dtype is deprecated and will raise an error in a future version of pandas. Value '204418.2105263156' has dtype incompatible with int64, please explicitly cast to a compatible dtype first.\n",
      "  series_copy.iloc[i] = predicted_value\n",
      "C:\\Users\\27344\\codespace\\codes\\ObjectTracking\\ensemble\\data\\track_preprocess.py:346: FutureWarning: Setting an item of incompatible dtype is deprecated and will raise an error in a future version of pandas. Value '[845191.         860925.         377481.         423599.\n",
      " 420766.          66137.         100484.         680683.\n",
      " 160292.         132354.         150047.         388494.\n",
      " 485070.         145562.         627975.         430693.\n",
      "  87589.         174115.         271709.         431447.\n",
      " 204418.21052632]' has dtype incompatible with int64, please explicitly cast to a compatible dtype first.\n",
      "  processed_data.loc[batch_mask, col] = corrected_series.values\n",
      "C:\\Users\\27344\\codespace\\codes\\ObjectTracking\\ensemble\\data\\track_preprocess.py:242: FutureWarning: Setting an item of incompatible dtype is deprecated and will raise an error in a future version of pandas. Value '467638.6538461539' has dtype incompatible with int64, please explicitly cast to a compatible dtype first.\n",
      "  series_copy.iloc[i] = fill_value\n",
      "C:\\Users\\27344\\codespace\\codes\\ObjectTracking\\ensemble\\data\\track_preprocess.py:346: FutureWarning: Setting an item of incompatible dtype is deprecated and will raise an error in a future version of pandas. Value '[ 233182.          467638.65384615  312131.          261322.\n",
      "  604615.         1874440.          622038.          751373.\n",
      "  341053.         1135888.         1203196.          596294.\n",
      "  521776.          807649.          476243.          256161.\n",
      "  222001.          232341.          453175.          472958.\n",
      "   66611.          171741.           56846.           89923.\n",
      "  130507.          151363.          113778.        ]' has dtype incompatible with int64, please explicitly cast to a compatible dtype first.\n",
      "  processed_data.loc[batch_mask, col] = corrected_series.values\n",
      "C:\\Users\\27344\\codespace\\codes\\ObjectTracking\\ensemble\\data\\track_preprocess.py:288: FutureWarning: Setting an item of incompatible dtype is deprecated and will raise an error in a future version of pandas. Value '109791.0714285714' has dtype incompatible with int64, please explicitly cast to a compatible dtype first.\n",
      "  series_copy.iloc[i] = predicted_value\n",
      "C:\\Users\\27344\\codespace\\codes\\ObjectTracking\\ensemble\\data\\track_preprocess.py:346: FutureWarning: Setting an item of incompatible dtype is deprecated and will raise an error in a future version of pandas. Value '[ 66623.          62955.          67534.         130246.\n",
      " 208169.          71407.          72198.          85221.\n",
      " 109791.07142857 119993.          81658.          36083.\n",
      "  28206.          68724.          46524.          40825.\n",
      "  58141.          46105.          92168.        ]' has dtype incompatible with int64, please explicitly cast to a compatible dtype first.\n",
      "  processed_data.loc[batch_mask, col] = corrected_series.values\n",
      "C:\\Users\\27344\\codespace\\codes\\ObjectTracking\\ensemble\\data\\track_preprocess.py:242: FutureWarning: Setting an item of incompatible dtype is deprecated and will raise an error in a future version of pandas. Value '383881.21428571426' has dtype incompatible with int64, please explicitly cast to a compatible dtype first.\n",
      "  series_copy.iloc[i] = fill_value\n",
      "C:\\Users\\27344\\codespace\\codes\\ObjectTracking\\ensemble\\data\\track_preprocess.py:346: FutureWarning: Setting an item of incompatible dtype is deprecated and will raise an error in a future version of pandas. Value '[566491.         383881.21428571 337304.         256379.\n",
      " 382840.         120184.         600210.         211827.\n",
      " 351891.         173272.         663187.         704998.\n",
      " 150338.         105899.         749517.        ]' has dtype incompatible with int64, please explicitly cast to a compatible dtype first.\n",
      "  processed_data.loc[batch_mask, col] = corrected_series.values\n",
      "C:\\Users\\27344\\codespace\\codes\\ObjectTracking\\ensemble\\data\\track_preprocess.py:288: FutureWarning: Setting an item of incompatible dtype is deprecated and will raise an error in a future version of pandas. Value '526172.0999999996' has dtype incompatible with int64, please explicitly cast to a compatible dtype first.\n",
      "  series_copy.iloc[i] = predicted_value\n",
      "C:\\Users\\27344\\codespace\\codes\\ObjectTracking\\ensemble\\data\\track_preprocess.py:346: FutureWarning: Setting an item of incompatible dtype is deprecated and will raise an error in a future version of pandas. Value '[1531819.   447692.   878566.   638057.   861159.   526172.1  228114.\n",
      "  481121.    83228.   183149.   379326.   671091.   334643.   668060.\n",
      "  239429.    84132.   878920.  1058726.   445260.   393172.   409342.\n",
      "  141501.    27706.    28834.    30416.    94523.    88817. ]' has dtype incompatible with int64, please explicitly cast to a compatible dtype first.\n",
      "  processed_data.loc[batch_mask, col] = corrected_series.values\n",
      "C:\\Users\\27344\\codespace\\codes\\ObjectTracking\\ensemble\\data\\track_preprocess.py:288: FutureWarning: Setting an item of incompatible dtype is deprecated and will raise an error in a future version of pandas. Value '1225140.7333333332' has dtype incompatible with int64, please explicitly cast to a compatible dtype first.\n",
      "  series_copy.iloc[i] = predicted_value\n",
      "C:\\Users\\27344\\codespace\\codes\\ObjectTracking\\ensemble\\data\\track_preprocess.py:346: FutureWarning: Setting an item of incompatible dtype is deprecated and will raise an error in a future version of pandas. Value '[ 147540.          137810.          254460.          182877.\n",
      " 1620339.          706209.         1225140.73333333 1044851.\n",
      "  505401.         1442612.          133193.          202894.\n",
      " 1003130.          374317.          538188.          575702.\n",
      "  170071.          207885.          498054.          110437.\n",
      "  108906.          509620.          850714.          119017.\n",
      "  615232.          298934.          168162.          238138.        ]' has dtype incompatible with int64, please explicitly cast to a compatible dtype first.\n",
      "  processed_data.loc[batch_mask, col] = corrected_series.values\n",
      "C:\\Users\\27344\\codespace\\codes\\ObjectTracking\\ensemble\\data\\track_preprocess.py:288: FutureWarning: Setting an item of incompatible dtype is deprecated and will raise an error in a future version of pandas. Value '1591465.6029411764' has dtype incompatible with int64, please explicitly cast to a compatible dtype first.\n",
      "  series_copy.iloc[i] = predicted_value\n",
      "C:\\Users\\27344\\codespace\\codes\\ObjectTracking\\ensemble\\data\\track_preprocess.py:346: FutureWarning: Setting an item of incompatible dtype is deprecated and will raise an error in a future version of pandas. Value '[ 830436.          480739.          315084.          575718.\n",
      "  205331.          464730.          722171.          104259.\n",
      "  473457.         1392434.          499489.          743162.\n",
      "  806799.         2327039.         2407795.         1935303.\n",
      "  480057.         1591465.60294118  313169.          432888.\n",
      "  261967.         1192458.          251490.          125055.\n",
      "  176158.        ]' has dtype incompatible with int64, please explicitly cast to a compatible dtype first.\n",
      "  processed_data.loc[batch_mask, col] = corrected_series.values\n",
      "C:\\Users\\27344\\codespace\\codes\\ObjectTracking\\ensemble\\data\\track_preprocess.py:288: FutureWarning: Setting an item of incompatible dtype is deprecated and will raise an error in a future version of pandas. Value '162870.23809523796' has dtype incompatible with int64, please explicitly cast to a compatible dtype first.\n",
      "  series_copy.iloc[i] = predicted_value\n",
      "C:\\Users\\27344\\codespace\\codes\\ObjectTracking\\ensemble\\data\\track_preprocess.py:346: FutureWarning: Setting an item of incompatible dtype is deprecated and will raise an error in a future version of pandas. Value '[994935.          69943.         284176.         328921.\n",
      " 108283.          47547.         278229.         110403.\n",
      " 131791.         124432.          46052.         322179.\n",
      " 420762.         420115.         427523.         155273.\n",
      " 179174.         131926.          42249.          90739.\n",
      " 412200.         162870.23809524]' has dtype incompatible with int64, please explicitly cast to a compatible dtype first.\n",
      "  processed_data.loc[batch_mask, col] = corrected_series.values\n",
      "C:\\Users\\27344\\codespace\\codes\\ObjectTracking\\ensemble\\data\\track_preprocess.py:288: FutureWarning: Setting an item of incompatible dtype is deprecated and will raise an error in a future version of pandas. Value '489445.87619047624' has dtype incompatible with int64, please explicitly cast to a compatible dtype first.\n",
      "  series_copy.iloc[i] = predicted_value\n",
      "C:\\Users\\27344\\codespace\\codes\\ObjectTracking\\ensemble\\data\\track_preprocess.py:346: FutureWarning: Setting an item of incompatible dtype is deprecated and will raise an error in a future version of pandas. Value '[ 266195.           51210.           92631.          658883.\n",
      "   55843.           82203.          426007.          107051.\n",
      "  101086.           78973.          200305.          515518.\n",
      "  607743.         1094425.           54472.          489445.87619048\n",
      "  215051.          524911.          421645.          220810.\n",
      "  103358.           99063.          191349.        ]' has dtype incompatible with int64, please explicitly cast to a compatible dtype first.\n",
      "  processed_data.loc[batch_mask, col] = corrected_series.values\n",
      "C:\\Users\\27344\\codespace\\codes\\ObjectTracking\\ensemble\\data\\track_preprocess.py:288: FutureWarning: Setting an item of incompatible dtype is deprecated and will raise an error in a future version of pandas. Value '458836.90109890106' has dtype incompatible with int64, please explicitly cast to a compatible dtype first.\n",
      "  series_copy.iloc[i] = predicted_value\n",
      "C:\\Users\\27344\\codespace\\codes\\ObjectTracking\\ensemble\\data\\track_preprocess.py:346: FutureWarning: Setting an item of incompatible dtype is deprecated and will raise an error in a future version of pandas. Value '[ 640088.         240490.         430848.         410989.\n",
      " 1698624.         108412.         138743.         393712.\n",
      " 1372567.         291486.         848786.         698203.\n",
      "  154166.         140777.         458836.9010989  447393.\n",
      "  296386.         110356.          86037.         947145.\n",
      "  586549.         431585.         422519.         460647.\n",
      "   33116.       ]' has dtype incompatible with int64, please explicitly cast to a compatible dtype first.\n",
      "  processed_data.loc[batch_mask, col] = corrected_series.values\n",
      "C:\\Users\\27344\\codespace\\codes\\ObjectTracking\\ensemble\\data\\track_preprocess.py:288: FutureWarning: Setting an item of incompatible dtype is deprecated and will raise an error in a future version of pandas. Value '597446.6250000003' has dtype incompatible with int64, please explicitly cast to a compatible dtype first.\n",
      "  series_copy.iloc[i] = predicted_value\n",
      "C:\\Users\\27344\\codespace\\codes\\ObjectTracking\\ensemble\\data\\track_preprocess.py:346: FutureWarning: Setting an item of incompatible dtype is deprecated and will raise an error in a future version of pandas. Value '[  98283.     277891.     838343.     927691.    2336476.     126665.\n",
      " 1451662.     346537.    1282299.     472413.     251103.      86177.\n",
      "  303886.      19586.      89381.    1946555.     597446.625  893779.\n",
      "  603717.     922798.    1557088.   ]' has dtype incompatible with int64, please explicitly cast to a compatible dtype first.\n",
      "  processed_data.loc[batch_mask, col] = corrected_series.values\n",
      "C:\\Users\\27344\\codespace\\codes\\ObjectTracking\\ensemble\\data\\track_preprocess.py:288: FutureWarning: Setting an item of incompatible dtype is deprecated and will raise an error in a future version of pandas. Value '111574.33333333163' has dtype incompatible with int64, please explicitly cast to a compatible dtype first.\n",
      "  series_copy.iloc[i] = predicted_value\n",
      "C:\\Users\\27344\\codespace\\codes\\ObjectTracking\\ensemble\\data\\track_preprocess.py:346: FutureWarning: Setting an item of incompatible dtype is deprecated and will raise an error in a future version of pandas. Value '[2663741.         1176461.         1121436.          111574.33333333\n",
      "  428662.          695612.         1211963.           35944.\n",
      "   99919.          125138.           62213.          174842.\n",
      "  164678.          123764.           58173.          359335.\n",
      "  132518.          956559.          405676.          576976.        ]' has dtype incompatible with int64, please explicitly cast to a compatible dtype first.\n",
      "  processed_data.loc[batch_mask, col] = corrected_series.values\n",
      "C:\\Users\\27344\\codespace\\codes\\ObjectTracking\\ensemble\\data\\track_preprocess.py:288: FutureWarning: Setting an item of incompatible dtype is deprecated and will raise an error in a future version of pandas. Value '157238.80555555553' has dtype incompatible with int64, please explicitly cast to a compatible dtype first.\n",
      "  series_copy.iloc[i] = predicted_value\n",
      "C:\\Users\\27344\\codespace\\codes\\ObjectTracking\\ensemble\\data\\track_preprocess.py:346: FutureWarning: Setting an item of incompatible dtype is deprecated and will raise an error in a future version of pandas. Value '[ 48308.         102826.          21708.         141781.\n",
      "  21012.         183452.         238334.          42626.\n",
      " 134821.         157238.80555556  42790.          27774.\n",
      "  86818.          33265.          61776.          89859.\n",
      " 510408.          81243.          92266.         700458.\n",
      "  53227.          64411.         275830.        ]' has dtype incompatible with int64, please explicitly cast to a compatible dtype first.\n",
      "  processed_data.loc[batch_mask, col] = corrected_series.values\n",
      "C:\\Users\\27344\\codespace\\codes\\ObjectTracking\\ensemble\\data\\track_preprocess.py:288: FutureWarning: Setting an item of incompatible dtype is deprecated and will raise an error in a future version of pandas. Value '167151.6263736264' has dtype incompatible with int64, please explicitly cast to a compatible dtype first.\n",
      "  series_copy.iloc[i] = predicted_value\n",
      "C:\\Users\\27344\\codespace\\codes\\ObjectTracking\\ensemble\\data\\track_preprocess.py:346: FutureWarning: Setting an item of incompatible dtype is deprecated and will raise an error in a future version of pandas. Value '[ 85241.         131770.          78410.          38897.\n",
      "  89702.          57101.          74309.         171861.\n",
      " 122286.         242710.         344549.          47853.\n",
      " 120109.          86545.         167151.62637363 184167.\n",
      " 156358.          61487.         101799.         120312.\n",
      "  66565.         137636.         238430.          69736.\n",
      " 208506.        ]' has dtype incompatible with int64, please explicitly cast to a compatible dtype first.\n",
      "  processed_data.loc[batch_mask, col] = corrected_series.values\n",
      "C:\\Users\\27344\\codespace\\codes\\ObjectTracking\\ensemble\\data\\track_preprocess.py:288: FutureWarning: Setting an item of incompatible dtype is deprecated and will raise an error in a future version of pandas. Value '117983.25454545475' has dtype incompatible with int64, please explicitly cast to a compatible dtype first.\n",
      "  series_copy.iloc[i] = predicted_value\n",
      "C:\\Users\\27344\\codespace\\codes\\ObjectTracking\\ensemble\\data\\track_preprocess.py:346: FutureWarning: Setting an item of incompatible dtype is deprecated and will raise an error in a future version of pandas. Value '[ 291380.          810762.          529444.          842407.\n",
      "  585724.          316878.          198785.          120283.\n",
      "  121302.           46921.          493664.          117983.25454545\n",
      " 3934381.          983170.         1828864.          284596.\n",
      "  110404.          938919.          270047.          481058.\n",
      "  556355.          495539.          123763.          137346.\n",
      "   23944.        ]' has dtype incompatible with int64, please explicitly cast to a compatible dtype first.\n",
      "  processed_data.loc[batch_mask, col] = corrected_series.values\n",
      "C:\\Users\\27344\\codespace\\codes\\ObjectTracking\\ensemble\\data\\track_preprocess.py:288: FutureWarning: Setting an item of incompatible dtype is deprecated and will raise an error in a future version of pandas. Value '22637.428571428463' has dtype incompatible with int64, please explicitly cast to a compatible dtype first.\n",
      "  series_copy.iloc[i] = predicted_value\n",
      "C:\\Users\\27344\\codespace\\codes\\ObjectTracking\\ensemble\\data\\track_preprocess.py:346: FutureWarning: Setting an item of incompatible dtype is deprecated and will raise an error in a future version of pandas. Value '[ 48519.         525683.          88849.          93106.\n",
      " 163587.          58769.          46149.          22637.42857143\n",
      "  69820.          28951.         193585.          59103.\n",
      " 254805.          36963.         119357.          80251.\n",
      " 227489.          20967.         118250.          31254.\n",
      " 142383.         137771.          74828.          44973.\n",
      " 130517.        ]' has dtype incompatible with int64, please explicitly cast to a compatible dtype first.\n",
      "  processed_data.loc[batch_mask, col] = corrected_series.values\n",
      "C:\\Users\\27344\\codespace\\codes\\ObjectTracking\\ensemble\\data\\track_preprocess.py:288: FutureWarning: Setting an item of incompatible dtype is deprecated and will raise an error in a future version of pandas. Value '623754.0454545453' has dtype incompatible with int64, please explicitly cast to a compatible dtype first.\n",
      "  series_copy.iloc[i] = predicted_value\n",
      "C:\\Users\\27344\\codespace\\codes\\ObjectTracking\\ensemble\\data\\track_preprocess.py:346: FutureWarning: Setting an item of incompatible dtype is deprecated and will raise an error in a future version of pandas. Value '[ 481722.          567652.          666288.          315794.\n",
      " 1337661.          465589.         1395457.          452940.\n",
      "  288506.          210985.          599683.          861501.\n",
      "  623754.04545455  423591.          423998.          663488.\n",
      "  276541.          504325.        ]' has dtype incompatible with int64, please explicitly cast to a compatible dtype first.\n",
      "  processed_data.loc[batch_mask, col] = corrected_series.values\n",
      "C:\\Users\\27344\\codespace\\codes\\ObjectTracking\\ensemble\\data\\track_preprocess.py:288: FutureWarning: Setting an item of incompatible dtype is deprecated and will raise an error in a future version of pandas. Value '195747.423076923' has dtype incompatible with int64, please explicitly cast to a compatible dtype first.\n",
      "  series_copy.iloc[i] = predicted_value\n",
      "C:\\Users\\27344\\codespace\\codes\\ObjectTracking\\ensemble\\data\\track_preprocess.py:346: FutureWarning: Setting an item of incompatible dtype is deprecated and will raise an error in a future version of pandas. Value '[305883.         185350.         174194.         192017.\n",
      " 321165.         271279.         202429.         141430.\n",
      " 184995.         268765.         224061.         195746.\n",
      " 188825.         195747.42307692 167120.          91939.\n",
      " 162549.         170759.         187277.        ]' has dtype incompatible with int64, please explicitly cast to a compatible dtype first.\n",
      "  processed_data.loc[batch_mask, col] = corrected_series.values\n",
      "C:\\Users\\27344\\codespace\\codes\\ObjectTracking\\ensemble\\data\\track_preprocess.py:288: FutureWarning: Setting an item of incompatible dtype is deprecated and will raise an error in a future version of pandas. Value '57931.607142857116' has dtype incompatible with int64, please explicitly cast to a compatible dtype first.\n",
      "  series_copy.iloc[i] = predicted_value\n",
      "C:\\Users\\27344\\codespace\\codes\\ObjectTracking\\ensemble\\data\\track_preprocess.py:346: FutureWarning: Setting an item of incompatible dtype is deprecated and will raise an error in a future version of pandas. Value '[ 32259.          56482.          49124.          64264.\n",
      "  34017.          58092.          61701.          48635.\n",
      "  57931.60714286  79323.         132666.          86249.\n",
      "  83996.         114435.          78722.         103674.\n",
      "  55058.         103531.         103187.          98722.\n",
      " 145760.         103426.          43830.          98844.\n",
      " 100651.        ]' has dtype incompatible with int64, please explicitly cast to a compatible dtype first.\n",
      "  processed_data.loc[batch_mask, col] = corrected_series.values\n",
      "C:\\Users\\27344\\codespace\\codes\\ObjectTracking\\ensemble\\data\\track_preprocess.py:288: FutureWarning: Setting an item of incompatible dtype is deprecated and will raise an error in a future version of pandas. Value '124010.39285714277' has dtype incompatible with int64, please explicitly cast to a compatible dtype first.\n",
      "  series_copy.iloc[i] = predicted_value\n",
      "C:\\Users\\27344\\codespace\\codes\\ObjectTracking\\ensemble\\data\\track_preprocess.py:346: FutureWarning: Setting an item of incompatible dtype is deprecated and will raise an error in a future version of pandas. Value '[143492.         238501.         154012.         106086.\n",
      " 160558.          55884.         104651.         212254.\n",
      " 124010.39285714 199765.         239656.         150426.\n",
      " 116079.          73185.          43825.          37003.\n",
      "  49520.         138709.         107141.          87039.\n",
      "  84247.         114180.         141498.        ]' has dtype incompatible with int64, please explicitly cast to a compatible dtype first.\n",
      "  processed_data.loc[batch_mask, col] = corrected_series.values\n",
      "C:\\Users\\27344\\codespace\\codes\\ObjectTracking\\ensemble\\data\\track_preprocess.py:288: FutureWarning: Setting an item of incompatible dtype is deprecated and will raise an error in a future version of pandas. Value '120041.7142857143' has dtype incompatible with int64, please explicitly cast to a compatible dtype first.\n",
      "  series_copy.iloc[i] = predicted_value\n",
      "C:\\Users\\27344\\codespace\\codes\\ObjectTracking\\ensemble\\data\\track_preprocess.py:346: FutureWarning: Setting an item of incompatible dtype is deprecated and will raise an error in a future version of pandas. Value '[ 47006.          49974.          67312.          71377.\n",
      "  47078.          63744.          66570.          95817.\n",
      " 101037.          74162.          78145.         184476.\n",
      "  97202.          76688.         107696.         120041.71428571\n",
      " 115256.          73098.          75136.          58227.\n",
      "  49880.         104861.          54073.          80069.        ]' has dtype incompatible with int64, please explicitly cast to a compatible dtype first.\n",
      "  processed_data.loc[batch_mask, col] = corrected_series.values\n",
      "C:\\Users\\27344\\codespace\\codes\\ObjectTracking\\ensemble\\data\\track_preprocess.py:288: FutureWarning: Setting an item of incompatible dtype is deprecated and will raise an error in a future version of pandas. Value '2408954.138888889' has dtype incompatible with int64, please explicitly cast to a compatible dtype first.\n",
      "  series_copy.iloc[i] = predicted_value\n",
      "C:\\Users\\27344\\codespace\\codes\\ObjectTracking\\ensemble\\data\\track_preprocess.py:346: FutureWarning: Setting an item of incompatible dtype is deprecated and will raise an error in a future version of pandas. Value '[  86320.          196084.          698226.          328232.\n",
      " 1104945.         1520239.         1288398.         4109172.\n",
      "  506055.         2408954.13888889  543839.          388232.\n",
      " 3589754.         1310030.          209450.          600925.\n",
      "  128983.          261838.        ]' has dtype incompatible with int64, please explicitly cast to a compatible dtype first.\n",
      "  processed_data.loc[batch_mask, col] = corrected_series.values\n",
      "C:\\Users\\27344\\codespace\\codes\\ObjectTracking\\ensemble\\data\\track_preprocess.py:288: FutureWarning: Setting an item of incompatible dtype is deprecated and will raise an error in a future version of pandas. Value '-89921.07692307758' has dtype incompatible with int64, please explicitly cast to a compatible dtype first.\n",
      "  series_copy.iloc[i] = predicted_value\n",
      "C:\\Users\\27344\\codespace\\codes\\ObjectTracking\\ensemble\\data\\track_preprocess.py:346: FutureWarning: Setting an item of incompatible dtype is deprecated and will raise an error in a future version of pandas. Value '[2031342.           26124.          583183.          429026.\n",
      "  290810.          134455.          182513.          324922.\n",
      "   42874.          150354.          128821.          225975.\n",
      "  338615.          -89921.07692308 1411652.          317519.        ]' has dtype incompatible with int64, please explicitly cast to a compatible dtype first.\n",
      "  processed_data.loc[batch_mask, col] = corrected_series.values\n",
      "C:\\Users\\27344\\codespace\\codes\\ObjectTracking\\ensemble\\data\\track_preprocess.py:242: FutureWarning: Setting an item of incompatible dtype is deprecated and will raise an error in a future version of pandas. Value '240277.92857142858' has dtype incompatible with int64, please explicitly cast to a compatible dtype first.\n",
      "  series_copy.iloc[i] = fill_value\n",
      "C:\\Users\\27344\\codespace\\codes\\ObjectTracking\\ensemble\\data\\track_preprocess.py:346: FutureWarning: Setting an item of incompatible dtype is deprecated and will raise an error in a future version of pandas. Value '[ 81366.         240277.92857143 187367.          68719.\n",
      " 131495.         243984.         797201.         746742.\n",
      " 110086.         148033.         387179.         218439.\n",
      "  64524.          55366.         123390.        ]' has dtype incompatible with int64, please explicitly cast to a compatible dtype first.\n",
      "  processed_data.loc[batch_mask, col] = corrected_series.values\n",
      "C:\\Users\\27344\\codespace\\codes\\ObjectTracking\\ensemble\\data\\track_preprocess.py:242: FutureWarning: Setting an item of incompatible dtype is deprecated and will raise an error in a future version of pandas. Value '2155324.1666666665' has dtype incompatible with int64, please explicitly cast to a compatible dtype first.\n",
      "  series_copy.iloc[i] = fill_value\n",
      "C:\\Users\\27344\\codespace\\codes\\ObjectTracking\\ensemble\\data\\track_preprocess.py:346: FutureWarning: Setting an item of incompatible dtype is deprecated and will raise an error in a future version of pandas. Value '[2470035.         2155324.16666667 3726721.         3552534.\n",
      " 5425721.          868420.         2129609.         2994383.\n",
      " 1133461.          550093.         2864471.         1994851.\n",
      " 3889048.         1681537.         1004440.         3876523.\n",
      " 1440956.         3340764.          668010.         1695342.\n",
      " 1869116.          991543.         2516455.          230379.\n",
      "  813368.        ]' has dtype incompatible with int64, please explicitly cast to a compatible dtype first.\n",
      "  processed_data.loc[batch_mask, col] = corrected_series.values\n",
      "C:\\Users\\27344\\codespace\\codes\\ObjectTracking\\ensemble\\data\\track_preprocess.py:288: FutureWarning: Setting an item of incompatible dtype is deprecated and will raise an error in a future version of pandas. Value '326540.393939394' has dtype incompatible with int64, please explicitly cast to a compatible dtype first.\n",
      "  series_copy.iloc[i] = predicted_value\n",
      "C:\\Users\\27344\\codespace\\codes\\ObjectTracking\\ensemble\\data\\track_preprocess.py:346: FutureWarning: Setting an item of incompatible dtype is deprecated and will raise an error in a future version of pandas. Value '[ 38561.         267634.         138378.         143760.\n",
      " 518079.          57171.         665191.         121362.\n",
      " 159877.         541612.         193898.         184152.\n",
      " 326540.39393939 182725.         121398.        ]' has dtype incompatible with int64, please explicitly cast to a compatible dtype first.\n",
      "  processed_data.loc[batch_mask, col] = corrected_series.values\n",
      "C:\\Users\\27344\\codespace\\codes\\ObjectTracking\\ensemble\\data\\track_preprocess.py:288: FutureWarning: Setting an item of incompatible dtype is deprecated and will raise an error in a future version of pandas. Value '3350115.6666666623' has dtype incompatible with int64, please explicitly cast to a compatible dtype first.\n",
      "  series_copy.iloc[i] = predicted_value\n",
      "C:\\Users\\27344\\codespace\\codes\\ObjectTracking\\ensemble\\data\\track_preprocess.py:346: FutureWarning: Setting an item of incompatible dtype is deprecated and will raise an error in a future version of pandas. Value '[9074579.         3117049.         6270614.         3350115.66666666\n",
      " 1212204.         2333329.         9127163.         2983043.\n",
      " 3671564.         1588219.         4553858.         5496317.\n",
      "  860406.         4994404.         4530860.         1226196.\n",
      " 2543015.         3623319.         2970156.        ]' has dtype incompatible with int64, please explicitly cast to a compatible dtype first.\n",
      "  processed_data.loc[batch_mask, col] = corrected_series.values\n",
      "C:\\Users\\27344\\codespace\\codes\\ObjectTracking\\ensemble\\data\\track_preprocess.py:288: FutureWarning: Setting an item of incompatible dtype is deprecated and will raise an error in a future version of pandas. Value '969640.2999999998' has dtype incompatible with int64, please explicitly cast to a compatible dtype first.\n",
      "  series_copy.iloc[i] = predicted_value\n",
      "C:\\Users\\27344\\codespace\\codes\\ObjectTracking\\ensemble\\data\\track_preprocess.py:346: FutureWarning: Setting an item of incompatible dtype is deprecated and will raise an error in a future version of pandas. Value '[ 435219.   394855.   554719.   192472.  1220042.   969640.3  816755.\n",
      "  461279.   399735.   244484.   441423.   180846.   245391.   813335.\n",
      "  446625.   202792.   130345.   279813.   477511.   196621.   187906.\n",
      "  204058.   373913.   203337.   124448. ]' has dtype incompatible with int64, please explicitly cast to a compatible dtype first.\n",
      "  processed_data.loc[batch_mask, col] = corrected_series.values\n",
      "C:\\Users\\27344\\codespace\\codes\\ObjectTracking\\ensemble\\data\\track_preprocess.py:288: FutureWarning: Setting an item of incompatible dtype is deprecated and will raise an error in a future version of pandas. Value '405472.6666666656' has dtype incompatible with int64, please explicitly cast to a compatible dtype first.\n",
      "  series_copy.iloc[i] = predicted_value\n",
      "C:\\Users\\27344\\codespace\\codes\\ObjectTracking\\ensemble\\data\\track_preprocess.py:346: FutureWarning: Setting an item of incompatible dtype is deprecated and will raise an error in a future version of pandas. Value '[2151710.         3037430.          620602.          405472.66666667\n",
      "  840777.         1438317.          698696.         1390643.\n",
      " 1781292.          681636.         1058080.          267750.\n",
      "  119571.          419555.          352427.          717127.\n",
      "  410867.         1274287.           64376.          338570.\n",
      " 1153014.         2249080.         2368973.          318258.        ]' has dtype incompatible with int64, please explicitly cast to a compatible dtype first.\n",
      "  processed_data.loc[batch_mask, col] = corrected_series.values\n",
      "C:\\Users\\27344\\codespace\\codes\\ObjectTracking\\ensemble\\data\\track_preprocess.py:288: FutureWarning: Setting an item of incompatible dtype is deprecated and will raise an error in a future version of pandas. Value '701265.5277777776' has dtype incompatible with int64, please explicitly cast to a compatible dtype first.\n",
      "  series_copy.iloc[i] = predicted_value\n",
      "C:\\Users\\27344\\codespace\\codes\\ObjectTracking\\ensemble\\data\\track_preprocess.py:346: FutureWarning: Setting an item of incompatible dtype is deprecated and will raise an error in a future version of pandas. Value '[ 264247.          308937.          478589.         1145122.\n",
      "  178394.          973109.          161321.          723643.\n",
      "  635648.          701265.52777778   88131.          672512.\n",
      "  507812.          158368.         1358520.        ]' has dtype incompatible with int64, please explicitly cast to a compatible dtype first.\n",
      "  processed_data.loc[batch_mask, col] = corrected_series.values\n",
      "C:\\Users\\27344\\codespace\\codes\\ObjectTracking\\ensemble\\data\\track_preprocess.py:288: FutureWarning: Setting an item of incompatible dtype is deprecated and will raise an error in a future version of pandas. Value '20944.39999999998' has dtype incompatible with int64, please explicitly cast to a compatible dtype first.\n",
      "  series_copy.iloc[i] = predicted_value\n",
      "C:\\Users\\27344\\codespace\\codes\\ObjectTracking\\ensemble\\data\\track_preprocess.py:346: FutureWarning: Setting an item of incompatible dtype is deprecated and will raise an error in a future version of pandas. Value '[ 51758.  122203.   18658.   51471.   30501.   20944.4 437300.  216916.\n",
      "  52402.   77712.   93379.  313317.   72381.   67468.  218242.  107631. ]' has dtype incompatible with int64, please explicitly cast to a compatible dtype first.\n",
      "  processed_data.loc[batch_mask, col] = corrected_series.values\n",
      "C:\\Users\\27344\\codespace\\codes\\ObjectTracking\\ensemble\\data\\track_preprocess.py:288: FutureWarning: Setting an item of incompatible dtype is deprecated and will raise an error in a future version of pandas. Value '889608.3928571427' has dtype incompatible with int64, please explicitly cast to a compatible dtype first.\n",
      "  series_copy.iloc[i] = predicted_value\n",
      "C:\\Users\\27344\\codespace\\codes\\ObjectTracking\\ensemble\\data\\track_preprocess.py:346: FutureWarning: Setting an item of incompatible dtype is deprecated and will raise an error in a future version of pandas. Value '[ 378311.          350079.          328887.          899201.\n",
      "  790585.          352886.          339362.         1212787.\n",
      "  889608.39285714  158445.           38856.           34103.\n",
      "  588670.         1371786.          598117.        ]' has dtype incompatible with int64, please explicitly cast to a compatible dtype first.\n",
      "  processed_data.loc[batch_mask, col] = corrected_series.values\n",
      "C:\\Users\\27344\\codespace\\codes\\ObjectTracking\\ensemble\\data\\track_preprocess.py:288: FutureWarning: Setting an item of incompatible dtype is deprecated and will raise an error in a future version of pandas. Value '185756.99999999994' has dtype incompatible with int64, please explicitly cast to a compatible dtype first.\n",
      "  series_copy.iloc[i] = predicted_value\n",
      "C:\\Users\\27344\\codespace\\codes\\ObjectTracking\\ensemble\\data\\track_preprocess.py:346: FutureWarning: Setting an item of incompatible dtype is deprecated and will raise an error in a future version of pandas. Value '[128759. 157258. 185757.  80430. 134714.  56197.  60367. 269181.  63779.\n",
      "  32610.  56766.  39033. 110262.  50355. 125200.]' has dtype incompatible with int64, please explicitly cast to a compatible dtype first.\n",
      "  processed_data.loc[batch_mask, col] = corrected_series.values\n",
      "C:\\Users\\27344\\codespace\\codes\\ObjectTracking\\ensemble\\data\\track_preprocess.py:288: FutureWarning: Setting an item of incompatible dtype is deprecated and will raise an error in a future version of pandas. Value '-424841.6666666677' has dtype incompatible with int64, please explicitly cast to a compatible dtype first.\n",
      "  series_copy.iloc[i] = predicted_value\n",
      "C:\\Users\\27344\\codespace\\codes\\ObjectTracking\\ensemble\\data\\track_preprocess.py:346: FutureWarning: Setting an item of incompatible dtype is deprecated and will raise an error in a future version of pandas. Value '[1547030.          112471.          426766.         -424841.66666667\n",
      " 2105230.         4945635.         2508746.         4893581.\n",
      " 4555483.         3699890.         5931115.         3172448.\n",
      " 7262320.         4675814.          330841.        ]' has dtype incompatible with int64, please explicitly cast to a compatible dtype first.\n",
      "  processed_data.loc[batch_mask, col] = corrected_series.values\n",
      "C:\\Users\\27344\\codespace\\codes\\ObjectTracking\\ensemble\\data\\track_preprocess.py:288: FutureWarning: Setting an item of incompatible dtype is deprecated and will raise an error in a future version of pandas. Value '292672.8' has dtype incompatible with int64, please explicitly cast to a compatible dtype first.\n",
      "  series_copy.iloc[i] = predicted_value\n",
      "C:\\Users\\27344\\codespace\\codes\\ObjectTracking\\ensemble\\data\\track_preprocess.py:346: FutureWarning: Setting an item of incompatible dtype is deprecated and will raise an error in a future version of pandas. Value '[ 36805.   49198.   43244.  135866.  294666.  292672.8 103784.   87882.\n",
      "  27033.  459570.  606690.   95903.   98563.   74986.  249626.  163045. ]' has dtype incompatible with int64, please explicitly cast to a compatible dtype first.\n",
      "  processed_data.loc[batch_mask, col] = corrected_series.values\n",
      "C:\\Users\\27344\\codespace\\codes\\ObjectTracking\\ensemble\\data\\track_preprocess.py:288: FutureWarning: Setting an item of incompatible dtype is deprecated and will raise an error in a future version of pandas. Value '2150406.5' has dtype incompatible with int64, please explicitly cast to a compatible dtype first.\n",
      "  series_copy.iloc[i] = predicted_value\n",
      "C:\\Users\\27344\\codespace\\codes\\ObjectTracking\\ensemble\\data\\track_preprocess.py:346: FutureWarning: Setting an item of incompatible dtype is deprecated and will raise an error in a future version of pandas. Value '[ 270053.   547601.  3047916.   761475.  2150406.5  510423.  1478330.\n",
      "  817417.   613129.   486183.    33831.   184576.   175912.  1495299.\n",
      " 2878739.   552175.   402499.   373584.    79765.   534610.   333825.\n",
      " 2093430.   132659.  2636215.   743361. ]' has dtype incompatible with int64, please explicitly cast to a compatible dtype first.\n",
      "  processed_data.loc[batch_mask, col] = corrected_series.values\n",
      "C:\\Users\\27344\\codespace\\codes\\ObjectTracking\\ensemble\\data\\track_preprocess.py:288: FutureWarning: Setting an item of incompatible dtype is deprecated and will raise an error in a future version of pandas. Value '94995.53333333328' has dtype incompatible with int64, please explicitly cast to a compatible dtype first.\n",
      "  series_copy.iloc[i] = predicted_value\n",
      "C:\\Users\\27344\\codespace\\codes\\ObjectTracking\\ensemble\\data\\track_preprocess.py:346: FutureWarning: Setting an item of incompatible dtype is deprecated and will raise an error in a future version of pandas. Value '[ 26315.         252728.         219409.         160005.\n",
      " 136395.          24777.          94995.53333333 844648.\n",
      " 337736.         244955.         390790.         796539.\n",
      "  21714.          45934.         148310.         823636.\n",
      " 265570.        ]' has dtype incompatible with int64, please explicitly cast to a compatible dtype first.\n",
      "  processed_data.loc[batch_mask, col] = corrected_series.values\n",
      "C:\\Users\\27344\\codespace\\codes\\ObjectTracking\\ensemble\\data\\track_preprocess.py:288: FutureWarning: Setting an item of incompatible dtype is deprecated and will raise an error in a future version of pandas. Value '89311.52500000004' has dtype incompatible with int64, please explicitly cast to a compatible dtype first.\n",
      "  series_copy.iloc[i] = predicted_value\n",
      "C:\\Users\\27344\\codespace\\codes\\ObjectTracking\\ensemble\\data\\track_preprocess.py:346: FutureWarning: Setting an item of incompatible dtype is deprecated and will raise an error in a future version of pandas. Value '[ 27798.     57884.    136850.     48828.     69479.    133950.\n",
      " 120859.     36726.     80021.     42877.     93245.    166371.\n",
      "  96138.     54348.    106261.     38624.     89311.525  66774.\n",
      " 137566.     35835.     75037.     71741.    102192.    100075.   ]' has dtype incompatible with int64, please explicitly cast to a compatible dtype first.\n",
      "  processed_data.loc[batch_mask, col] = corrected_series.values\n",
      "C:\\Users\\27344\\codespace\\codes\\ObjectTracking\\ensemble\\data\\track_preprocess.py:288: FutureWarning: Setting an item of incompatible dtype is deprecated and will raise an error in a future version of pandas. Value '380463.66666666674' has dtype incompatible with int64, please explicitly cast to a compatible dtype first.\n",
      "  series_copy.iloc[i] = predicted_value\n",
      "C:\\Users\\27344\\codespace\\codes\\ObjectTracking\\ensemble\\data\\track_preprocess.py:346: FutureWarning: Setting an item of incompatible dtype is deprecated and will raise an error in a future version of pandas. Value '[  61827.          316825.          237055.          380463.66666667\n",
      "  406079.           75213.          261061.           19725.\n",
      " 1235626.          220059.          105076.          835457.\n",
      "  704478.           45528.          116566.        ]' has dtype incompatible with int64, please explicitly cast to a compatible dtype first.\n",
      "  processed_data.loc[batch_mask, col] = corrected_series.values\n",
      "C:\\Users\\27344\\codespace\\codes\\ObjectTracking\\ensemble\\data\\track_preprocess.py:288: FutureWarning: Setting an item of incompatible dtype is deprecated and will raise an error in a future version of pandas. Value '679224.10989011' has dtype incompatible with int64, please explicitly cast to a compatible dtype first.\n",
      "  series_copy.iloc[i] = predicted_value\n",
      "C:\\Users\\27344\\codespace\\codes\\ObjectTracking\\ensemble\\data\\track_preprocess.py:346: FutureWarning: Setting an item of incompatible dtype is deprecated and will raise an error in a future version of pandas. Value '[  55666.           88389.           44792.           78227.\n",
      "   84705.          143226.          242276.          325646.\n",
      "  226457.           37340.           37771.          435550.\n",
      "  651197.         1256949.          679224.10989011  987241.\n",
      "  219984.          100700.          103169.          295572.\n",
      "  265016.          294987.          351021.          115270.\n",
      "  446568.        ]' has dtype incompatible with int64, please explicitly cast to a compatible dtype first.\n",
      "  processed_data.loc[batch_mask, col] = corrected_series.values\n",
      "C:\\Users\\27344\\codespace\\codes\\ObjectTracking\\ensemble\\data\\track_preprocess.py:201: RuntimeWarning: Precision loss occurred in moment calculation due to catastrophic cancellation. This occurs when the data are nearly identical. Results may be unreliable.\n",
      "  z_scores = np.abs(zscore(series, nan_policy='omit'))\n",
      "C:\\Users\\27344\\codespace\\codes\\ObjectTracking\\ensemble\\data\\track_preprocess.py:288: FutureWarning: Setting an item of incompatible dtype is deprecated and will raise an error in a future version of pandas. Value '347834.36842105247' has dtype incompatible with int64, please explicitly cast to a compatible dtype first.\n",
      "  series_copy.iloc[i] = predicted_value\n",
      "C:\\Users\\27344\\codespace\\codes\\ObjectTracking\\ensemble\\data\\track_preprocess.py:346: FutureWarning: Setting an item of incompatible dtype is deprecated and will raise an error in a future version of pandas. Value '[626655.          95397.         685726.         461628.\n",
      " 662933.         448168.         170260.         467424.\n",
      " 392105.         300365.         361491.         340525.\n",
      " 612668.         126662.         695046.         487728.\n",
      " 312531.         379247.         346299.         281003.\n",
      " 347834.36842105  81359.        ]' has dtype incompatible with int64, please explicitly cast to a compatible dtype first.\n",
      "  processed_data.loc[batch_mask, col] = corrected_series.values\n",
      "C:\\Users\\27344\\codespace\\codes\\ObjectTracking\\ensemble\\data\\track_preprocess.py:288: FutureWarning: Setting an item of incompatible dtype is deprecated and will raise an error in a future version of pandas. Value '4029659.5714285704' has dtype incompatible with int64, please explicitly cast to a compatible dtype first.\n",
      "  series_copy.iloc[i] = predicted_value\n",
      "C:\\Users\\27344\\codespace\\codes\\ObjectTracking\\ensemble\\data\\track_preprocess.py:346: FutureWarning: Setting an item of incompatible dtype is deprecated and will raise an error in a future version of pandas. Value '[  73285.           56819.          184166.           67608.\n",
      "  580036.         4063413.         1894195.         4098290.\n",
      " 4029659.57142857 1115464.         2389196.          873000.\n",
      "  259958.         1349323.          375867.         1725244.\n",
      "  289641.         1157885.         1411375.          151918.\n",
      " 2235869.         1342020.          548614.          434357.\n",
      "  125647.        ]' has dtype incompatible with int64, please explicitly cast to a compatible dtype first.\n",
      "  processed_data.loc[batch_mask, col] = corrected_series.values\n",
      "C:\\Users\\27344\\codespace\\codes\\ObjectTracking\\ensemble\\data\\track_preprocess.py:288: FutureWarning: Setting an item of incompatible dtype is deprecated and will raise an error in a future version of pandas. Value '278113.7509881421' has dtype incompatible with int64, please explicitly cast to a compatible dtype first.\n",
      "  series_copy.iloc[i] = predicted_value\n",
      "C:\\Users\\27344\\codespace\\codes\\ObjectTracking\\ensemble\\data\\track_preprocess.py:346: FutureWarning: Setting an item of incompatible dtype is deprecated and will raise an error in a future version of pandas. Value '[1120798.          797385.          362202.          409632.\n",
      "  911309.          753293.          561470.          932069.\n",
      "  790967.          909461.          405234.          483016.\n",
      "  461343.          342494.          403005.          172964.\n",
      "  458356.          428347.          974203.          684737.\n",
      "  119430.           27811.          333937.          278113.75098814\n",
      " 1558691.        ]' has dtype incompatible with int64, please explicitly cast to a compatible dtype first.\n",
      "  processed_data.loc[batch_mask, col] = corrected_series.values\n",
      "C:\\Users\\27344\\codespace\\codes\\ObjectTracking\\ensemble\\data\\track_preprocess.py:201: RuntimeWarning: Precision loss occurred in moment calculation due to catastrophic cancellation. This occurs when the data are nearly identical. Results may be unreliable.\n",
      "  z_scores = np.abs(zscore(series, nan_policy='omit'))\n",
      "C:\\Users\\27344\\codespace\\codes\\ObjectTracking\\ensemble\\data\\track_preprocess.py:242: FutureWarning: Setting an item of incompatible dtype is deprecated and will raise an error in a future version of pandas. Value '586864.4375' has dtype incompatible with int64, please explicitly cast to a compatible dtype first.\n",
      "  series_copy.iloc[i] = fill_value\n",
      "C:\\Users\\27344\\codespace\\codes\\ObjectTracking\\ensemble\\data\\track_preprocess.py:346: FutureWarning: Setting an item of incompatible dtype is deprecated and will raise an error in a future version of pandas. Value '[ 906500.      586864.4375  431943.      167015.      628493.\n",
      "  674762.      690796.      450690.      196790.      868616.\n",
      " 1106577.     1136877.      125877.      525953.      298050.\n",
      "  611019.      569873.    ]' has dtype incompatible with int64, please explicitly cast to a compatible dtype first.\n",
      "  processed_data.loc[batch_mask, col] = corrected_series.values\n",
      "C:\\Users\\27344\\codespace\\codes\\ObjectTracking\\ensemble\\data\\track_preprocess.py:242: FutureWarning: Setting an item of incompatible dtype is deprecated and will raise an error in a future version of pandas. Value '366452.4583333333' has dtype incompatible with int64, please explicitly cast to a compatible dtype first.\n",
      "  series_copy.iloc[i] = fill_value\n",
      "C:\\Users\\27344\\codespace\\codes\\ObjectTracking\\ensemble\\data\\track_preprocess.py:346: FutureWarning: Setting an item of incompatible dtype is deprecated and will raise an error in a future version of pandas. Value '[426837.         366452.45833333 397630.          68226.\n",
      " 320346.         302784.         241154.         489934.\n",
      " 512799.         711272.         662502.         488293.\n",
      " 188219.         214233.         397571.         192912.\n",
      " 396976.         269340.         286312.         722995.\n",
      " 374260.         410497.         430657.         155953.\n",
      " 133157.        ]' has dtype incompatible with int64, please explicitly cast to a compatible dtype first.\n",
      "  processed_data.loc[batch_mask, col] = corrected_series.values\n",
      "C:\\Users\\27344\\codespace\\codes\\ObjectTracking\\ensemble\\data\\track_preprocess.py:288: FutureWarning: Setting an item of incompatible dtype is deprecated and will raise an error in a future version of pandas. Value '882981.7352941177' has dtype incompatible with int64, please explicitly cast to a compatible dtype first.\n",
      "  series_copy.iloc[i] = predicted_value\n",
      "C:\\Users\\27344\\codespace\\codes\\ObjectTracking\\ensemble\\data\\track_preprocess.py:346: FutureWarning: Setting an item of incompatible dtype is deprecated and will raise an error in a future version of pandas. Value '[ 104875.          739806.         1824642.          590821.\n",
      "  826093.          628028.         1000848.          364079.\n",
      "  369443.          390957.          550947.          302668.\n",
      "  493077.         2024618.          331559.          724469.\n",
      " 1490653.          882981.73529412  655393.         1078674.\n",
      "  767235.          777513.          153093.          410471.\n",
      " 1098090.        ]' has dtype incompatible with int64, please explicitly cast to a compatible dtype first.\n",
      "  processed_data.loc[batch_mask, col] = corrected_series.values\n",
      "C:\\Users\\27344\\codespace\\codes\\ObjectTracking\\ensemble\\data\\track_preprocess.py:288: FutureWarning: Setting an item of incompatible dtype is deprecated and will raise an error in a future version of pandas. Value '177639.99999999983' has dtype incompatible with int64, please explicitly cast to a compatible dtype first.\n",
      "  series_copy.iloc[i] = predicted_value\n",
      "C:\\Users\\27344\\codespace\\codes\\ObjectTracking\\ensemble\\data\\track_preprocess.py:346: FutureWarning: Setting an item of incompatible dtype is deprecated and will raise an error in a future version of pandas. Value '[476371. 546477. 484379. 173636. 177640. 277096. 365919. 516089. 178149.\n",
      " 449068. 152841. 171498.  26017. 289468. 424222. 984499. 242662. 354349.\n",
      " 279696. 399903. 697579. 810162. 118116. 123958. 120736.]' has dtype incompatible with int64, please explicitly cast to a compatible dtype first.\n",
      "  processed_data.loc[batch_mask, col] = corrected_series.values\n",
      "C:\\Users\\27344\\codespace\\codes\\ObjectTracking\\ensemble\\data\\track_preprocess.py:288: FutureWarning: Setting an item of incompatible dtype is deprecated and will raise an error in a future version of pandas. Value '86024.53333333337' has dtype incompatible with int64, please explicitly cast to a compatible dtype first.\n",
      "  series_copy.iloc[i] = predicted_value\n",
      "C:\\Users\\27344\\codespace\\codes\\ObjectTracking\\ensemble\\data\\track_preprocess.py:346: FutureWarning: Setting an item of incompatible dtype is deprecated and will raise an error in a future version of pandas. Value '[135428.         209525.         462431.          70455.\n",
      "  50746.         211413.          35260.          74993.\n",
      "  29893.          74135.         181295.         267938.\n",
      " 107465.         117649.          69624.          86024.53333333\n",
      "  53189.          73204.         342478.          81841.\n",
      "  89369.         156343.         128060.          65729.\n",
      "  73817.        ]' has dtype incompatible with int64, please explicitly cast to a compatible dtype first.\n",
      "  processed_data.loc[batch_mask, col] = corrected_series.values\n",
      "C:\\Users\\27344\\codespace\\codes\\ObjectTracking\\ensemble\\data\\track_preprocess.py:288: FutureWarning: Setting an item of incompatible dtype is deprecated and will raise an error in a future version of pandas. Value '367412.2857142858' has dtype incompatible with int64, please explicitly cast to a compatible dtype first.\n",
      "  series_copy.iloc[i] = predicted_value\n",
      "C:\\Users\\27344\\codespace\\codes\\ObjectTracking\\ensemble\\data\\track_preprocess.py:346: FutureWarning: Setting an item of incompatible dtype is deprecated and will raise an error in a future version of pandas. Value '[153257.         115227.         133402.         116229.\n",
      " 128799.         319004.         415697.         367412.28571429\n",
      " 282418.          65408.         138015.         103544.\n",
      " 172096.         229666.         168274.         200637.\n",
      " 198686.         197874.         102944.         151569.\n",
      " 144429.         106379.         271936.         222423.\n",
      " 247323.         190412.        ]' has dtype incompatible with int64, please explicitly cast to a compatible dtype first.\n",
      "  processed_data.loc[batch_mask, col] = corrected_series.values\n",
      "C:\\Users\\27344\\codespace\\codes\\ObjectTracking\\ensemble\\data\\track_preprocess.py:242: FutureWarning: Setting an item of incompatible dtype is deprecated and will raise an error in a future version of pandas. Value '349806.35714285716' has dtype incompatible with int64, please explicitly cast to a compatible dtype first.\n",
      "  series_copy.iloc[i] = fill_value\n",
      "C:\\Users\\27344\\codespace\\codes\\ObjectTracking\\ensemble\\data\\track_preprocess.py:346: FutureWarning: Setting an item of incompatible dtype is deprecated and will raise an error in a future version of pandas. Value '[ 349806.35714286  778287.          402683.         1382430.\n",
      "  146444.          380464.          486753.           22447.\n",
      "   37745.          254829.          111748.          316201.\n",
      "  119601.          229808.          227849.        ]' has dtype incompatible with int64, please explicitly cast to a compatible dtype first.\n",
      "  processed_data.loc[batch_mask, col] = corrected_series.values\n",
      "C:\\Users\\27344\\codespace\\codes\\ObjectTracking\\ensemble\\data\\track_preprocess.py:288: FutureWarning: Setting an item of incompatible dtype is deprecated and will raise an error in a future version of pandas. Value '17527.00000000003' has dtype incompatible with int64, please explicitly cast to a compatible dtype first.\n",
      "  series_copy.iloc[i] = predicted_value\n",
      "C:\\Users\\27344\\codespace\\codes\\ObjectTracking\\ensemble\\data\\track_preprocess.py:346: FutureWarning: Setting an item of incompatible dtype is deprecated and will raise an error in a future version of pandas. Value '[ 166403.  191524.   78773.   61342.   17527. 1875177.  693799.  181682.\n",
      "  306300.  469485.  207824. 1221039.  371917.  771384.   75202.]' has dtype incompatible with int64, please explicitly cast to a compatible dtype first.\n",
      "  processed_data.loc[batch_mask, col] = corrected_series.values\n",
      "C:\\Users\\27344\\codespace\\codes\\ObjectTracking\\ensemble\\data\\track_preprocess.py:288: FutureWarning: Setting an item of incompatible dtype is deprecated and will raise an error in a future version of pandas. Value '923055.4500000002' has dtype incompatible with int64, please explicitly cast to a compatible dtype first.\n",
      "  series_copy.iloc[i] = predicted_value\n",
      "C:\\Users\\27344\\codespace\\codes\\ObjectTracking\\ensemble\\data\\track_preprocess.py:346: FutureWarning: Setting an item of incompatible dtype is deprecated and will raise an error in a future version of pandas. Value '[  56868.    261127.    422434.    497643.    595590.   1264203.\n",
      "  841990.    117581.    270411.    303787.    441949.    258000.\n",
      "  538554.    630709.   1656934.   1052001.    923055.45  825838.\n",
      "  239175.    564255.    149774.    410928.  ]' has dtype incompatible with int64, please explicitly cast to a compatible dtype first.\n",
      "  processed_data.loc[batch_mask, col] = corrected_series.values\n",
      "C:\\Users\\27344\\codespace\\codes\\ObjectTracking\\ensemble\\data\\track_preprocess.py:288: FutureWarning: Setting an item of incompatible dtype is deprecated and will raise an error in a future version of pandas. Value '567477.3030303031' has dtype incompatible with int64, please explicitly cast to a compatible dtype first.\n",
      "  series_copy.iloc[i] = predicted_value\n",
      "C:\\Users\\27344\\codespace\\codes\\ObjectTracking\\ensemble\\data\\track_preprocess.py:346: FutureWarning: Setting an item of incompatible dtype is deprecated and will raise an error in a future version of pandas. Value '[199696.        103970.        290973.        254208.\n",
      " 868238.        916294.        623653.        235458.\n",
      " 746301.        392067.        164165.        549887.\n",
      " 567477.3030303 273543.         99808.       ]' has dtype incompatible with int64, please explicitly cast to a compatible dtype first.\n",
      "  processed_data.loc[batch_mask, col] = corrected_series.values\n",
      "C:\\Users\\27344\\codespace\\codes\\ObjectTracking\\ensemble\\data\\track_preprocess.py:288: FutureWarning: Setting an item of incompatible dtype is deprecated and will raise an error in a future version of pandas. Value '401360.76923076925' has dtype incompatible with int64, please explicitly cast to a compatible dtype first.\n",
      "  series_copy.iloc[i] = predicted_value\n",
      "C:\\Users\\27344\\codespace\\codes\\ObjectTracking\\ensemble\\data\\track_preprocess.py:346: FutureWarning: Setting an item of incompatible dtype is deprecated and will raise an error in a future version of pandas. Value '[408536.         260513.         108760.         122818.\n",
      " 550156.         384047.         193732.         121008.\n",
      " 341816.         279953.         345621.         301785.\n",
      " 755323.         252879.         401360.76923077]' has dtype incompatible with int64, please explicitly cast to a compatible dtype first.\n",
      "  processed_data.loc[batch_mask, col] = corrected_series.values\n",
      "C:\\Users\\27344\\codespace\\codes\\ObjectTracking\\ensemble\\data\\track_preprocess.py:288: FutureWarning: Setting an item of incompatible dtype is deprecated and will raise an error in a future version of pandas. Value '3192240.6691176463' has dtype incompatible with int64, please explicitly cast to a compatible dtype first.\n",
      "  series_copy.iloc[i] = predicted_value\n",
      "C:\\Users\\27344\\codespace\\codes\\ObjectTracking\\ensemble\\data\\track_preprocess.py:346: FutureWarning: Setting an item of incompatible dtype is deprecated and will raise an error in a future version of pandas. Value '[2631822.         2306318.         2718242.         2350269.\n",
      " 2149544.         1915673.         2334642.         2199930.\n",
      " 4079275.         1883767.          572584.          443261.\n",
      "  626356.         1638178.         1994568.         9029535.\n",
      " 3496484.         3192240.66911765  215747.         4077539.\n",
      " 3659604.          344680.         2866227.         2735431.\n",
      " 2264039.        ]' has dtype incompatible with int64, please explicitly cast to a compatible dtype first.\n",
      "  processed_data.loc[batch_mask, col] = corrected_series.values\n",
      "C:\\Users\\27344\\codespace\\codes\\ObjectTracking\\ensemble\\data\\track_preprocess.py:288: FutureWarning: Setting an item of incompatible dtype is deprecated and will raise an error in a future version of pandas. Value '196736.05714285717' has dtype incompatible with int64, please explicitly cast to a compatible dtype first.\n",
      "  series_copy.iloc[i] = predicted_value\n",
      "C:\\Users\\27344\\codespace\\codes\\ObjectTracking\\ensemble\\data\\track_preprocess.py:346: FutureWarning: Setting an item of incompatible dtype is deprecated and will raise an error in a future version of pandas. Value '[171631.         145292.          98198.         324609.\n",
      " 521032.          72695.         105084.         234913.\n",
      "  65067.          58160.         114277.         166007.\n",
      " 208488.         384128.         192584.         196736.05714286\n",
      " 227552.         129753.         140062.         352091.\n",
      " 362963.         206889.          69573.        ]' has dtype incompatible with int64, please explicitly cast to a compatible dtype first.\n",
      "  processed_data.loc[batch_mask, col] = corrected_series.values\n",
      "C:\\Users\\27344\\codespace\\codes\\ObjectTracking\\ensemble\\data\\track_preprocess.py:201: RuntimeWarning: Precision loss occurred in moment calculation due to catastrophic cancellation. This occurs when the data are nearly identical. Results may be unreliable.\n",
      "  z_scores = np.abs(zscore(series, nan_policy='omit'))\n",
      "C:\\Users\\27344\\codespace\\codes\\ObjectTracking\\ensemble\\data\\track_preprocess.py:201: RuntimeWarning: Precision loss occurred in moment calculation due to catastrophic cancellation. This occurs when the data are nearly identical. Results may be unreliable.\n",
      "  z_scores = np.abs(zscore(series, nan_policy='omit'))\n",
      "C:\\Users\\27344\\codespace\\codes\\ObjectTracking\\ensemble\\data\\track_preprocess.py:288: FutureWarning: Setting an item of incompatible dtype is deprecated and will raise an error in a future version of pandas. Value '887972.0000000002' has dtype incompatible with int64, please explicitly cast to a compatible dtype first.\n",
      "  series_copy.iloc[i] = predicted_value\n",
      "C:\\Users\\27344\\codespace\\codes\\ObjectTracking\\ensemble\\data\\track_preprocess.py:346: FutureWarning: Setting an item of incompatible dtype is deprecated and will raise an error in a future version of pandas. Value '[ 636167. 1570034.  591554.  887972.  166395. 3352466. 1672071.  577578.\n",
      "  556819.  868302.  299350.  756514.  717688.  654381.  384230.  319034.\n",
      "  209155. 1030554.  290279.  526253.]' has dtype incompatible with int64, please explicitly cast to a compatible dtype first.\n",
      "  processed_data.loc[batch_mask, col] = corrected_series.values\n",
      "C:\\Users\\27344\\codespace\\codes\\ObjectTracking\\ensemble\\data\\track_preprocess.py:288: FutureWarning: Setting an item of incompatible dtype is deprecated and will raise an error in a future version of pandas. Value '848941.1111111109' has dtype incompatible with int64, please explicitly cast to a compatible dtype first.\n",
      "  series_copy.iloc[i] = predicted_value\n",
      "C:\\Users\\27344\\codespace\\codes\\ObjectTracking\\ensemble\\data\\track_preprocess.py:346: FutureWarning: Setting an item of incompatible dtype is deprecated and will raise an error in a future version of pandas. Value '[719511.         160138.         135104.          68477.\n",
      " 390161.         541162.         856092.         681007.\n",
      " 909850.         848941.11111111 180606.         327712.\n",
      " 339468.         411917.         525424.         384276.\n",
      " 265758.         124085.          99053.         150976.        ]' has dtype incompatible with int64, please explicitly cast to a compatible dtype first.\n",
      "  processed_data.loc[batch_mask, col] = corrected_series.values\n",
      "C:\\Users\\27344\\codespace\\codes\\ObjectTracking\\ensemble\\data\\track_preprocess.py:288: FutureWarning: Setting an item of incompatible dtype is deprecated and will raise an error in a future version of pandas. Value '194212.53846153838' has dtype incompatible with int64, please explicitly cast to a compatible dtype first.\n",
      "  series_copy.iloc[i] = predicted_value\n",
      "C:\\Users\\27344\\codespace\\codes\\ObjectTracking\\ensemble\\data\\track_preprocess.py:346: FutureWarning: Setting an item of incompatible dtype is deprecated and will raise an error in a future version of pandas. Value '[ 602644.          517902.          712448.         1032507.\n",
      "  831400.          202575.          342974.          279052.\n",
      "  325471.          308926.          480402.          182162.\n",
      "  342684.          194212.53846154  862354.          235715.\n",
      "  279551.          782948.          340094.          234310.        ]' has dtype incompatible with int64, please explicitly cast to a compatible dtype first.\n",
      "  processed_data.loc[batch_mask, col] = corrected_series.values\n",
      "C:\\Users\\27344\\codespace\\codes\\ObjectTracking\\ensemble\\data\\track_preprocess.py:288: FutureWarning: Setting an item of incompatible dtype is deprecated and will raise an error in a future version of pandas. Value '1088284.6944444438' has dtype incompatible with int64, please explicitly cast to a compatible dtype first.\n",
      "  series_copy.iloc[i] = predicted_value\n",
      "C:\\Users\\27344\\codespace\\codes\\ObjectTracking\\ensemble\\data\\track_preprocess.py:346: FutureWarning: Setting an item of incompatible dtype is deprecated and will raise an error in a future version of pandas. Value '[1987138.         1091935.          802969.          802584.\n",
      "  893596.         1099939.         1037307.         1676903.\n",
      " 1118226.         1088284.69444444 1563138.         1620201.\n",
      " 1756763.         2454630.          767958.         1840165.\n",
      " 2007183.         2014134.        ]' has dtype incompatible with int64, please explicitly cast to a compatible dtype first.\n",
      "  processed_data.loc[batch_mask, col] = corrected_series.values\n",
      "C:\\Users\\27344\\codespace\\codes\\ObjectTracking\\ensemble\\data\\track_preprocess.py:288: FutureWarning: Setting an item of incompatible dtype is deprecated and will raise an error in a future version of pandas. Value '5393935.000000001' has dtype incompatible with int64, please explicitly cast to a compatible dtype first.\n",
      "  series_copy.iloc[i] = predicted_value\n",
      "C:\\Users\\27344\\codespace\\codes\\ObjectTracking\\ensemble\\data\\track_preprocess.py:346: FutureWarning: Setting an item of incompatible dtype is deprecated and will raise an error in a future version of pandas. Value '[ 738718. 1145863. 1126626. 7195949. 2475886. 5393935. 9468689. 2991328.\n",
      " 2350482. 1812052.  256760.  485952. 3738105.  560990.  460095.  354230.\n",
      "  473475.  762601.  388392. 2991731. 2327434.]' has dtype incompatible with int64, please explicitly cast to a compatible dtype first.\n",
      "  processed_data.loc[batch_mask, col] = corrected_series.values\n",
      "C:\\Users\\27344\\codespace\\codes\\ObjectTracking\\ensemble\\data\\track_preprocess.py:288: FutureWarning: Setting an item of incompatible dtype is deprecated and will raise an error in a future version of pandas. Value '906884.2315789472' has dtype incompatible with int64, please explicitly cast to a compatible dtype first.\n",
      "  series_copy.iloc[i] = predicted_value\n",
      "C:\\Users\\27344\\codespace\\codes\\ObjectTracking\\ensemble\\data\\track_preprocess.py:346: FutureWarning: Setting an item of incompatible dtype is deprecated and will raise an error in a future version of pandas. Value '[ 742076.          894385.         1000509.         1104561.\n",
      " 1179524.         1012678.         1000829.         1011165.\n",
      "  958378.         1090622.          736342.         1019519.\n",
      "  948512.          949659.         1075904.         1005746.\n",
      "  927481.          920946.          895663.          695719.\n",
      "  906884.23157895]' has dtype incompatible with int64, please explicitly cast to a compatible dtype first.\n",
      "  processed_data.loc[batch_mask, col] = corrected_series.values\n",
      "C:\\Users\\27344\\codespace\\codes\\ObjectTracking\\ensemble\\data\\track_preprocess.py:288: FutureWarning: Setting an item of incompatible dtype is deprecated and will raise an error in a future version of pandas. Value '1008845.2857142852' has dtype incompatible with int64, please explicitly cast to a compatible dtype first.\n",
      "  series_copy.iloc[i] = predicted_value\n",
      "C:\\Users\\27344\\codespace\\codes\\ObjectTracking\\ensemble\\data\\track_preprocess.py:346: FutureWarning: Setting an item of incompatible dtype is deprecated and will raise an error in a future version of pandas. Value '[1059473.         1159786.          774969.         1200324.\n",
      " 1040947.         1219225.         1051163.          868294.\n",
      " 1008845.28571429 1241008.         1163583.         1048012.\n",
      " 1158981.          818450.         1312879.        ]' has dtype incompatible with int64, please explicitly cast to a compatible dtype first.\n",
      "  processed_data.loc[batch_mask, col] = corrected_series.values\n",
      "C:\\Users\\27344\\codespace\\codes\\ObjectTracking\\ensemble\\data\\track_preprocess.py:201: RuntimeWarning: Precision loss occurred in moment calculation due to catastrophic cancellation. This occurs when the data are nearly identical. Results may be unreliable.\n",
      "  z_scores = np.abs(zscore(series, nan_policy='omit'))\n",
      "C:\\Users\\27344\\codespace\\codes\\ObjectTracking\\ensemble\\data\\track_preprocess.py:201: RuntimeWarning: Precision loss occurred in moment calculation due to catastrophic cancellation. This occurs when the data are nearly identical. Results may be unreliable.\n",
      "  z_scores = np.abs(zscore(series, nan_policy='omit'))\n",
      "C:\\Users\\27344\\codespace\\codes\\ObjectTracking\\ensemble\\data\\track_preprocess.py:242: FutureWarning: Setting an item of incompatible dtype is deprecated and will raise an error in a future version of pandas. Value '220064.7142857143' has dtype incompatible with int64, please explicitly cast to a compatible dtype first.\n",
      "  series_copy.iloc[i] = fill_value\n",
      "C:\\Users\\27344\\codespace\\codes\\ObjectTracking\\ensemble\\data\\track_preprocess.py:346: FutureWarning: Setting an item of incompatible dtype is deprecated and will raise an error in a future version of pandas. Value '[213154.         220064.71428571 214046.         249863.\n",
      " 196512.         200025.         232901.         219247.\n",
      " 239043.         212768.         235928.         235973.\n",
      " 226988.         221787.         182671.        ]' has dtype incompatible with int64, please explicitly cast to a compatible dtype first.\n",
      "  processed_data.loc[batch_mask, col] = corrected_series.values\n",
      "C:\\Users\\27344\\codespace\\codes\\ObjectTracking\\ensemble\\data\\track_preprocess.py:288: FutureWarning: Setting an item of incompatible dtype is deprecated and will raise an error in a future version of pandas. Value '123069.25757575754' has dtype incompatible with int64, please explicitly cast to a compatible dtype first.\n",
      "  series_copy.iloc[i] = predicted_value\n",
      "C:\\Users\\27344\\codespace\\codes\\ObjectTracking\\ensemble\\data\\track_preprocess.py:346: FutureWarning: Setting an item of incompatible dtype is deprecated and will raise an error in a future version of pandas. Value '[253320.         296719.         275451.         235303.\n",
      " 436752.         155390.         133797.         147644.\n",
      " 230476.          70524.         125877.         233779.\n",
      " 123069.25757576 165367.         120184.         259436.\n",
      " 161225.         142734.         159555.         115177.\n",
      " 103322.         400335.         282845.         272851.\n",
      " 262942.        ]' has dtype incompatible with int64, please explicitly cast to a compatible dtype first.\n",
      "  processed_data.loc[batch_mask, col] = corrected_series.values\n",
      "C:\\Users\\27344\\codespace\\codes\\ObjectTracking\\ensemble\\data\\track_preprocess.py:201: RuntimeWarning: Precision loss occurred in moment calculation due to catastrophic cancellation. This occurs when the data are nearly identical. Results may be unreliable.\n",
      "  z_scores = np.abs(zscore(series, nan_policy='omit'))\n",
      "C:\\Users\\27344\\codespace\\codes\\ObjectTracking\\ensemble\\data\\track_preprocess.py:201: RuntimeWarning: Precision loss occurred in moment calculation due to catastrophic cancellation. This occurs when the data are nearly identical. Results may be unreliable.\n",
      "  z_scores = np.abs(zscore(series, nan_policy='omit'))\n",
      "C:\\Users\\27344\\codespace\\codes\\ObjectTracking\\ensemble\\data\\track_preprocess.py:288: FutureWarning: Setting an item of incompatible dtype is deprecated and will raise an error in a future version of pandas. Value '92545.5999999999' has dtype incompatible with int64, please explicitly cast to a compatible dtype first.\n",
      "  series_copy.iloc[i] = predicted_value\n",
      "C:\\Users\\27344\\codespace\\codes\\ObjectTracking\\ensemble\\data\\track_preprocess.py:346: FutureWarning: Setting an item of incompatible dtype is deprecated and will raise an error in a future version of pandas. Value '[147765.  234300.  154623.  212402.   47445.   92545.6 284078.  249704.\n",
      "  36460.   81434.   53728.  150452.  258685.  169342.  175135.  277510.\n",
      " 262295.  196324.  127510.  169878.   71419.   57320.  146529.   75911.\n",
      " 154001. ]' has dtype incompatible with int64, please explicitly cast to a compatible dtype first.\n",
      "  processed_data.loc[batch_mask, col] = corrected_series.values\n",
      "C:\\Users\\27344\\codespace\\codes\\ObjectTracking\\ensemble\\data\\track_preprocess.py:288: FutureWarning: Setting an item of incompatible dtype is deprecated and will raise an error in a future version of pandas. Value '67043.00000000003' has dtype incompatible with int64, please explicitly cast to a compatible dtype first.\n",
      "  series_copy.iloc[i] = predicted_value\n",
      "C:\\Users\\27344\\codespace\\codes\\ObjectTracking\\ensemble\\data\\track_preprocess.py:346: FutureWarning: Setting an item of incompatible dtype is deprecated and will raise an error in a future version of pandas. Value '[246115. 255747. 109403.  67043. 198242.  53222. 238835.  57625. 102732.\n",
      " 278581. 412356. 251295. 286416. 240675. 278308. 242005. 135126.  57770.\n",
      " 188723.  77352. 122921. 120559. 100084.]' has dtype incompatible with int64, please explicitly cast to a compatible dtype first.\n",
      "  processed_data.loc[batch_mask, col] = corrected_series.values\n",
      "C:\\Users\\27344\\codespace\\codes\\ObjectTracking\\ensemble\\data\\track_preprocess.py:201: RuntimeWarning: Precision loss occurred in moment calculation due to catastrophic cancellation. This occurs when the data are nearly identical. Results may be unreliable.\n",
      "  z_scores = np.abs(zscore(series, nan_policy='omit'))\n",
      "C:\\Users\\27344\\codespace\\codes\\ObjectTracking\\ensemble\\data\\track_preprocess.py:201: RuntimeWarning: Precision loss occurred in moment calculation due to catastrophic cancellation. This occurs when the data are nearly identical. Results may be unreliable.\n",
      "  z_scores = np.abs(zscore(series, nan_policy='omit'))\n",
      "C:\\Users\\27344\\codespace\\codes\\ObjectTracking\\ensemble\\data\\track_preprocess.py:288: FutureWarning: Setting an item of incompatible dtype is deprecated and will raise an error in a future version of pandas. Value '612525.0000000001' has dtype incompatible with int64, please explicitly cast to a compatible dtype first.\n",
      "  series_copy.iloc[i] = predicted_value\n",
      "C:\\Users\\27344\\codespace\\codes\\ObjectTracking\\ensemble\\data\\track_preprocess.py:346: FutureWarning: Setting an item of incompatible dtype is deprecated and will raise an error in a future version of pandas. Value '[ 48722. 120239. 532666. 370553. 612525. 190904. 310647. 295327. 136295.\n",
      " 269510. 173087. 241052. 103911.  84143.  45632.  75944.  80802.  41623.\n",
      " 143966.  40860.]' has dtype incompatible with int64, please explicitly cast to a compatible dtype first.\n",
      "  processed_data.loc[batch_mask, col] = corrected_series.values\n",
      "C:\\Users\\27344\\codespace\\codes\\ObjectTracking\\ensemble\\data\\track_preprocess.py:288: FutureWarning: Setting an item of incompatible dtype is deprecated and will raise an error in a future version of pandas. Value '339549.06666666653' has dtype incompatible with int64, please explicitly cast to a compatible dtype first.\n",
      "  series_copy.iloc[i] = predicted_value\n",
      "C:\\Users\\27344\\codespace\\codes\\ObjectTracking\\ensemble\\data\\track_preprocess.py:346: FutureWarning: Setting an item of incompatible dtype is deprecated and will raise an error in a future version of pandas. Value '[ 74655.         164130.         394729.         162386.\n",
      " 169794.         356194.         339549.06666667 257577.\n",
      " 197287.         106159.         149929.         361615.\n",
      " 205413.         256861.         110788.         148625.\n",
      "  79117.         140839.         191937.          71802.\n",
      " 225627.        ]' has dtype incompatible with int64, please explicitly cast to a compatible dtype first.\n",
      "  processed_data.loc[batch_mask, col] = corrected_series.values\n",
      "C:\\Users\\27344\\codespace\\codes\\ObjectTracking\\ensemble\\data\\track_preprocess.py:288: FutureWarning: Setting an item of incompatible dtype is deprecated and will raise an error in a future version of pandas. Value '119806.49473684205' has dtype incompatible with int64, please explicitly cast to a compatible dtype first.\n",
      "  series_copy.iloc[i] = predicted_value\n",
      "C:\\Users\\27344\\codespace\\codes\\ObjectTracking\\ensemble\\data\\track_preprocess.py:346: FutureWarning: Setting an item of incompatible dtype is deprecated and will raise an error in a future version of pandas. Value '[132728.         139659.         100048.         142373.\n",
      " 139385.         191497.         129946.         141147.\n",
      " 120821.         141005.         243611.          66036.\n",
      "  61786.          72112.          66897.         177793.\n",
      "  90248.         295253.         103194.          57000.\n",
      " 119806.49473684]' has dtype incompatible with int64, please explicitly cast to a compatible dtype first.\n",
      "  processed_data.loc[batch_mask, col] = corrected_series.values\n",
      "C:\\Users\\27344\\codespace\\codes\\ObjectTracking\\ensemble\\data\\track_preprocess.py:242: FutureWarning: Setting an item of incompatible dtype is deprecated and will raise an error in a future version of pandas. Value '109045.125' has dtype incompatible with int64, please explicitly cast to a compatible dtype first.\n",
      "  series_copy.iloc[i] = fill_value\n",
      "C:\\Users\\27344\\codespace\\codes\\ObjectTracking\\ensemble\\data\\track_preprocess.py:346: FutureWarning: Setting an item of incompatible dtype is deprecated and will raise an error in a future version of pandas. Value '[109045.125 480225.     44861.     48270.     38857.     55127.\n",
      "  81226.     89166.     84854.     82915.     96909.    109982.\n",
      "  70026.    135217.    185406.     82485.     59196.   ]' has dtype incompatible with int64, please explicitly cast to a compatible dtype first.\n",
      "  processed_data.loc[batch_mask, col] = corrected_series.values\n",
      "C:\\Users\\27344\\codespace\\codes\\ObjectTracking\\ensemble\\data\\track_preprocess.py:242: FutureWarning: Setting an item of incompatible dtype is deprecated and will raise an error in a future version of pandas. Value '1049044.0952380951' has dtype incompatible with int64, please explicitly cast to a compatible dtype first.\n",
      "  series_copy.iloc[i] = fill_value\n",
      "C:\\Users\\27344\\codespace\\codes\\ObjectTracking\\ensemble\\data\\track_preprocess.py:346: FutureWarning: Setting an item of incompatible dtype is deprecated and will raise an error in a future version of pandas. Value '[ 482946.        1049044.0952381  853139.        1322210.\n",
      "  938573.        1168455.         577635.         652541.\n",
      "  949315.         609581.        1041753.        1809865.\n",
      " 1606094.         867337.         831222.        2650559.\n",
      "  478149.         830131.         773472.         904847.\n",
      " 1330563.        1351539.       ]' has dtype incompatible with int64, please explicitly cast to a compatible dtype first.\n",
      "  processed_data.loc[batch_mask, col] = corrected_series.values\n",
      "C:\\Users\\27344\\codespace\\codes\\ObjectTracking\\ensemble\\data\\track_preprocess.py:288: FutureWarning: Setting an item of incompatible dtype is deprecated and will raise an error in a future version of pandas. Value '371178.50000000006' has dtype incompatible with int64, please explicitly cast to a compatible dtype first.\n",
      "  series_copy.iloc[i] = predicted_value\n",
      "C:\\Users\\27344\\codespace\\codes\\ObjectTracking\\ensemble\\data\\track_preprocess.py:346: FutureWarning: Setting an item of incompatible dtype is deprecated and will raise an error in a future version of pandas. Value '[243734.  159052.   87072.  414340.  187815.  159836.  159682.  147251.\n",
      " 634558.  392732.   90769.  326545.  266409.  273359.  531747.  280037.\n",
      " 371178.5 210090.   90209.  492533.  222732.   52536.   52409.   38309.\n",
      "  34350. ]' has dtype incompatible with int64, please explicitly cast to a compatible dtype first.\n",
      "  processed_data.loc[batch_mask, col] = corrected_series.values\n",
      "C:\\Users\\27344\\codespace\\codes\\ObjectTracking\\ensemble\\data\\track_preprocess.py:288: FutureWarning: Setting an item of incompatible dtype is deprecated and will raise an error in a future version of pandas. Value '163016.49999999994' has dtype incompatible with int64, please explicitly cast to a compatible dtype first.\n",
      "  series_copy.iloc[i] = predicted_value\n",
      "C:\\Users\\27344\\codespace\\codes\\ObjectTracking\\ensemble\\data\\track_preprocess.py:346: FutureWarning: Setting an item of incompatible dtype is deprecated and will raise an error in a future version of pandas. Value '[381677.  213010.  107925.  208695.  280923.  240752.  236437.  120591.\n",
      "  89251.  166945.  118868.  337448.  163016.5 123703.  233646. ]' has dtype incompatible with int64, please explicitly cast to a compatible dtype first.\n",
      "  processed_data.loc[batch_mask, col] = corrected_series.values\n",
      "C:\\Users\\27344\\codespace\\codes\\ObjectTracking\\ensemble\\data\\track_preprocess.py:288: FutureWarning: Setting an item of incompatible dtype is deprecated and will raise an error in a future version of pandas. Value '1085417.730769231' has dtype incompatible with int64, please explicitly cast to a compatible dtype first.\n",
      "  series_copy.iloc[i] = predicted_value\n",
      "C:\\Users\\27344\\codespace\\codes\\ObjectTracking\\ensemble\\data\\track_preprocess.py:346: FutureWarning: Setting an item of incompatible dtype is deprecated and will raise an error in a future version of pandas. Value '[ 266152.          146243.          219831.          155268.\n",
      "  454998.          436512.          223640.          178272.\n",
      "  224443.          362896.          984955.         2206758.\n",
      "  603904.         1085417.73076923 1039064.          172743.\n",
      "  869392.          604301.           83977.          412680.\n",
      "  286035.          267983.        ]' has dtype incompatible with int64, please explicitly cast to a compatible dtype first.\n",
      "  processed_data.loc[batch_mask, col] = corrected_series.values\n",
      "C:\\Users\\27344\\codespace\\codes\\ObjectTracking\\ensemble\\data\\track_preprocess.py:288: FutureWarning: Setting an item of incompatible dtype is deprecated and will raise an error in a future version of pandas. Value '130282.33333333334' has dtype incompatible with int64, please explicitly cast to a compatible dtype first.\n",
      "  series_copy.iloc[i] = predicted_value\n",
      "C:\\Users\\27344\\codespace\\codes\\ObjectTracking\\ensemble\\data\\track_preprocess.py:346: FutureWarning: Setting an item of incompatible dtype is deprecated and will raise an error in a future version of pandas. Value '[162952.         174787.         213509.         298318.\n",
      " 194394.          35103.         130282.33333333 898021.\n",
      " 220331.         232140.         300576.         513758.\n",
      " 905030.         667602.         231221.         634853.\n",
      " 431216.         428995.         135634.         684342.\n",
      " 125103.         112085.         980025.         145256.\n",
      "  38241.        ]' has dtype incompatible with int64, please explicitly cast to a compatible dtype first.\n",
      "  processed_data.loc[batch_mask, col] = corrected_series.values\n",
      "C:\\Users\\27344\\codespace\\codes\\ObjectTracking\\ensemble\\data\\track_preprocess.py:242: FutureWarning: Setting an item of incompatible dtype is deprecated and will raise an error in a future version of pandas. Value '161345.46666666667' has dtype incompatible with int64, please explicitly cast to a compatible dtype first.\n",
      "  series_copy.iloc[i] = fill_value\n",
      "C:\\Users\\27344\\codespace\\codes\\ObjectTracking\\ensemble\\data\\track_preprocess.py:346: FutureWarning: Setting an item of incompatible dtype is deprecated and will raise an error in a future version of pandas. Value '[161345.46666667 482442.         348705.         270667.\n",
      "  61206.          62479.          48813.          64141.\n",
      " 148995.         101827.          90374.         102227.\n",
      "  54207.         254213.         167194.         162692.        ]' has dtype incompatible with int64, please explicitly cast to a compatible dtype first.\n",
      "  processed_data.loc[batch_mask, col] = corrected_series.values\n",
      "C:\\Users\\27344\\codespace\\codes\\ObjectTracking\\ensemble\\data\\track_preprocess.py:288: FutureWarning: Setting an item of incompatible dtype is deprecated and will raise an error in a future version of pandas. Value '680629.5964912282' has dtype incompatible with int64, please explicitly cast to a compatible dtype first.\n",
      "  series_copy.iloc[i] = predicted_value\n",
      "C:\\Users\\27344\\codespace\\codes\\ObjectTracking\\ensemble\\data\\track_preprocess.py:346: FutureWarning: Setting an item of incompatible dtype is deprecated and will raise an error in a future version of pandas. Value '[ 590122.         1237778.         1263848.          457816.\n",
      "  280069.          413159.          530209.          323464.\n",
      "  276484.         1571487.         1293010.          858520.\n",
      "  798144.          757538.         1224224.          226661.\n",
      "  409708.          595310.          691771.          680629.59649123\n",
      "  235166.        ]' has dtype incompatible with int64, please explicitly cast to a compatible dtype first.\n",
      "  processed_data.loc[batch_mask, col] = corrected_series.values\n",
      "C:\\Users\\27344\\codespace\\codes\\ObjectTracking\\ensemble\\data\\track_preprocess.py:242: FutureWarning: Setting an item of incompatible dtype is deprecated and will raise an error in a future version of pandas. Value '316699.60869565216' has dtype incompatible with int64, please explicitly cast to a compatible dtype first.\n",
      "  series_copy.iloc[i] = fill_value\n",
      "C:\\Users\\27344\\codespace\\codes\\ObjectTracking\\ensemble\\data\\track_preprocess.py:346: FutureWarning: Setting an item of incompatible dtype is deprecated and will raise an error in a future version of pandas. Value '[316699.60869565 644628.         347434.         239931.\n",
      " 316270.         405711.         167871.         389241.\n",
      " 318462.         265457.         363721.         110944.\n",
      " 135540.          76927.         108478.          35740.\n",
      " 136634.         212291.         435883.         378092.\n",
      " 369979.         828244.         490708.         505905.        ]' has dtype incompatible with int64, please explicitly cast to a compatible dtype first.\n",
      "  processed_data.loc[batch_mask, col] = corrected_series.values\n",
      "C:\\Users\\27344\\codespace\\codes\\ObjectTracking\\ensemble\\data\\track_preprocess.py:288: FutureWarning: Setting an item of incompatible dtype is deprecated and will raise an error in a future version of pandas. Value '960422.9999999998' has dtype incompatible with int64, please explicitly cast to a compatible dtype first.\n",
      "  series_copy.iloc[i] = predicted_value\n",
      "C:\\Users\\27344\\codespace\\codes\\ObjectTracking\\ensemble\\data\\track_preprocess.py:346: FutureWarning: Setting an item of incompatible dtype is deprecated and will raise an error in a future version of pandas. Value '[  65077.  512750.  960423. 1109276.  413427.   59637.  236173.  226976.\n",
      "   83731.  495993.  332022.  266343.  641585.  346864.  170914.]' has dtype incompatible with int64, please explicitly cast to a compatible dtype first.\n",
      "  processed_data.loc[batch_mask, col] = corrected_series.values\n",
      "C:\\Users\\27344\\codespace\\codes\\ObjectTracking\\ensemble\\data\\track_preprocess.py:288: FutureWarning: Setting an item of incompatible dtype is deprecated and will raise an error in a future version of pandas. Value '1788396.0329670324' has dtype incompatible with int64, please explicitly cast to a compatible dtype first.\n",
      "  series_copy.iloc[i] = predicted_value\n",
      "C:\\Users\\27344\\codespace\\codes\\ObjectTracking\\ensemble\\data\\track_preprocess.py:346: FutureWarning: Setting an item of incompatible dtype is deprecated and will raise an error in a future version of pandas. Value '[1984474.         1095730.         2092283.         1089291.\n",
      " 1142219.         1707734.         1702072.         3144750.\n",
      " 1354245.          758127.          948957.         1948090.\n",
      " 2121681.         2044532.         1788396.03296703 2038151.\n",
      " 1595508.         1916707.          430096.          887470.\n",
      " 5168636.          947255.         1143133.        ]' has dtype incompatible with int64, please explicitly cast to a compatible dtype first.\n",
      "  processed_data.loc[batch_mask, col] = corrected_series.values\n",
      "C:\\Users\\27344\\codespace\\codes\\ObjectTracking\\ensemble\\data\\track_preprocess.py:288: FutureWarning: Setting an item of incompatible dtype is deprecated and will raise an error in a future version of pandas. Value '1882953.5' has dtype incompatible with int64, please explicitly cast to a compatible dtype first.\n",
      "  series_copy.iloc[i] = predicted_value\n",
      "C:\\Users\\27344\\codespace\\codes\\ObjectTracking\\ensemble\\data\\track_preprocess.py:346: FutureWarning: Setting an item of incompatible dtype is deprecated and will raise an error in a future version of pandas. Value '[ 183743.   462098.   120462.   162349.   947579.   194341.   698010.\n",
      " 2078836.  2030604.  1882953.5 1557127.  2080972.  1872841.  1220659.\n",
      "  173685.   168795.    47642. ]' has dtype incompatible with int64, please explicitly cast to a compatible dtype first.\n",
      "  processed_data.loc[batch_mask, col] = corrected_series.values\n",
      "C:\\Users\\27344\\codespace\\codes\\ObjectTracking\\ensemble\\data\\track_preprocess.py:288: FutureWarning: Setting an item of incompatible dtype is deprecated and will raise an error in a future version of pandas. Value '421916.7142857143' has dtype incompatible with int64, please explicitly cast to a compatible dtype first.\n",
      "  series_copy.iloc[i] = predicted_value\n",
      "C:\\Users\\27344\\codespace\\codes\\ObjectTracking\\ensemble\\data\\track_preprocess.py:346: FutureWarning: Setting an item of incompatible dtype is deprecated and will raise an error in a future version of pandas. Value '[162443.         215482.         210269.         288409.\n",
      " 150960.         684412.         212555.         421916.71428571\n",
      " 417562.         207001.         138316.         406485.\n",
      " 255190.         279471.         101715.          45187.\n",
      " 585127.         139261.        ]' has dtype incompatible with int64, please explicitly cast to a compatible dtype first.\n",
      "  processed_data.loc[batch_mask, col] = corrected_series.values\n",
      "C:\\Users\\27344\\codespace\\codes\\ObjectTracking\\ensemble\\data\\track_preprocess.py:288: FutureWarning: Setting an item of incompatible dtype is deprecated and will raise an error in a future version of pandas. Value '-24351.800000000192' has dtype incompatible with int64, please explicitly cast to a compatible dtype first.\n",
      "  series_copy.iloc[i] = predicted_value\n",
      "C:\\Users\\27344\\codespace\\codes\\ObjectTracking\\ensemble\\data\\track_preprocess.py:346: FutureWarning: Setting an item of incompatible dtype is deprecated and will raise an error in a future version of pandas. Value '[238413.   90178.   39083.   43946.   62802.  -24351.8  47593.   47530.\n",
      " 104779.  125291.   83629.  143733.   79364.   39206.  146991. ]' has dtype incompatible with int64, please explicitly cast to a compatible dtype first.\n",
      "  processed_data.loc[batch_mask, col] = corrected_series.values\n",
      "C:\\Users\\27344\\codespace\\codes\\ObjectTracking\\ensemble\\data\\track_preprocess.py:288: FutureWarning: Setting an item of incompatible dtype is deprecated and will raise an error in a future version of pandas. Value '576598.8461538461' has dtype incompatible with int64, please explicitly cast to a compatible dtype first.\n",
      "  series_copy.iloc[i] = predicted_value\n",
      "C:\\Users\\27344\\codespace\\codes\\ObjectTracking\\ensemble\\data\\track_preprocess.py:346: FutureWarning: Setting an item of incompatible dtype is deprecated and will raise an error in a future version of pandas. Value '[764193.          96058.         271491.         116604.\n",
      " 264201.          84263.         123879.         588908.\n",
      " 763954.         214532.         623633.         823765.\n",
      " 407591.         576598.84615385 275025.        ]' has dtype incompatible with int64, please explicitly cast to a compatible dtype first.\n",
      "  processed_data.loc[batch_mask, col] = corrected_series.values\n",
      "C:\\Users\\27344\\codespace\\codes\\ObjectTracking\\ensemble\\data\\track_preprocess.py:242: FutureWarning: Setting an item of incompatible dtype is deprecated and will raise an error in a future version of pandas. Value '461452.03846153844' has dtype incompatible with int64, please explicitly cast to a compatible dtype first.\n",
      "  series_copy.iloc[i] = fill_value\n",
      "C:\\Users\\27344\\codespace\\codes\\ObjectTracking\\ensemble\\data\\track_preprocess.py:346: FutureWarning: Setting an item of incompatible dtype is deprecated and will raise an error in a future version of pandas. Value '[ 461452.03846154  198109.          545238.          974235.\n",
      "  101982.          482190.          278358.          198427.\n",
      " 2511811.          355663.         1513485.          523828.\n",
      "  131512.           99800.          228873.         1261400.\n",
      "  469465.           91275.          781893.           60876.\n",
      "  164688.          233577.          123217.          261159.\n",
      "  159532.          108737.          138423.        ]' has dtype incompatible with int64, please explicitly cast to a compatible dtype first.\n",
      "  processed_data.loc[batch_mask, col] = corrected_series.values\n",
      "C:\\Users\\27344\\codespace\\codes\\ObjectTracking\\ensemble\\data\\track_preprocess.py:288: FutureWarning: Setting an item of incompatible dtype is deprecated and will raise an error in a future version of pandas. Value '1204421.933333333' has dtype incompatible with int64, please explicitly cast to a compatible dtype first.\n",
      "  series_copy.iloc[i] = predicted_value\n",
      "C:\\Users\\27344\\codespace\\codes\\ObjectTracking\\ensemble\\data\\track_preprocess.py:346: FutureWarning: Setting an item of incompatible dtype is deprecated and will raise an error in a future version of pandas. Value '[ 130528.          347824.          364922.           96450.\n",
      "  624227.          401899.          670124.          338884.\n",
      " 1789802.          962590.         1204421.93333333   61800.\n",
      "  545071.          356514.          755638.          451673.\n",
      "  699793.          763448.         1091838.          668001.\n",
      "  385006.          746378.         1148764.          757180.        ]' has dtype incompatible with int64, please explicitly cast to a compatible dtype first.\n",
      "  processed_data.loc[batch_mask, col] = corrected_series.values\n",
      "C:\\Users\\27344\\codespace\\codes\\ObjectTracking\\ensemble\\data\\track_preprocess.py:288: FutureWarning: Setting an item of incompatible dtype is deprecated and will raise an error in a future version of pandas. Value '1048338.2857142858' has dtype incompatible with int64, please explicitly cast to a compatible dtype first.\n",
      "  series_copy.iloc[i] = predicted_value\n",
      "C:\\Users\\27344\\codespace\\codes\\ObjectTracking\\ensemble\\data\\track_preprocess.py:346: FutureWarning: Setting an item of incompatible dtype is deprecated and will raise an error in a future version of pandas. Value '[ 331177.          600573.          906773.          805604.\n",
      "  913373.          578855.         1058095.         1048338.28571429\n",
      "  814995.         1399051.          602175.          469791.\n",
      "  622102.           50102.          306341.          289927.\n",
      "  136829.          234169.          317011.          107544.\n",
      "  428550.           64127.          245379.          401136.        ]' has dtype incompatible with int64, please explicitly cast to a compatible dtype first.\n",
      "  processed_data.loc[batch_mask, col] = corrected_series.values\n",
      "C:\\Users\\27344\\codespace\\codes\\ObjectTracking\\ensemble\\data\\track_preprocess.py:288: FutureWarning: Setting an item of incompatible dtype is deprecated and will raise an error in a future version of pandas. Value '2939664.1238095243' has dtype incompatible with int64, please explicitly cast to a compatible dtype first.\n",
      "  series_copy.iloc[i] = predicted_value\n",
      "C:\\Users\\27344\\codespace\\codes\\ObjectTracking\\ensemble\\data\\track_preprocess.py:346: FutureWarning: Setting an item of incompatible dtype is deprecated and will raise an error in a future version of pandas. Value '[ 671451.           75801.          477890.          839064.\n",
      "  540568.          410295.         1146636.         1437277.\n",
      " 1560784.          909369.         3152453.         2488963.\n",
      " 1088158.         2668662.         3468766.         2939664.12380952\n",
      " 2689345.          187588.           94748.           72402.\n",
      "   62824.          103925.           41382.           69737.        ]' has dtype incompatible with int64, please explicitly cast to a compatible dtype first.\n",
      "  processed_data.loc[batch_mask, col] = corrected_series.values\n",
      "C:\\Users\\27344\\codespace\\codes\\ObjectTracking\\ensemble\\data\\track_preprocess.py:288: FutureWarning: Setting an item of incompatible dtype is deprecated and will raise an error in a future version of pandas. Value '1413163.5714285714' has dtype incompatible with int64, please explicitly cast to a compatible dtype first.\n",
      "  series_copy.iloc[i] = predicted_value\n",
      "C:\\Users\\27344\\codespace\\codes\\ObjectTracking\\ensemble\\data\\track_preprocess.py:346: FutureWarning: Setting an item of incompatible dtype is deprecated and will raise an error in a future version of pandas. Value '[ 530499.          258260.          559389.          762983.\n",
      "  363704.         1228764.         1508680.         1413163.57142857\n",
      "   69245.          439941.           78157.          180713.\n",
      "  773456.          461912.          293963.          615272.\n",
      "  560908.         1363856.         2023990.          214538.        ]' has dtype incompatible with int64, please explicitly cast to a compatible dtype first.\n",
      "  processed_data.loc[batch_mask, col] = corrected_series.values\n",
      "C:\\Users\\27344\\codespace\\codes\\ObjectTracking\\ensemble\\data\\track_preprocess.py:288: FutureWarning: Setting an item of incompatible dtype is deprecated and will raise an error in a future version of pandas. Value '164568.73076923075' has dtype incompatible with int64, please explicitly cast to a compatible dtype first.\n",
      "  series_copy.iloc[i] = predicted_value\n",
      "C:\\Users\\27344\\codespace\\codes\\ObjectTracking\\ensemble\\data\\track_preprocess.py:346: FutureWarning: Setting an item of incompatible dtype is deprecated and will raise an error in a future version of pandas. Value '[245210.          92761.         141101.         115389.\n",
      " 339715.         414489.         204314.         123828.\n",
      " 105281.         275432.         175744.         104432.\n",
      " 144641.         164568.73076923 141535.         201901.\n",
      " 150035.          71440.         303077.         139431.\n",
      " 146984.         242566.         219857.         264372.        ]' has dtype incompatible with int64, please explicitly cast to a compatible dtype first.\n",
      "  processed_data.loc[batch_mask, col] = corrected_series.values\n",
      "C:\\Users\\27344\\codespace\\codes\\ObjectTracking\\ensemble\\data\\track_preprocess.py:288: FutureWarning: Setting an item of incompatible dtype is deprecated and will raise an error in a future version of pandas. Value '396377.1428571429' has dtype incompatible with int64, please explicitly cast to a compatible dtype first.\n",
      "  series_copy.iloc[i] = predicted_value\n",
      "C:\\Users\\27344\\codespace\\codes\\ObjectTracking\\ensemble\\data\\track_preprocess.py:346: FutureWarning: Setting an item of incompatible dtype is deprecated and will raise an error in a future version of pandas. Value '[ 69817.          64395.         183233.         244366.\n",
      " 125515.         416767.         308243.         396377.14285714\n",
      " 174890.         131371.         198508.         245558.\n",
      " 184154.         148947.         259919.         190578.\n",
      " 278152.         160399.        ]' has dtype incompatible with int64, please explicitly cast to a compatible dtype first.\n",
      "  processed_data.loc[batch_mask, col] = corrected_series.values\n",
      "C:\\Users\\27344\\codespace\\codes\\ObjectTracking\\ensemble\\data\\track_preprocess.py:288: FutureWarning: Setting an item of incompatible dtype is deprecated and will raise an error in a future version of pandas. Value '80905.1176470588' has dtype incompatible with int64, please explicitly cast to a compatible dtype first.\n",
      "  series_copy.iloc[i] = predicted_value\n",
      "C:\\Users\\27344\\codespace\\codes\\ObjectTracking\\ensemble\\data\\track_preprocess.py:346: FutureWarning: Setting an item of incompatible dtype is deprecated and will raise an error in a future version of pandas. Value '[ 34970.         238488.         100219.         104020.\n",
      "  66014.         132174.         117333.         110830.\n",
      "  49788.          91635.          42710.          65113.\n",
      " 112059.          83805.          84235.          91841.\n",
      " 120855.          80905.11764706 132812.        ]' has dtype incompatible with int64, please explicitly cast to a compatible dtype first.\n",
      "  processed_data.loc[batch_mask, col] = corrected_series.values\n",
      "C:\\Users\\27344\\codespace\\codes\\ObjectTracking\\ensemble\\data\\track_preprocess.py:288: FutureWarning: Setting an item of incompatible dtype is deprecated and will raise an error in a future version of pandas. Value '109362.82500000019' has dtype incompatible with int64, please explicitly cast to a compatible dtype first.\n",
      "  series_copy.iloc[i] = predicted_value\n",
      "C:\\Users\\27344\\codespace\\codes\\ObjectTracking\\ensemble\\data\\track_preprocess.py:346: FutureWarning: Setting an item of incompatible dtype is deprecated and will raise an error in a future version of pandas. Value '[ 378147.     444085.      60608.     698544.     430466.     311230.\n",
      "  635375.     439689.     212075.     130538.      76785.     190794.\n",
      "  141643.     224096.     163612.     159237.     109362.825   79778.\n",
      "  402755.     438528.     404031.     674667.    1033412.     856094.\n",
      "  290920.   ]' has dtype incompatible with int64, please explicitly cast to a compatible dtype first.\n",
      "  processed_data.loc[batch_mask, col] = corrected_series.values\n",
      "C:\\Users\\27344\\codespace\\codes\\ObjectTracking\\ensemble\\data\\track_preprocess.py:288: FutureWarning: Setting an item of incompatible dtype is deprecated and will raise an error in a future version of pandas. Value '2188305.7333333334' has dtype incompatible with int64, please explicitly cast to a compatible dtype first.\n",
      "  series_copy.iloc[i] = predicted_value\n",
      "C:\\Users\\27344\\codespace\\codes\\ObjectTracking\\ensemble\\data\\track_preprocess.py:346: FutureWarning: Setting an item of incompatible dtype is deprecated and will raise an error in a future version of pandas. Value '[1018693.         2542849.          795371.          753410.\n",
      " 1981842.          438370.         3131825.         2616483.\n",
      " 1887383.         1600805.         2188305.73333333 1420812.\n",
      " 3820060.         1947402.         2469893.         2044397.\n",
      " 1614867.         1466187.         2126694.         2767966.\n",
      " 2034809.         1869154.        ]' has dtype incompatible with int64, please explicitly cast to a compatible dtype first.\n",
      "  processed_data.loc[batch_mask, col] = corrected_series.values\n",
      "C:\\Users\\27344\\codespace\\codes\\ObjectTracking\\ensemble\\data\\track_preprocess.py:288: FutureWarning: Setting an item of incompatible dtype is deprecated and will raise an error in a future version of pandas. Value '215794.71428571423' has dtype incompatible with int64, please explicitly cast to a compatible dtype first.\n",
      "  series_copy.iloc[i] = predicted_value\n",
      "C:\\Users\\27344\\codespace\\codes\\ObjectTracking\\ensemble\\data\\track_preprocess.py:346: FutureWarning: Setting an item of incompatible dtype is deprecated and will raise an error in a future version of pandas. Value '[224825.         133266.         385437.         199033.\n",
      " 299735.         294788.         102653.         215794.71428571\n",
      " 189343.         163244.         129239.         198480.\n",
      " 107272.         179757.         238081.         271829.\n",
      " 189917.         156334.          85573.         182288.        ]' has dtype incompatible with int64, please explicitly cast to a compatible dtype first.\n",
      "  processed_data.loc[batch_mask, col] = corrected_series.values\n",
      "C:\\Users\\27344\\codespace\\codes\\ObjectTracking\\ensemble\\data\\track_preprocess.py:288: FutureWarning: Setting an item of incompatible dtype is deprecated and will raise an error in a future version of pandas. Value '286158.43809523806' has dtype incompatible with int64, please explicitly cast to a compatible dtype first.\n",
      "  series_copy.iloc[i] = predicted_value\n",
      "C:\\Users\\27344\\codespace\\codes\\ObjectTracking\\ensemble\\data\\track_preprocess.py:346: FutureWarning: Setting an item of incompatible dtype is deprecated and will raise an error in a future version of pandas. Value '[203235.         217563.         673582.         193577.\n",
      " 716063.         165618.         233374.         146654.\n",
      " 551895.         301304.         493101.         235575.\n",
      "  85619.         130878.         294656.         264541.\n",
      " 151503.         130671.         466755.         351015.\n",
      " 496997.         286158.43809524 592190.         193224.        ]' has dtype incompatible with int64, please explicitly cast to a compatible dtype first.\n",
      "  processed_data.loc[batch_mask, col] = corrected_series.values\n",
      "C:\\Users\\27344\\codespace\\codes\\ObjectTracking\\ensemble\\data\\track_preprocess.py:288: FutureWarning: Setting an item of incompatible dtype is deprecated and will raise an error in a future version of pandas. Value '849276.6000000004' has dtype incompatible with int64, please explicitly cast to a compatible dtype first.\n",
      "  series_copy.iloc[i] = predicted_value\n",
      "C:\\Users\\27344\\codespace\\codes\\ObjectTracking\\ensemble\\data\\track_preprocess.py:346: FutureWarning: Setting an item of incompatible dtype is deprecated and will raise an error in a future version of pandas. Value '[1767466.   211334.   698965.  1329892.   987981.   640824.   968810.\n",
      "  870317.  1445768.   487053.   960329.   545516.  1146859.   245142.\n",
      " 1546830.   841807.   849276.6]' has dtype incompatible with int64, please explicitly cast to a compatible dtype first.\n",
      "  processed_data.loc[batch_mask, col] = corrected_series.values\n",
      "C:\\Users\\27344\\codespace\\codes\\ObjectTracking\\ensemble\\data\\track_preprocess.py:288: FutureWarning: Setting an item of incompatible dtype is deprecated and will raise an error in a future version of pandas. Value '62713.631578947345' has dtype incompatible with int64, please explicitly cast to a compatible dtype first.\n",
      "  series_copy.iloc[i] = predicted_value\n",
      "C:\\Users\\27344\\codespace\\codes\\ObjectTracking\\ensemble\\data\\track_preprocess.py:346: FutureWarning: Setting an item of incompatible dtype is deprecated and will raise an error in a future version of pandas. Value '[110406.         135588.          41612.         118863.\n",
      " 113162.         125246.          88308.         150502.\n",
      " 158442.         181227.          62993.          72599.\n",
      "  86262.         102239.          54946.          52617.\n",
      "  40153.          50758.          88116.          62713.63157895\n",
      "  51238.         384204.          47468.          66735.\n",
      "  95092.        ]' has dtype incompatible with int64, please explicitly cast to a compatible dtype first.\n",
      "  processed_data.loc[batch_mask, col] = corrected_series.values\n",
      "C:\\Users\\27344\\codespace\\codes\\ObjectTracking\\ensemble\\data\\track_preprocess.py:288: FutureWarning: Setting an item of incompatible dtype is deprecated and will raise an error in a future version of pandas. Value '771747.6666666665' has dtype incompatible with int64, please explicitly cast to a compatible dtype first.\n",
      "  series_copy.iloc[i] = predicted_value\n",
      "C:\\Users\\27344\\codespace\\codes\\ObjectTracking\\ensemble\\data\\track_preprocess.py:346: FutureWarning: Setting an item of incompatible dtype is deprecated and will raise an error in a future version of pandas. Value '[ 104758.          402420.          225567.          167627.\n",
      "  258195.          264420.          121719.          275147.\n",
      " 1040792.          523682.          518029.          689760.\n",
      "  563688.          314490.          658777.          268710.\n",
      "  786272.          988895.          771747.66666667 1549498.\n",
      "  958074.         1248720.         1770594.        ]' has dtype incompatible with int64, please explicitly cast to a compatible dtype first.\n",
      "  processed_data.loc[batch_mask, col] = corrected_series.values\n",
      "C:\\Users\\27344\\codespace\\codes\\ObjectTracking\\ensemble\\data\\track_preprocess.py:242: FutureWarning: Setting an item of incompatible dtype is deprecated and will raise an error in a future version of pandas. Value '349312.3125' has dtype incompatible with int64, please explicitly cast to a compatible dtype first.\n",
      "  series_copy.iloc[i] = fill_value\n",
      "C:\\Users\\27344\\codespace\\codes\\ObjectTracking\\ensemble\\data\\track_preprocess.py:346: FutureWarning: Setting an item of incompatible dtype is deprecated and will raise an error in a future version of pandas. Value '[349312.3125 498444.     726133.     425980.     758539.     138630.\n",
      " 447900.     809489.     142478.     164688.      60603.      37721.\n",
      " 308559.     501865.     227820.     102005.     238143.    ]' has dtype incompatible with int64, please explicitly cast to a compatible dtype first.\n",
      "  processed_data.loc[batch_mask, col] = corrected_series.values\n",
      "C:\\Users\\27344\\codespace\\codes\\ObjectTracking\\ensemble\\data\\track_preprocess.py:288: FutureWarning: Setting an item of incompatible dtype is deprecated and will raise an error in a future version of pandas. Value '283251.2' has dtype incompatible with int64, please explicitly cast to a compatible dtype first.\n",
      "  series_copy.iloc[i] = predicted_value\n",
      "C:\\Users\\27344\\codespace\\codes\\ObjectTracking\\ensemble\\data\\track_preprocess.py:346: FutureWarning: Setting an item of incompatible dtype is deprecated and will raise an error in a future version of pandas. Value '[208890.  324984.  515140.  203833.  477408.  317828.  236825.  278822.\n",
      " 257933.  302009.  283251.2 321198.  253746.  418622.  227740. ]' has dtype incompatible with int64, please explicitly cast to a compatible dtype first.\n",
      "  processed_data.loc[batch_mask, col] = corrected_series.values\n",
      "C:\\Users\\27344\\codespace\\codes\\ObjectTracking\\ensemble\\data\\track_preprocess.py:288: FutureWarning: Setting an item of incompatible dtype is deprecated and will raise an error in a future version of pandas. Value '147992.26666666672' has dtype incompatible with int64, please explicitly cast to a compatible dtype first.\n",
      "  series_copy.iloc[i] = predicted_value\n",
      "C:\\Users\\27344\\codespace\\codes\\ObjectTracking\\ensemble\\data\\track_preprocess.py:346: FutureWarning: Setting an item of incompatible dtype is deprecated and will raise an error in a future version of pandas. Value '[ 359253.          796398.          788449.          513557.\n",
      "  625666.          306441.          482754.          490628.\n",
      "   58863.          303119.          204202.          523190.\n",
      "  106909.          463911.           74899.          147992.26666667\n",
      " 1076393.          278290.           94264.          232517.\n",
      "  100916.        ]' has dtype incompatible with int64, please explicitly cast to a compatible dtype first.\n",
      "  processed_data.loc[batch_mask, col] = corrected_series.values\n",
      "C:\\Users\\27344\\codespace\\codes\\ObjectTracking\\ensemble\\data\\track_preprocess.py:288: FutureWarning: Setting an item of incompatible dtype is deprecated and will raise an error in a future version of pandas. Value '310284.7500000001' has dtype incompatible with int64, please explicitly cast to a compatible dtype first.\n",
      "  series_copy.iloc[i] = predicted_value\n",
      "C:\\Users\\27344\\codespace\\codes\\ObjectTracking\\ensemble\\data\\track_preprocess.py:346: FutureWarning: Setting an item of incompatible dtype is deprecated and will raise an error in a future version of pandas. Value '[302833.   446868.    92685.    56363.    91768.   215421.    72635.\n",
      "  86230.   175807.    40528.   194117.   320339.   438300.   812169.\n",
      " 215313.    86506.   310284.75 221830.    97664.  ]' has dtype incompatible with int64, please explicitly cast to a compatible dtype first.\n",
      "  processed_data.loc[batch_mask, col] = corrected_series.values\n",
      "C:\\Users\\27344\\codespace\\codes\\ObjectTracking\\ensemble\\data\\track_preprocess.py:288: FutureWarning: Setting an item of incompatible dtype is deprecated and will raise an error in a future version of pandas. Value '106970.99999999988' has dtype incompatible with int64, please explicitly cast to a compatible dtype first.\n",
      "  series_copy.iloc[i] = predicted_value\n",
      "C:\\Users\\27344\\codespace\\codes\\ObjectTracking\\ensemble\\data\\track_preprocess.py:346: FutureWarning: Setting an item of incompatible dtype is deprecated and will raise an error in a future version of pandas. Value '[259147. 183059. 106971. 105270. 208398. 239968. 133398. 146810. 109315.\n",
      " 111329. 110504. 316788. 167094. 147646. 154407. 267598.]' has dtype incompatible with int64, please explicitly cast to a compatible dtype first.\n",
      "  processed_data.loc[batch_mask, col] = corrected_series.values\n",
      "C:\\Users\\27344\\codespace\\codes\\ObjectTracking\\ensemble\\data\\track_preprocess.py:288: FutureWarning: Setting an item of incompatible dtype is deprecated and will raise an error in a future version of pandas. Value '1452536.0779220774' has dtype incompatible with int64, please explicitly cast to a compatible dtype first.\n",
      "  series_copy.iloc[i] = predicted_value\n",
      "C:\\Users\\27344\\codespace\\codes\\ObjectTracking\\ensemble\\data\\track_preprocess.py:346: FutureWarning: Setting an item of incompatible dtype is deprecated and will raise an error in a future version of pandas. Value '[ 457700.          703346.          745489.         1244958.\n",
      "  797013.          455102.          518203.          811449.\n",
      "  836247.          509898.         1557170.          759325.\n",
      " 1512244.          633265.         1409066.         1442856.\n",
      "  846387.         1732075.          808102.         1083237.\n",
      " 2562931.          665693.         1452536.07792208]' has dtype incompatible with int64, please explicitly cast to a compatible dtype first.\n",
      "  processed_data.loc[batch_mask, col] = corrected_series.values\n",
      "C:\\Users\\27344\\codespace\\codes\\ObjectTracking\\ensemble\\data\\track_preprocess.py:288: FutureWarning: Setting an item of incompatible dtype is deprecated and will raise an error in a future version of pandas. Value '1810444.3333333335' has dtype incompatible with int64, please explicitly cast to a compatible dtype first.\n",
      "  series_copy.iloc[i] = predicted_value\n",
      "C:\\Users\\27344\\codespace\\codes\\ObjectTracking\\ensemble\\data\\track_preprocess.py:346: FutureWarning: Setting an item of incompatible dtype is deprecated and will raise an error in a future version of pandas. Value '[ 391040.          569393.         1411005.         1810444.33333333\n",
      " 1283471.         1574360.          822550.          949426.\n",
      "  561530.          832371.          813859.          410928.\n",
      "  390334.          794650.         1315713.         1140468.\n",
      "  627086.          673959.          920657.          379366.\n",
      "  863214.          663956.          467797.         1283302.        ]' has dtype incompatible with int64, please explicitly cast to a compatible dtype first.\n",
      "  processed_data.loc[batch_mask, col] = corrected_series.values\n",
      "C:\\Users\\27344\\codespace\\codes\\ObjectTracking\\ensemble\\data\\track_preprocess.py:288: FutureWarning: Setting an item of incompatible dtype is deprecated and will raise an error in a future version of pandas. Value '481069.94545454555' has dtype incompatible with int64, please explicitly cast to a compatible dtype first.\n",
      "  series_copy.iloc[i] = predicted_value\n",
      "C:\\Users\\27344\\codespace\\codes\\ObjectTracking\\ensemble\\data\\track_preprocess.py:346: FutureWarning: Setting an item of incompatible dtype is deprecated and will raise an error in a future version of pandas. Value '[ 123448.          105757.           40497.          195990.\n",
      "  215630.           39874.          148052.           51447.\n",
      "   88878.          146957.         1133404.          481069.94545455\n",
      "  782756.          480882.           69718.           70355.\n",
      "   70872.          279251.        ]' has dtype incompatible with int64, please explicitly cast to a compatible dtype first.\n",
      "  processed_data.loc[batch_mask, col] = corrected_series.values\n",
      "C:\\Users\\27344\\codespace\\codes\\ObjectTracking\\ensemble\\data\\track_preprocess.py:288: FutureWarning: Setting an item of incompatible dtype is deprecated and will raise an error in a future version of pandas. Value '2160102.4473684216' has dtype incompatible with int64, please explicitly cast to a compatible dtype first.\n",
      "  series_copy.iloc[i] = predicted_value\n",
      "C:\\Users\\27344\\codespace\\codes\\ObjectTracking\\ensemble\\data\\track_preprocess.py:346: FutureWarning: Setting an item of incompatible dtype is deprecated and will raise an error in a future version of pandas. Value '[ 116000.          443816.         2380313.         4614052.\n",
      " 2306131.          294770.          290777.         1097000.\n",
      " 1221032.          346230.         1677638.         2571522.\n",
      " 1104589.          447606.         2984640.         3661727.\n",
      " 3199534.          955788.         2042275.         1643802.\n",
      " 2160102.44736842  947713.         3150066.         1836752.        ]' has dtype incompatible with int64, please explicitly cast to a compatible dtype first.\n",
      "  processed_data.loc[batch_mask, col] = corrected_series.values\n",
      "C:\\Users\\27344\\codespace\\codes\\ObjectTracking\\ensemble\\data\\track_preprocess.py:288: FutureWarning: Setting an item of incompatible dtype is deprecated and will raise an error in a future version of pandas. Value '339342.39393939415' has dtype incompatible with int64, please explicitly cast to a compatible dtype first.\n",
      "  series_copy.iloc[i] = predicted_value\n",
      "C:\\Users\\27344\\codespace\\codes\\ObjectTracking\\ensemble\\data\\track_preprocess.py:346: FutureWarning: Setting an item of incompatible dtype is deprecated and will raise an error in a future version of pandas. Value '[  48925.          458510.          388668.         1274600.\n",
      "  601031.          198961.          113676.          926525.\n",
      "   42503.          254947.          197561.          511463.\n",
      "  339342.39393939  597777.          109733.          177838.\n",
      "  119343.           76533.          254674.          165646.\n",
      "  315786.          253214.          123045.        ]' has dtype incompatible with int64, please explicitly cast to a compatible dtype first.\n",
      "  processed_data.loc[batch_mask, col] = corrected_series.values\n",
      "C:\\Users\\27344\\codespace\\codes\\ObjectTracking\\ensemble\\data\\track_preprocess.py:288: FutureWarning: Setting an item of incompatible dtype is deprecated and will raise an error in a future version of pandas. Value '2197.999999999999' has dtype incompatible with int64, please explicitly cast to a compatible dtype first.\n",
      "  series_copy.iloc[i] = predicted_value\n",
      "C:\\Users\\27344\\codespace\\codes\\ObjectTracking\\ensemble\\data\\track_preprocess.py:346: FutureWarning: Setting an item of incompatible dtype is deprecated and will raise an error in a future version of pandas. Value '[2198. 2198. 2198. 2198. 2198. 2198. 2198. 2198. 2198. 2198. 2198. 2198.\n",
      " 2198. 2198. 2198. 2198. 2198. 2198.]' has dtype incompatible with int64, please explicitly cast to a compatible dtype first.\n",
      "  processed_data.loc[batch_mask, col] = corrected_series.values\n"
     ]
    }
   ],
   "execution_count": 3
  },
  {
   "metadata": {
    "ExecuteTime": {
     "end_time": "2025-08-04T12:00:54.551482Z",
     "start_time": "2025-08-04T12:00:54.547483Z"
    }
   },
   "cell_type": "code",
   "source": [
    "def get_data(data, time: int):\n",
    "    if time > SEQ_LEN:\n",
    "        raise ValueError(f\"time {time} should be less than or equal to SEQ_LEN {SEQ_LEN}\")\n",
    "    new_data = []\n",
    "    for data_batch in data:\n",
    "        num_tracks = len(data_batch)\n",
    "        if num_tracks >= time:\n",
    "            data_batch = data_batch[:time, :]\n",
    "        else:\n",
    "            data_batch = np.concat([\n",
    "                data_batch,\n",
    "                np.stack([\n",
    "                    data_batch[-1, :] for _ in range(time - num_tracks)\n",
    "                ], axis=0)\n",
    "            ], axis=0)\n",
    "        new_data.append(data_batch)\n",
    "    new_data = np.stack(new_data, axis=0)\n",
    "    train_data, test_data, train_labels, test_labels = train_test_split(new_data, labels, test_size=0.2, random_state=42)\n",
    "    train_scaler = StandardScaler()\n",
    "    train_data = train_scaler.fit_transform(train_data.reshape(-1, train_data.shape[-1])).reshape(-1, time, train_data.shape[-1])\n",
    "    test_data = train_scaler.transform(test_data.reshape(-1, test_data.shape[-1])).reshape(-1, time, test_data.shape[-1])\n",
    "    return train_data, test_data, train_labels, test_labels, train_scaler"
   ],
   "id": "initial_id",
   "outputs": [],
   "execution_count": 4
  },
  {
   "metadata": {
    "ExecuteTime": {
     "end_time": "2025-08-04T12:00:54.576289Z",
     "start_time": "2025-08-04T12:00:54.572729Z"
    }
   },
   "cell_type": "code",
   "source": [
    "def calc_acc(pred_labels, test_labels, num_classes):\n",
    "    acc = accuracy_score(test_labels, pred_labels)\n",
    "    acc_by_class = []\n",
    "    for i in range(num_classes):\n",
    "        acc_by_class.append(accuracy_score(test_labels[test_labels == i], pred_labels[test_labels == i]))\n",
    "    return acc, acc_by_class"
   ],
   "id": "f17707b13055aaca",
   "outputs": [],
   "execution_count": 5
  },
  {
   "metadata": {},
   "cell_type": "markdown",
   "source": "## KNN-TSC",
   "id": "64c7dade79b456d9"
  },
  {
   "metadata": {
    "ExecuteTime": {
     "end_time": "2025-08-02T10:56:18.712474Z",
     "start_time": "2025-08-02T10:56:18.706138Z"
    }
   },
   "cell_type": "code",
   "source": [
    "def train_and_test_KNN_TSC(k, save_path=None):\n",
    "    euclidean_dist = FlatDist(ScipyDist())\n",
    "    acc_by_time = []\n",
    "\n",
    "    for t in range(1, SEQ_LEN + 1):\n",
    "        train_data, test_data, train_labels, test_labels, train_scaler = get_data(data, t)\n",
    "        knn_tsc = KNeighborsTimeSeriesClassifier(n_neighbors=k, distance=euclidean_dist)\n",
    "        knn_tsc.fit(train_data, train_labels)\n",
    "        if save_path is not None:\n",
    "            os.makedirs(save_path, exist_ok=True)\n",
    "            filename = os.path.join(save_path, f\"knn_tsc_{t}.pkl\")\n",
    "            with open(filename, \"wb\") as f:\n",
    "                pickle.dump(knn_tsc, f)\n",
    "        pred_labels = knn_tsc.predict(test_data)\n",
    "        acc, acc_by_class = calc_acc(pred_labels, test_labels, NUM_CLASSES)\n",
    "        print(f\"------------- Time {t} -------------\")\n",
    "        print(f\"Accuracy: {acc}\")\n",
    "        acc_by_time.append(acc)\n",
    "        for i in range(NUM_CLASSES):\n",
    "            print(f\"Accuracy of class {i+1}: {acc_by_class[i]}\")\n",
    "    return acc_by_time"
   ],
   "id": "62d8f088fbed09da",
   "outputs": [],
   "execution_count": 10
  },
  {
   "metadata": {
    "ExecuteTime": {
     "end_time": "2025-08-02T10:56:22.945219Z",
     "start_time": "2025-08-02T10:56:19.321285Z"
    }
   },
   "cell_type": "code",
   "source": [
    "fig = go.Figure()\n",
    "for k in [1, 3, 5, 7, 9]:\n",
    "    acc_by_time = train_and_test_KNN_TSC(k)\n",
    "    fig.add_trace(go.Scatter(x=list(range(1, SEQ_LEN+1)), y=acc_by_time, name=f\"K={k}\", mode=\"lines\"))\n",
    "fig.update_layout(title=\"KNN-TSC Accuracy by Time\", xaxis_title=\"Time\", yaxis_title=\"Accuracy\")\n",
    "fig.show()\n",
    "# select k=3"
   ],
   "id": "79fc356d1bf78644",
   "outputs": [
    {
     "name": "stdout",
     "output_type": "stream",
     "text": [
      "------------- Time 1 -------------\n",
      "Accuracy: 0.8700361010830325\n",
      "Accuracy of class 1: 0.8115942028985508\n",
      "Accuracy of class 2: 0.9516129032258065\n",
      "Accuracy of class 3: 0.7638888888888888\n",
      "Accuracy of class 4: 0.9594594594594594\n",
      "------------- Time 2 -------------\n",
      "Accuracy: 0.8447653429602888\n",
      "Accuracy of class 1: 0.7681159420289855\n",
      "Accuracy of class 2: 0.9354838709677419\n",
      "Accuracy of class 3: 0.7777777777777778\n",
      "Accuracy of class 4: 0.9054054054054054\n",
      "------------- Time 3 -------------\n",
      "Accuracy: 0.8844765342960289\n",
      "Accuracy of class 1: 0.8115942028985508\n",
      "Accuracy of class 2: 0.9354838709677419\n",
      "Accuracy of class 3: 0.8472222222222222\n",
      "Accuracy of class 4: 0.9459459459459459\n",
      "------------- Time 4 -------------\n",
      "Accuracy: 0.8736462093862816\n",
      "Accuracy of class 1: 0.7681159420289855\n",
      "Accuracy of class 2: 0.9354838709677419\n",
      "Accuracy of class 3: 0.8472222222222222\n",
      "Accuracy of class 4: 0.9459459459459459\n",
      "------------- Time 5 -------------\n",
      "Accuracy: 0.8628158844765343\n",
      "Accuracy of class 1: 0.7536231884057971\n",
      "Accuracy of class 2: 0.9193548387096774\n",
      "Accuracy of class 3: 0.8333333333333334\n",
      "Accuracy of class 4: 0.9459459459459459\n",
      "------------- Time 6 -------------\n",
      "Accuracy: 0.8772563176895307\n",
      "Accuracy of class 1: 0.782608695652174\n",
      "Accuracy of class 2: 0.9193548387096774\n",
      "Accuracy of class 3: 0.8333333333333334\n",
      "Accuracy of class 4: 0.972972972972973\n",
      "------------- Time 7 -------------\n",
      "Accuracy: 0.8808664259927798\n",
      "Accuracy of class 1: 0.8260869565217391\n",
      "Accuracy of class 2: 0.9193548387096774\n",
      "Accuracy of class 3: 0.8055555555555556\n",
      "Accuracy of class 4: 0.972972972972973\n",
      "------------- Time 8 -------------\n",
      "Accuracy: 0.8880866425992779\n",
      "Accuracy of class 1: 0.8405797101449275\n",
      "Accuracy of class 2: 0.9354838709677419\n",
      "Accuracy of class 3: 0.7916666666666666\n",
      "Accuracy of class 4: 0.9864864864864865\n",
      "------------- Time 9 -------------\n",
      "Accuracy: 0.8916967509025271\n",
      "Accuracy of class 1: 0.8405797101449275\n",
      "Accuracy of class 2: 0.9354838709677419\n",
      "Accuracy of class 3: 0.8055555555555556\n",
      "Accuracy of class 4: 0.9864864864864865\n",
      "------------- Time 10 -------------\n",
      "Accuracy: 0.8953068592057761\n",
      "Accuracy of class 1: 0.855072463768116\n",
      "Accuracy of class 2: 0.9354838709677419\n",
      "Accuracy of class 3: 0.8055555555555556\n",
      "Accuracy of class 4: 0.9864864864864865\n",
      "------------- Time 11 -------------\n",
      "Accuracy: 0.8953068592057761\n",
      "Accuracy of class 1: 0.855072463768116\n",
      "Accuracy of class 2: 0.9354838709677419\n",
      "Accuracy of class 3: 0.8055555555555556\n",
      "Accuracy of class 4: 0.9864864864864865\n",
      "------------- Time 12 -------------\n",
      "Accuracy: 0.9097472924187726\n",
      "Accuracy of class 1: 0.8840579710144928\n",
      "Accuracy of class 2: 0.9516129032258065\n",
      "Accuracy of class 3: 0.8194444444444444\n",
      "Accuracy of class 4: 0.9864864864864865\n",
      "------------- Time 1 -------------\n",
      "Accuracy: 0.8664259927797834\n",
      "Accuracy of class 1: 0.8695652173913043\n",
      "Accuracy of class 2: 0.9516129032258065\n",
      "Accuracy of class 3: 0.6944444444444444\n",
      "Accuracy of class 4: 0.9594594594594594\n",
      "------------- Time 2 -------------\n",
      "Accuracy: 0.855595667870036\n",
      "Accuracy of class 1: 0.782608695652174\n",
      "Accuracy of class 2: 0.9193548387096774\n",
      "Accuracy of class 3: 0.7638888888888888\n",
      "Accuracy of class 4: 0.9594594594594594\n",
      "------------- Time 3 -------------\n",
      "Accuracy: 0.8772563176895307\n",
      "Accuracy of class 1: 0.8405797101449275\n",
      "Accuracy of class 2: 0.9193548387096774\n",
      "Accuracy of class 3: 0.7777777777777778\n",
      "Accuracy of class 4: 0.972972972972973\n",
      "------------- Time 4 -------------\n",
      "Accuracy: 0.8844765342960289\n",
      "Accuracy of class 1: 0.855072463768116\n",
      "Accuracy of class 2: 0.9032258064516129\n",
      "Accuracy of class 3: 0.8055555555555556\n",
      "Accuracy of class 4: 0.972972972972973\n",
      "------------- Time 5 -------------\n",
      "Accuracy: 0.8808664259927798\n",
      "Accuracy of class 1: 0.8405797101449275\n",
      "Accuracy of class 2: 0.9193548387096774\n",
      "Accuracy of class 3: 0.7916666666666666\n",
      "Accuracy of class 4: 0.972972972972973\n",
      "------------- Time 6 -------------\n",
      "Accuracy: 0.8736462093862816\n",
      "Accuracy of class 1: 0.7971014492753623\n",
      "Accuracy of class 2: 0.9193548387096774\n",
      "Accuracy of class 3: 0.8055555555555556\n",
      "Accuracy of class 4: 0.972972972972973\n",
      "------------- Time 7 -------------\n",
      "Accuracy: 0.8808664259927798\n",
      "Accuracy of class 1: 0.8260869565217391\n",
      "Accuracy of class 2: 0.9193548387096774\n",
      "Accuracy of class 3: 0.8194444444444444\n",
      "Accuracy of class 4: 0.9594594594594594\n",
      "------------- Time 8 -------------\n",
      "Accuracy: 0.8989169675090253\n",
      "Accuracy of class 1: 0.8985507246376812\n",
      "Accuracy of class 2: 0.9354838709677419\n",
      "Accuracy of class 3: 0.8055555555555556\n",
      "Accuracy of class 4: 0.9594594594594594\n",
      "------------- Time 9 -------------\n",
      "Accuracy: 0.8989169675090253\n",
      "Accuracy of class 1: 0.9130434782608695\n",
      "Accuracy of class 2: 0.9354838709677419\n",
      "Accuracy of class 3: 0.7916666666666666\n",
      "Accuracy of class 4: 0.9594594594594594\n",
      "------------- Time 10 -------------\n",
      "Accuracy: 0.9097472924187726\n",
      "Accuracy of class 1: 0.927536231884058\n",
      "Accuracy of class 2: 0.9354838709677419\n",
      "Accuracy of class 3: 0.8055555555555556\n",
      "Accuracy of class 4: 0.972972972972973\n",
      "------------- Time 11 -------------\n",
      "Accuracy: 0.9025270758122743\n",
      "Accuracy of class 1: 0.8840579710144928\n",
      "Accuracy of class 2: 0.9354838709677419\n",
      "Accuracy of class 3: 0.8055555555555556\n",
      "Accuracy of class 4: 0.9864864864864865\n",
      "------------- Time 12 -------------\n",
      "Accuracy: 0.9025270758122743\n",
      "Accuracy of class 1: 0.8695652173913043\n",
      "Accuracy of class 2: 0.9516129032258065\n",
      "Accuracy of class 3: 0.8194444444444444\n",
      "Accuracy of class 4: 0.972972972972973\n",
      "------------- Time 1 -------------\n",
      "Accuracy: 0.8953068592057761\n",
      "Accuracy of class 1: 0.855072463768116\n",
      "Accuracy of class 2: 0.9354838709677419\n",
      "Accuracy of class 3: 0.8333333333333334\n",
      "Accuracy of class 4: 0.9594594594594594\n",
      "------------- Time 2 -------------\n",
      "Accuracy: 0.8483754512635379\n",
      "Accuracy of class 1: 0.7971014492753623\n",
      "Accuracy of class 2: 0.9354838709677419\n",
      "Accuracy of class 3: 0.7083333333333334\n",
      "Accuracy of class 4: 0.9594594594594594\n",
      "------------- Time 3 -------------\n",
      "Accuracy: 0.8736462093862816\n",
      "Accuracy of class 1: 0.8695652173913043\n",
      "Accuracy of class 2: 0.9193548387096774\n",
      "Accuracy of class 3: 0.75\n",
      "Accuracy of class 4: 0.9594594594594594\n",
      "------------- Time 4 -------------\n",
      "Accuracy: 0.8916967509025271\n",
      "Accuracy of class 1: 0.855072463768116\n",
      "Accuracy of class 2: 0.9354838709677419\n",
      "Accuracy of class 3: 0.8055555555555556\n",
      "Accuracy of class 4: 0.972972972972973\n",
      "------------- Time 5 -------------\n",
      "Accuracy: 0.8844765342960289\n",
      "Accuracy of class 1: 0.8405797101449275\n",
      "Accuracy of class 2: 0.9193548387096774\n",
      "Accuracy of class 3: 0.8055555555555556\n",
      "Accuracy of class 4: 0.972972972972973\n",
      "------------- Time 6 -------------\n",
      "Accuracy: 0.8772563176895307\n",
      "Accuracy of class 1: 0.7971014492753623\n",
      "Accuracy of class 2: 0.9193548387096774\n",
      "Accuracy of class 3: 0.8333333333333334\n",
      "Accuracy of class 4: 0.9594594594594594\n",
      "------------- Time 7 -------------\n",
      "Accuracy: 0.8808664259927798\n",
      "Accuracy of class 1: 0.8405797101449275\n",
      "Accuracy of class 2: 0.9193548387096774\n",
      "Accuracy of class 3: 0.7916666666666666\n",
      "Accuracy of class 4: 0.972972972972973\n",
      "------------- Time 8 -------------\n",
      "Accuracy: 0.8880866425992779\n",
      "Accuracy of class 1: 0.8840579710144928\n",
      "Accuracy of class 2: 0.9193548387096774\n",
      "Accuracy of class 3: 0.7777777777777778\n",
      "Accuracy of class 4: 0.972972972972973\n",
      "------------- Time 9 -------------\n",
      "Accuracy: 0.8880866425992779\n",
      "Accuracy of class 1: 0.8840579710144928\n",
      "Accuracy of class 2: 0.9354838709677419\n",
      "Accuracy of class 3: 0.7777777777777778\n",
      "Accuracy of class 4: 0.9594594594594594\n",
      "------------- Time 10 -------------\n",
      "Accuracy: 0.8953068592057761\n",
      "Accuracy of class 1: 0.8840579710144928\n",
      "Accuracy of class 2: 0.9354838709677419\n",
      "Accuracy of class 3: 0.7916666666666666\n",
      "Accuracy of class 4: 0.972972972972973\n",
      "------------- Time 11 -------------\n",
      "Accuracy: 0.8989169675090253\n",
      "Accuracy of class 1: 0.8695652173913043\n",
      "Accuracy of class 2: 0.9354838709677419\n",
      "Accuracy of class 3: 0.8055555555555556\n",
      "Accuracy of class 4: 0.9864864864864865\n",
      "------------- Time 12 -------------\n",
      "Accuracy: 0.9025270758122743\n",
      "Accuracy of class 1: 0.8695652173913043\n",
      "Accuracy of class 2: 0.9516129032258065\n",
      "Accuracy of class 3: 0.8055555555555556\n",
      "Accuracy of class 4: 0.9864864864864865\n",
      "------------- Time 1 -------------\n",
      "Accuracy: 0.8772563176895307\n",
      "Accuracy of class 1: 0.7971014492753623\n",
      "Accuracy of class 2: 0.9354838709677419\n",
      "Accuracy of class 3: 0.8055555555555556\n",
      "Accuracy of class 4: 0.972972972972973\n",
      "------------- Time 2 -------------\n",
      "Accuracy: 0.8592057761732852\n",
      "Accuracy of class 1: 0.8115942028985508\n",
      "Accuracy of class 2: 0.9354838709677419\n",
      "Accuracy of class 3: 0.75\n",
      "Accuracy of class 4: 0.9459459459459459\n",
      "------------- Time 3 -------------\n",
      "Accuracy: 0.8772563176895307\n",
      "Accuracy of class 1: 0.855072463768116\n",
      "Accuracy of class 2: 0.9193548387096774\n",
      "Accuracy of class 3: 0.7777777777777778\n",
      "Accuracy of class 4: 0.9594594594594594\n",
      "------------- Time 4 -------------\n",
      "Accuracy: 0.8592057761732852\n",
      "Accuracy of class 1: 0.8260869565217391\n",
      "Accuracy of class 2: 0.9193548387096774\n",
      "Accuracy of class 3: 0.7361111111111112\n",
      "Accuracy of class 4: 0.9594594594594594\n",
      "------------- Time 5 -------------\n",
      "Accuracy: 0.8772563176895307\n",
      "Accuracy of class 1: 0.855072463768116\n",
      "Accuracy of class 2: 0.9032258064516129\n",
      "Accuracy of class 3: 0.7638888888888888\n",
      "Accuracy of class 4: 0.9864864864864865\n",
      "------------- Time 6 -------------\n",
      "Accuracy: 0.8772563176895307\n",
      "Accuracy of class 1: 0.7971014492753623\n",
      "Accuracy of class 2: 0.9193548387096774\n",
      "Accuracy of class 3: 0.8055555555555556\n",
      "Accuracy of class 4: 0.9864864864864865\n",
      "------------- Time 7 -------------\n",
      "Accuracy: 0.8628158844765343\n",
      "Accuracy of class 1: 0.782608695652174\n",
      "Accuracy of class 2: 0.9193548387096774\n",
      "Accuracy of class 3: 0.7638888888888888\n",
      "Accuracy of class 4: 0.9864864864864865\n",
      "------------- Time 8 -------------\n",
      "Accuracy: 0.8664259927797834\n",
      "Accuracy of class 1: 0.782608695652174\n",
      "Accuracy of class 2: 0.9193548387096774\n",
      "Accuracy of class 3: 0.7916666666666666\n",
      "Accuracy of class 4: 0.972972972972973\n",
      "------------- Time 9 -------------\n",
      "Accuracy: 0.8772563176895307\n",
      "Accuracy of class 1: 0.8115942028985508\n",
      "Accuracy of class 2: 0.9193548387096774\n",
      "Accuracy of class 3: 0.8055555555555556\n",
      "Accuracy of class 4: 0.972972972972973\n",
      "------------- Time 10 -------------\n",
      "Accuracy: 0.8772563176895307\n",
      "Accuracy of class 1: 0.8405797101449275\n",
      "Accuracy of class 2: 0.9193548387096774\n",
      "Accuracy of class 3: 0.7777777777777778\n",
      "Accuracy of class 4: 0.972972972972973\n",
      "------------- Time 11 -------------\n",
      "Accuracy: 0.8736462093862816\n",
      "Accuracy of class 1: 0.8405797101449275\n",
      "Accuracy of class 2: 0.9193548387096774\n",
      "Accuracy of class 3: 0.7638888888888888\n",
      "Accuracy of class 4: 0.972972972972973\n",
      "------------- Time 12 -------------\n",
      "Accuracy: 0.8808664259927798\n",
      "Accuracy of class 1: 0.855072463768116\n",
      "Accuracy of class 2: 0.9193548387096774\n",
      "Accuracy of class 3: 0.7638888888888888\n",
      "Accuracy of class 4: 0.9864864864864865\n",
      "------------- Time 1 -------------\n",
      "Accuracy: 0.8628158844765343\n",
      "Accuracy of class 1: 0.7681159420289855\n",
      "Accuracy of class 2: 0.9354838709677419\n",
      "Accuracy of class 3: 0.7777777777777778\n",
      "Accuracy of class 4: 0.972972972972973\n",
      "------------- Time 2 -------------\n",
      "Accuracy: 0.8592057761732852\n",
      "Accuracy of class 1: 0.7971014492753623\n",
      "Accuracy of class 2: 0.9193548387096774\n",
      "Accuracy of class 3: 0.7638888888888888\n",
      "Accuracy of class 4: 0.9594594594594594\n",
      "------------- Time 3 -------------\n",
      "Accuracy: 0.8700361010830325\n",
      "Accuracy of class 1: 0.8260869565217391\n",
      "Accuracy of class 2: 0.9032258064516129\n",
      "Accuracy of class 3: 0.7916666666666666\n",
      "Accuracy of class 4: 0.9594594594594594\n",
      "------------- Time 4 -------------\n",
      "Accuracy: 0.8592057761732852\n",
      "Accuracy of class 1: 0.855072463768116\n",
      "Accuracy of class 2: 0.9032258064516129\n",
      "Accuracy of class 3: 0.7361111111111112\n",
      "Accuracy of class 4: 0.9459459459459459\n",
      "------------- Time 5 -------------\n",
      "Accuracy: 0.8736462093862816\n",
      "Accuracy of class 1: 0.855072463768116\n",
      "Accuracy of class 2: 0.9193548387096774\n",
      "Accuracy of class 3: 0.75\n",
      "Accuracy of class 4: 0.972972972972973\n",
      "------------- Time 6 -------------\n",
      "Accuracy: 0.8700361010830325\n",
      "Accuracy of class 1: 0.8405797101449275\n",
      "Accuracy of class 2: 0.9193548387096774\n",
      "Accuracy of class 3: 0.75\n",
      "Accuracy of class 4: 0.972972972972973\n",
      "------------- Time 7 -------------\n",
      "Accuracy: 0.8772563176895307\n",
      "Accuracy of class 1: 0.8405797101449275\n",
      "Accuracy of class 2: 0.9354838709677419\n",
      "Accuracy of class 3: 0.7638888888888888\n",
      "Accuracy of class 4: 0.972972972972973\n",
      "------------- Time 8 -------------\n",
      "Accuracy: 0.8844765342960289\n",
      "Accuracy of class 1: 0.8260869565217391\n",
      "Accuracy of class 2: 0.9354838709677419\n",
      "Accuracy of class 3: 0.7916666666666666\n",
      "Accuracy of class 4: 0.9864864864864865\n",
      "------------- Time 9 -------------\n",
      "Accuracy: 0.8844765342960289\n",
      "Accuracy of class 1: 0.8260869565217391\n",
      "Accuracy of class 2: 0.9193548387096774\n",
      "Accuracy of class 3: 0.8055555555555556\n",
      "Accuracy of class 4: 0.9864864864864865\n",
      "------------- Time 10 -------------\n",
      "Accuracy: 0.8808664259927798\n",
      "Accuracy of class 1: 0.8405797101449275\n",
      "Accuracy of class 2: 0.9193548387096774\n",
      "Accuracy of class 3: 0.7916666666666666\n",
      "Accuracy of class 4: 0.972972972972973\n",
      "------------- Time 11 -------------\n",
      "Accuracy: 0.8700361010830325\n",
      "Accuracy of class 1: 0.7971014492753623\n",
      "Accuracy of class 2: 0.9193548387096774\n",
      "Accuracy of class 3: 0.7916666666666666\n",
      "Accuracy of class 4: 0.972972972972973\n",
      "------------- Time 12 -------------\n",
      "Accuracy: 0.8736462093862816\n",
      "Accuracy of class 1: 0.8115942028985508\n",
      "Accuracy of class 2: 0.9193548387096774\n",
      "Accuracy of class 3: 0.7777777777777778\n",
      "Accuracy of class 4: 0.9864864864864865\n"
     ]
    },
    {
     "data": {
      "application/vnd.plotly.v1+json": {
       "data": [
        {
         "mode": "lines",
         "name": "K=1",
         "x": [
          1,
          2,
          3,
          4,
          5,
          6,
          7,
          8,
          9,
          10,
          11,
          12,
          13,
          14,
          15,
          16,
          17,
          18,
          19,
          20,
          21,
          22,
          23,
          24,
          25,
          26,
          27,
          28,
          29
         ],
         "y": [
          0.8700361010830325,
          0.8447653429602888,
          0.8844765342960289,
          0.8736462093862816,
          0.8628158844765343,
          0.8772563176895307,
          0.8808664259927798,
          0.8880866425992779,
          0.8916967509025271,
          0.8953068592057761,
          0.8953068592057761,
          0.9097472924187726
         ],
         "type": "scatter"
        },
        {
         "mode": "lines",
         "name": "K=3",
         "x": [
          1,
          2,
          3,
          4,
          5,
          6,
          7,
          8,
          9,
          10,
          11,
          12,
          13,
          14,
          15,
          16,
          17,
          18,
          19,
          20,
          21,
          22,
          23,
          24,
          25,
          26,
          27,
          28,
          29
         ],
         "y": [
          0.8664259927797834,
          0.855595667870036,
          0.8772563176895307,
          0.8844765342960289,
          0.8808664259927798,
          0.8736462093862816,
          0.8808664259927798,
          0.8989169675090253,
          0.8989169675090253,
          0.9097472924187726,
          0.9025270758122743,
          0.9025270758122743
         ],
         "type": "scatter"
        },
        {
         "mode": "lines",
         "name": "K=5",
         "x": [
          1,
          2,
          3,
          4,
          5,
          6,
          7,
          8,
          9,
          10,
          11,
          12,
          13,
          14,
          15,
          16,
          17,
          18,
          19,
          20,
          21,
          22,
          23,
          24,
          25,
          26,
          27,
          28,
          29
         ],
         "y": [
          0.8953068592057761,
          0.8483754512635379,
          0.8736462093862816,
          0.8916967509025271,
          0.8844765342960289,
          0.8772563176895307,
          0.8808664259927798,
          0.8880866425992779,
          0.8880866425992779,
          0.8953068592057761,
          0.8989169675090253,
          0.9025270758122743
         ],
         "type": "scatter"
        },
        {
         "mode": "lines",
         "name": "K=7",
         "x": [
          1,
          2,
          3,
          4,
          5,
          6,
          7,
          8,
          9,
          10,
          11,
          12,
          13,
          14,
          15,
          16,
          17,
          18,
          19,
          20,
          21,
          22,
          23,
          24,
          25,
          26,
          27,
          28,
          29
         ],
         "y": [
          0.8772563176895307,
          0.8592057761732852,
          0.8772563176895307,
          0.8592057761732852,
          0.8772563176895307,
          0.8772563176895307,
          0.8628158844765343,
          0.8664259927797834,
          0.8772563176895307,
          0.8772563176895307,
          0.8736462093862816,
          0.8808664259927798
         ],
         "type": "scatter"
        },
        {
         "mode": "lines",
         "name": "K=9",
         "x": [
          1,
          2,
          3,
          4,
          5,
          6,
          7,
          8,
          9,
          10,
          11,
          12,
          13,
          14,
          15,
          16,
          17,
          18,
          19,
          20,
          21,
          22,
          23,
          24,
          25,
          26,
          27,
          28,
          29
         ],
         "y": [
          0.8628158844765343,
          0.8592057761732852,
          0.8700361010830325,
          0.8592057761732852,
          0.8736462093862816,
          0.8700361010830325,
          0.8772563176895307,
          0.8844765342960289,
          0.8844765342960289,
          0.8808664259927798,
          0.8700361010830325,
          0.8736462093862816
         ],
         "type": "scatter"
        }
       ],
       "layout": {
        "template": {
         "data": {
          "histogram2dcontour": [
           {
            "type": "histogram2dcontour",
            "colorbar": {
             "outlinewidth": 0,
             "ticks": ""
            },
            "colorscale": [
             [
              0.0,
              "#0d0887"
             ],
             [
              0.1111111111111111,
              "#46039f"
             ],
             [
              0.2222222222222222,
              "#7201a8"
             ],
             [
              0.3333333333333333,
              "#9c179e"
             ],
             [
              0.4444444444444444,
              "#bd3786"
             ],
             [
              0.5555555555555556,
              "#d8576b"
             ],
             [
              0.6666666666666666,
              "#ed7953"
             ],
             [
              0.7777777777777778,
              "#fb9f3a"
             ],
             [
              0.8888888888888888,
              "#fdca26"
             ],
             [
              1.0,
              "#f0f921"
             ]
            ]
           }
          ],
          "choropleth": [
           {
            "type": "choropleth",
            "colorbar": {
             "outlinewidth": 0,
             "ticks": ""
            }
           }
          ],
          "histogram2d": [
           {
            "type": "histogram2d",
            "colorbar": {
             "outlinewidth": 0,
             "ticks": ""
            },
            "colorscale": [
             [
              0.0,
              "#0d0887"
             ],
             [
              0.1111111111111111,
              "#46039f"
             ],
             [
              0.2222222222222222,
              "#7201a8"
             ],
             [
              0.3333333333333333,
              "#9c179e"
             ],
             [
              0.4444444444444444,
              "#bd3786"
             ],
             [
              0.5555555555555556,
              "#d8576b"
             ],
             [
              0.6666666666666666,
              "#ed7953"
             ],
             [
              0.7777777777777778,
              "#fb9f3a"
             ],
             [
              0.8888888888888888,
              "#fdca26"
             ],
             [
              1.0,
              "#f0f921"
             ]
            ]
           }
          ],
          "heatmap": [
           {
            "type": "heatmap",
            "colorbar": {
             "outlinewidth": 0,
             "ticks": ""
            },
            "colorscale": [
             [
              0.0,
              "#0d0887"
             ],
             [
              0.1111111111111111,
              "#46039f"
             ],
             [
              0.2222222222222222,
              "#7201a8"
             ],
             [
              0.3333333333333333,
              "#9c179e"
             ],
             [
              0.4444444444444444,
              "#bd3786"
             ],
             [
              0.5555555555555556,
              "#d8576b"
             ],
             [
              0.6666666666666666,
              "#ed7953"
             ],
             [
              0.7777777777777778,
              "#fb9f3a"
             ],
             [
              0.8888888888888888,
              "#fdca26"
             ],
             [
              1.0,
              "#f0f921"
             ]
            ]
           }
          ],
          "contourcarpet": [
           {
            "type": "contourcarpet",
            "colorbar": {
             "outlinewidth": 0,
             "ticks": ""
            }
           }
          ],
          "contour": [
           {
            "type": "contour",
            "colorbar": {
             "outlinewidth": 0,
             "ticks": ""
            },
            "colorscale": [
             [
              0.0,
              "#0d0887"
             ],
             [
              0.1111111111111111,
              "#46039f"
             ],
             [
              0.2222222222222222,
              "#7201a8"
             ],
             [
              0.3333333333333333,
              "#9c179e"
             ],
             [
              0.4444444444444444,
              "#bd3786"
             ],
             [
              0.5555555555555556,
              "#d8576b"
             ],
             [
              0.6666666666666666,
              "#ed7953"
             ],
             [
              0.7777777777777778,
              "#fb9f3a"
             ],
             [
              0.8888888888888888,
              "#fdca26"
             ],
             [
              1.0,
              "#f0f921"
             ]
            ]
           }
          ],
          "surface": [
           {
            "type": "surface",
            "colorbar": {
             "outlinewidth": 0,
             "ticks": ""
            },
            "colorscale": [
             [
              0.0,
              "#0d0887"
             ],
             [
              0.1111111111111111,
              "#46039f"
             ],
             [
              0.2222222222222222,
              "#7201a8"
             ],
             [
              0.3333333333333333,
              "#9c179e"
             ],
             [
              0.4444444444444444,
              "#bd3786"
             ],
             [
              0.5555555555555556,
              "#d8576b"
             ],
             [
              0.6666666666666666,
              "#ed7953"
             ],
             [
              0.7777777777777778,
              "#fb9f3a"
             ],
             [
              0.8888888888888888,
              "#fdca26"
             ],
             [
              1.0,
              "#f0f921"
             ]
            ]
           }
          ],
          "mesh3d": [
           {
            "type": "mesh3d",
            "colorbar": {
             "outlinewidth": 0,
             "ticks": ""
            }
           }
          ],
          "scatter": [
           {
            "fillpattern": {
             "fillmode": "overlay",
             "size": 10,
             "solidity": 0.2
            },
            "type": "scatter"
           }
          ],
          "parcoords": [
           {
            "type": "parcoords",
            "line": {
             "colorbar": {
              "outlinewidth": 0,
              "ticks": ""
             }
            }
           }
          ],
          "scatterpolargl": [
           {
            "type": "scatterpolargl",
            "marker": {
             "colorbar": {
              "outlinewidth": 0,
              "ticks": ""
             }
            }
           }
          ],
          "bar": [
           {
            "error_x": {
             "color": "#2a3f5f"
            },
            "error_y": {
             "color": "#2a3f5f"
            },
            "marker": {
             "line": {
              "color": "#E5ECF6",
              "width": 0.5
             },
             "pattern": {
              "fillmode": "overlay",
              "size": 10,
              "solidity": 0.2
             }
            },
            "type": "bar"
           }
          ],
          "scattergeo": [
           {
            "type": "scattergeo",
            "marker": {
             "colorbar": {
              "outlinewidth": 0,
              "ticks": ""
             }
            }
           }
          ],
          "scatterpolar": [
           {
            "type": "scatterpolar",
            "marker": {
             "colorbar": {
              "outlinewidth": 0,
              "ticks": ""
             }
            }
           }
          ],
          "histogram": [
           {
            "marker": {
             "pattern": {
              "fillmode": "overlay",
              "size": 10,
              "solidity": 0.2
             }
            },
            "type": "histogram"
           }
          ],
          "scattergl": [
           {
            "type": "scattergl",
            "marker": {
             "colorbar": {
              "outlinewidth": 0,
              "ticks": ""
             }
            }
           }
          ],
          "scatter3d": [
           {
            "type": "scatter3d",
            "line": {
             "colorbar": {
              "outlinewidth": 0,
              "ticks": ""
             }
            },
            "marker": {
             "colorbar": {
              "outlinewidth": 0,
              "ticks": ""
             }
            }
           }
          ],
          "scattermap": [
           {
            "type": "scattermap",
            "marker": {
             "colorbar": {
              "outlinewidth": 0,
              "ticks": ""
             }
            }
           }
          ],
          "scattermapbox": [
           {
            "type": "scattermapbox",
            "marker": {
             "colorbar": {
              "outlinewidth": 0,
              "ticks": ""
             }
            }
           }
          ],
          "scatterternary": [
           {
            "type": "scatterternary",
            "marker": {
             "colorbar": {
              "outlinewidth": 0,
              "ticks": ""
             }
            }
           }
          ],
          "scattercarpet": [
           {
            "type": "scattercarpet",
            "marker": {
             "colorbar": {
              "outlinewidth": 0,
              "ticks": ""
             }
            }
           }
          ],
          "carpet": [
           {
            "aaxis": {
             "endlinecolor": "#2a3f5f",
             "gridcolor": "white",
             "linecolor": "white",
             "minorgridcolor": "white",
             "startlinecolor": "#2a3f5f"
            },
            "baxis": {
             "endlinecolor": "#2a3f5f",
             "gridcolor": "white",
             "linecolor": "white",
             "minorgridcolor": "white",
             "startlinecolor": "#2a3f5f"
            },
            "type": "carpet"
           }
          ],
          "table": [
           {
            "cells": {
             "fill": {
              "color": "#EBF0F8"
             },
             "line": {
              "color": "white"
             }
            },
            "header": {
             "fill": {
              "color": "#C8D4E3"
             },
             "line": {
              "color": "white"
             }
            },
            "type": "table"
           }
          ],
          "barpolar": [
           {
            "marker": {
             "line": {
              "color": "#E5ECF6",
              "width": 0.5
             },
             "pattern": {
              "fillmode": "overlay",
              "size": 10,
              "solidity": 0.2
             }
            },
            "type": "barpolar"
           }
          ],
          "pie": [
           {
            "automargin": true,
            "type": "pie"
           }
          ]
         },
         "layout": {
          "autotypenumbers": "strict",
          "colorway": [
           "#636efa",
           "#EF553B",
           "#00cc96",
           "#ab63fa",
           "#FFA15A",
           "#19d3f3",
           "#FF6692",
           "#B6E880",
           "#FF97FF",
           "#FECB52"
          ],
          "font": {
           "color": "#2a3f5f"
          },
          "hovermode": "closest",
          "hoverlabel": {
           "align": "left"
          },
          "paper_bgcolor": "white",
          "plot_bgcolor": "#E5ECF6",
          "polar": {
           "bgcolor": "#E5ECF6",
           "angularaxis": {
            "gridcolor": "white",
            "linecolor": "white",
            "ticks": ""
           },
           "radialaxis": {
            "gridcolor": "white",
            "linecolor": "white",
            "ticks": ""
           }
          },
          "ternary": {
           "bgcolor": "#E5ECF6",
           "aaxis": {
            "gridcolor": "white",
            "linecolor": "white",
            "ticks": ""
           },
           "baxis": {
            "gridcolor": "white",
            "linecolor": "white",
            "ticks": ""
           },
           "caxis": {
            "gridcolor": "white",
            "linecolor": "white",
            "ticks": ""
           }
          },
          "coloraxis": {
           "colorbar": {
            "outlinewidth": 0,
            "ticks": ""
           }
          },
          "colorscale": {
           "sequential": [
            [
             0.0,
             "#0d0887"
            ],
            [
             0.1111111111111111,
             "#46039f"
            ],
            [
             0.2222222222222222,
             "#7201a8"
            ],
            [
             0.3333333333333333,
             "#9c179e"
            ],
            [
             0.4444444444444444,
             "#bd3786"
            ],
            [
             0.5555555555555556,
             "#d8576b"
            ],
            [
             0.6666666666666666,
             "#ed7953"
            ],
            [
             0.7777777777777778,
             "#fb9f3a"
            ],
            [
             0.8888888888888888,
             "#fdca26"
            ],
            [
             1.0,
             "#f0f921"
            ]
           ],
           "sequentialminus": [
            [
             0.0,
             "#0d0887"
            ],
            [
             0.1111111111111111,
             "#46039f"
            ],
            [
             0.2222222222222222,
             "#7201a8"
            ],
            [
             0.3333333333333333,
             "#9c179e"
            ],
            [
             0.4444444444444444,
             "#bd3786"
            ],
            [
             0.5555555555555556,
             "#d8576b"
            ],
            [
             0.6666666666666666,
             "#ed7953"
            ],
            [
             0.7777777777777778,
             "#fb9f3a"
            ],
            [
             0.8888888888888888,
             "#fdca26"
            ],
            [
             1.0,
             "#f0f921"
            ]
           ],
           "diverging": [
            [
             0,
             "#8e0152"
            ],
            [
             0.1,
             "#c51b7d"
            ],
            [
             0.2,
             "#de77ae"
            ],
            [
             0.3,
             "#f1b6da"
            ],
            [
             0.4,
             "#fde0ef"
            ],
            [
             0.5,
             "#f7f7f7"
            ],
            [
             0.6,
             "#e6f5d0"
            ],
            [
             0.7,
             "#b8e186"
            ],
            [
             0.8,
             "#7fbc41"
            ],
            [
             0.9,
             "#4d9221"
            ],
            [
             1,
             "#276419"
            ]
           ]
          },
          "xaxis": {
           "gridcolor": "white",
           "linecolor": "white",
           "ticks": "",
           "title": {
            "standoff": 15
           },
           "zerolinecolor": "white",
           "automargin": true,
           "zerolinewidth": 2
          },
          "yaxis": {
           "gridcolor": "white",
           "linecolor": "white",
           "ticks": "",
           "title": {
            "standoff": 15
           },
           "zerolinecolor": "white",
           "automargin": true,
           "zerolinewidth": 2
          },
          "scene": {
           "xaxis": {
            "backgroundcolor": "#E5ECF6",
            "gridcolor": "white",
            "linecolor": "white",
            "showbackground": true,
            "ticks": "",
            "zerolinecolor": "white",
            "gridwidth": 2
           },
           "yaxis": {
            "backgroundcolor": "#E5ECF6",
            "gridcolor": "white",
            "linecolor": "white",
            "showbackground": true,
            "ticks": "",
            "zerolinecolor": "white",
            "gridwidth": 2
           },
           "zaxis": {
            "backgroundcolor": "#E5ECF6",
            "gridcolor": "white",
            "linecolor": "white",
            "showbackground": true,
            "ticks": "",
            "zerolinecolor": "white",
            "gridwidth": 2
           }
          },
          "shapedefaults": {
           "line": {
            "color": "#2a3f5f"
           }
          },
          "annotationdefaults": {
           "arrowcolor": "#2a3f5f",
           "arrowhead": 0,
           "arrowwidth": 1
          },
          "geo": {
           "bgcolor": "white",
           "landcolor": "#E5ECF6",
           "subunitcolor": "white",
           "showland": true,
           "showlakes": true,
           "lakecolor": "white"
          },
          "title": {
           "x": 0.05
          },
          "mapbox": {
           "style": "light"
          }
         }
        },
        "title": {
         "text": "KNN-TSC Accuracy by Time"
        },
        "xaxis": {
         "title": {
          "text": "Time"
         }
        },
        "yaxis": {
         "title": {
          "text": "Accuracy"
         }
        }
       },
       "config": {
        "plotlyServerURL": "https://plot.ly"
       }
      }
     },
     "metadata": {},
     "output_type": "display_data"
    }
   ],
   "execution_count": 11
  },
  {
   "metadata": {
    "ExecuteTime": {
     "end_time": "2025-07-31T08:33:48.211064Z",
     "start_time": "2025-07-31T08:33:45.208864Z"
    }
   },
   "cell_type": "code",
   "source": [
    "fig = go.Figure()\n",
    "acc_by_time = train_and_test_KNN_TSC(k=3, save_path=\"ckpt/track_models/knn_tsc\")\n",
    "fig.add_trace(go.Scatter(x=list(range(1, SEQ_LEN+1)), y=acc_by_time, mode=\"lines\"))\n",
    "fig.update_layout(title=\"KNN-TSC Accuracy by Time\", xaxis_title=\"Time\", yaxis_title=\"Accuracy\")\n",
    "fig.show()"
   ],
   "id": "97eb243a2f62ab66",
   "outputs": [
    {
     "name": "stdout",
     "output_type": "stream",
     "text": [
      "------------- Time 1 -------------\n",
      "Accuracy: 0.8303249097472925\n",
      "Accuracy of class 1: 0.7681159420289855\n",
      "Accuracy of class 2: 0.9516129032258065\n",
      "Accuracy of class 3: 0.7083333333333334\n",
      "Accuracy of class 4: 0.9054054054054054\n",
      "------------- Time 2 -------------\n",
      "Accuracy: 0.851985559566787\n",
      "Accuracy of class 1: 0.7536231884057971\n",
      "Accuracy of class 2: 0.9032258064516129\n",
      "Accuracy of class 3: 0.8055555555555556\n",
      "Accuracy of class 4: 0.9459459459459459\n",
      "------------- Time 3 -------------\n",
      "Accuracy: 0.8628158844765343\n",
      "Accuracy of class 1: 0.7536231884057971\n",
      "Accuracy of class 2: 0.9193548387096774\n",
      "Accuracy of class 3: 0.8055555555555556\n",
      "Accuracy of class 4: 0.972972972972973\n",
      "------------- Time 4 -------------\n",
      "Accuracy: 0.8628158844765343\n",
      "Accuracy of class 1: 0.7971014492753623\n",
      "Accuracy of class 2: 0.9032258064516129\n",
      "Accuracy of class 3: 0.7777777777777778\n",
      "Accuracy of class 4: 0.972972972972973\n",
      "------------- Time 5 -------------\n",
      "Accuracy: 0.8736462093862816\n",
      "Accuracy of class 1: 0.8115942028985508\n",
      "Accuracy of class 2: 0.9193548387096774\n",
      "Accuracy of class 3: 0.7916666666666666\n",
      "Accuracy of class 4: 0.972972972972973\n",
      "------------- Time 6 -------------\n",
      "Accuracy: 0.8844765342960289\n",
      "Accuracy of class 1: 0.8260869565217391\n",
      "Accuracy of class 2: 0.9193548387096774\n",
      "Accuracy of class 3: 0.8194444444444444\n",
      "Accuracy of class 4: 0.972972972972973\n",
      "------------- Time 7 -------------\n",
      "Accuracy: 0.8808664259927798\n",
      "Accuracy of class 1: 0.855072463768116\n",
      "Accuracy of class 2: 0.9193548387096774\n",
      "Accuracy of class 3: 0.7777777777777778\n",
      "Accuracy of class 4: 0.972972972972973\n",
      "------------- Time 8 -------------\n",
      "Accuracy: 0.8916967509025271\n",
      "Accuracy of class 1: 0.8840579710144928\n",
      "Accuracy of class 2: 0.9354838709677419\n",
      "Accuracy of class 3: 0.7777777777777778\n",
      "Accuracy of class 4: 0.972972972972973\n",
      "------------- Time 9 -------------\n",
      "Accuracy: 0.8880866425992779\n",
      "Accuracy of class 1: 0.8985507246376812\n",
      "Accuracy of class 2: 0.9354838709677419\n",
      "Accuracy of class 3: 0.75\n",
      "Accuracy of class 4: 0.972972972972973\n",
      "------------- Time 10 -------------\n",
      "Accuracy: 0.8916967509025271\n",
      "Accuracy of class 1: 0.9130434782608695\n",
      "Accuracy of class 2: 0.9354838709677419\n",
      "Accuracy of class 3: 0.75\n",
      "Accuracy of class 4: 0.972972972972973\n",
      "------------- Time 11 -------------\n",
      "Accuracy: 0.8953068592057761\n",
      "Accuracy of class 1: 0.8985507246376812\n",
      "Accuracy of class 2: 0.9354838709677419\n",
      "Accuracy of class 3: 0.7638888888888888\n",
      "Accuracy of class 4: 0.9864864864864865\n",
      "------------- Time 12 -------------\n",
      "Accuracy: 0.8953068592057761\n",
      "Accuracy of class 1: 0.8985507246376812\n",
      "Accuracy of class 2: 0.9354838709677419\n",
      "Accuracy of class 3: 0.7638888888888888\n",
      "Accuracy of class 4: 0.9864864864864865\n",
      "------------- Time 13 -------------\n",
      "Accuracy: 0.9061371841155235\n",
      "Accuracy of class 1: 0.9130434782608695\n",
      "Accuracy of class 2: 0.9516129032258065\n",
      "Accuracy of class 3: 0.7777777777777778\n",
      "Accuracy of class 4: 0.9864864864864865\n",
      "------------- Time 14 -------------\n",
      "Accuracy: 0.8989169675090253\n",
      "Accuracy of class 1: 0.9130434782608695\n",
      "Accuracy of class 2: 0.9516129032258065\n",
      "Accuracy of class 3: 0.75\n",
      "Accuracy of class 4: 0.9864864864864865\n",
      "------------- Time 15 -------------\n",
      "Accuracy: 0.8953068592057761\n",
      "Accuracy of class 1: 0.9130434782608695\n",
      "Accuracy of class 2: 0.9516129032258065\n",
      "Accuracy of class 3: 0.75\n",
      "Accuracy of class 4: 0.972972972972973\n",
      "------------- Time 16 -------------\n",
      "Accuracy: 0.9061371841155235\n",
      "Accuracy of class 1: 0.9130434782608695\n",
      "Accuracy of class 2: 0.9516129032258065\n",
      "Accuracy of class 3: 0.7916666666666666\n",
      "Accuracy of class 4: 0.972972972972973\n",
      "------------- Time 17 -------------\n",
      "Accuracy: 0.9025270758122743\n",
      "Accuracy of class 1: 0.9130434782608695\n",
      "Accuracy of class 2: 0.9516129032258065\n",
      "Accuracy of class 3: 0.7777777777777778\n",
      "Accuracy of class 4: 0.972972972972973\n",
      "------------- Time 18 -------------\n",
      "Accuracy: 0.9061371841155235\n",
      "Accuracy of class 1: 0.927536231884058\n",
      "Accuracy of class 2: 0.9516129032258065\n",
      "Accuracy of class 3: 0.7777777777777778\n",
      "Accuracy of class 4: 0.972972972972973\n",
      "------------- Time 19 -------------\n",
      "Accuracy: 0.9061371841155235\n",
      "Accuracy of class 1: 0.8985507246376812\n",
      "Accuracy of class 2: 0.9516129032258065\n",
      "Accuracy of class 3: 0.8055555555555556\n",
      "Accuracy of class 4: 0.972972972972973\n",
      "------------- Time 20 -------------\n",
      "Accuracy: 0.8989169675090253\n",
      "Accuracy of class 1: 0.8840579710144928\n",
      "Accuracy of class 2: 0.9516129032258065\n",
      "Accuracy of class 3: 0.7916666666666666\n",
      "Accuracy of class 4: 0.972972972972973\n",
      "------------- Time 21 -------------\n",
      "Accuracy: 0.9025270758122743\n",
      "Accuracy of class 1: 0.8985507246376812\n",
      "Accuracy of class 2: 0.9516129032258065\n",
      "Accuracy of class 3: 0.7916666666666666\n",
      "Accuracy of class 4: 0.972972972972973\n",
      "------------- Time 22 -------------\n",
      "Accuracy: 0.9025270758122743\n",
      "Accuracy of class 1: 0.8985507246376812\n",
      "Accuracy of class 2: 0.9516129032258065\n",
      "Accuracy of class 3: 0.7916666666666666\n",
      "Accuracy of class 4: 0.972972972972973\n",
      "------------- Time 23 -------------\n",
      "Accuracy: 0.9025270758122743\n",
      "Accuracy of class 1: 0.8985507246376812\n",
      "Accuracy of class 2: 0.9516129032258065\n",
      "Accuracy of class 3: 0.7916666666666666\n",
      "Accuracy of class 4: 0.972972972972973\n",
      "------------- Time 24 -------------\n",
      "Accuracy: 0.8953068592057761\n",
      "Accuracy of class 1: 0.8840579710144928\n",
      "Accuracy of class 2: 0.9516129032258065\n",
      "Accuracy of class 3: 0.7777777777777778\n",
      "Accuracy of class 4: 0.972972972972973\n",
      "------------- Time 25 -------------\n",
      "Accuracy: 0.8916967509025271\n",
      "Accuracy of class 1: 0.8840579710144928\n",
      "Accuracy of class 2: 0.9354838709677419\n",
      "Accuracy of class 3: 0.7777777777777778\n",
      "Accuracy of class 4: 0.972972972972973\n",
      "------------- Time 26 -------------\n",
      "Accuracy: 0.8916967509025271\n",
      "Accuracy of class 1: 0.8840579710144928\n",
      "Accuracy of class 2: 0.9354838709677419\n",
      "Accuracy of class 3: 0.7777777777777778\n",
      "Accuracy of class 4: 0.972972972972973\n",
      "------------- Time 27 -------------\n",
      "Accuracy: 0.8953068592057761\n",
      "Accuracy of class 1: 0.8985507246376812\n",
      "Accuracy of class 2: 0.9354838709677419\n",
      "Accuracy of class 3: 0.7777777777777778\n",
      "Accuracy of class 4: 0.972972972972973\n",
      "------------- Time 28 -------------\n",
      "Accuracy: 0.9025270758122743\n",
      "Accuracy of class 1: 0.9130434782608695\n",
      "Accuracy of class 2: 0.9354838709677419\n",
      "Accuracy of class 3: 0.7916666666666666\n",
      "Accuracy of class 4: 0.972972972972973\n",
      "------------- Time 29 -------------\n",
      "Accuracy: 0.9025270758122743\n",
      "Accuracy of class 1: 0.9130434782608695\n",
      "Accuracy of class 2: 0.9354838709677419\n",
      "Accuracy of class 3: 0.7916666666666666\n",
      "Accuracy of class 4: 0.972972972972973\n"
     ]
    },
    {
     "data": {
      "application/vnd.plotly.v1+json": {
       "data": [
        {
         "mode": "lines",
         "x": [
          1,
          2,
          3,
          4,
          5,
          6,
          7,
          8,
          9,
          10,
          11,
          12,
          13,
          14,
          15,
          16,
          17,
          18,
          19,
          20,
          21,
          22,
          23,
          24,
          25,
          26,
          27,
          28,
          29
         ],
         "y": [
          0.8303249097472925,
          0.851985559566787,
          0.8628158844765343,
          0.8628158844765343,
          0.8736462093862816,
          0.8844765342960289,
          0.8808664259927798,
          0.8916967509025271,
          0.8880866425992779,
          0.8916967509025271,
          0.8953068592057761,
          0.8953068592057761,
          0.9061371841155235,
          0.8989169675090253,
          0.8953068592057761,
          0.9061371841155235,
          0.9025270758122743,
          0.9061371841155235,
          0.9061371841155235,
          0.8989169675090253,
          0.9025270758122743,
          0.9025270758122743,
          0.9025270758122743,
          0.8953068592057761,
          0.8916967509025271,
          0.8916967509025271,
          0.8953068592057761,
          0.9025270758122743,
          0.9025270758122743
         ],
         "type": "scatter"
        }
       ],
       "layout": {
        "template": {
         "data": {
          "histogram2dcontour": [
           {
            "type": "histogram2dcontour",
            "colorbar": {
             "outlinewidth": 0,
             "ticks": ""
            },
            "colorscale": [
             [
              0.0,
              "#0d0887"
             ],
             [
              0.1111111111111111,
              "#46039f"
             ],
             [
              0.2222222222222222,
              "#7201a8"
             ],
             [
              0.3333333333333333,
              "#9c179e"
             ],
             [
              0.4444444444444444,
              "#bd3786"
             ],
             [
              0.5555555555555556,
              "#d8576b"
             ],
             [
              0.6666666666666666,
              "#ed7953"
             ],
             [
              0.7777777777777778,
              "#fb9f3a"
             ],
             [
              0.8888888888888888,
              "#fdca26"
             ],
             [
              1.0,
              "#f0f921"
             ]
            ]
           }
          ],
          "choropleth": [
           {
            "type": "choropleth",
            "colorbar": {
             "outlinewidth": 0,
             "ticks": ""
            }
           }
          ],
          "histogram2d": [
           {
            "type": "histogram2d",
            "colorbar": {
             "outlinewidth": 0,
             "ticks": ""
            },
            "colorscale": [
             [
              0.0,
              "#0d0887"
             ],
             [
              0.1111111111111111,
              "#46039f"
             ],
             [
              0.2222222222222222,
              "#7201a8"
             ],
             [
              0.3333333333333333,
              "#9c179e"
             ],
             [
              0.4444444444444444,
              "#bd3786"
             ],
             [
              0.5555555555555556,
              "#d8576b"
             ],
             [
              0.6666666666666666,
              "#ed7953"
             ],
             [
              0.7777777777777778,
              "#fb9f3a"
             ],
             [
              0.8888888888888888,
              "#fdca26"
             ],
             [
              1.0,
              "#f0f921"
             ]
            ]
           }
          ],
          "heatmap": [
           {
            "type": "heatmap",
            "colorbar": {
             "outlinewidth": 0,
             "ticks": ""
            },
            "colorscale": [
             [
              0.0,
              "#0d0887"
             ],
             [
              0.1111111111111111,
              "#46039f"
             ],
             [
              0.2222222222222222,
              "#7201a8"
             ],
             [
              0.3333333333333333,
              "#9c179e"
             ],
             [
              0.4444444444444444,
              "#bd3786"
             ],
             [
              0.5555555555555556,
              "#d8576b"
             ],
             [
              0.6666666666666666,
              "#ed7953"
             ],
             [
              0.7777777777777778,
              "#fb9f3a"
             ],
             [
              0.8888888888888888,
              "#fdca26"
             ],
             [
              1.0,
              "#f0f921"
             ]
            ]
           }
          ],
          "contourcarpet": [
           {
            "type": "contourcarpet",
            "colorbar": {
             "outlinewidth": 0,
             "ticks": ""
            }
           }
          ],
          "contour": [
           {
            "type": "contour",
            "colorbar": {
             "outlinewidth": 0,
             "ticks": ""
            },
            "colorscale": [
             [
              0.0,
              "#0d0887"
             ],
             [
              0.1111111111111111,
              "#46039f"
             ],
             [
              0.2222222222222222,
              "#7201a8"
             ],
             [
              0.3333333333333333,
              "#9c179e"
             ],
             [
              0.4444444444444444,
              "#bd3786"
             ],
             [
              0.5555555555555556,
              "#d8576b"
             ],
             [
              0.6666666666666666,
              "#ed7953"
             ],
             [
              0.7777777777777778,
              "#fb9f3a"
             ],
             [
              0.8888888888888888,
              "#fdca26"
             ],
             [
              1.0,
              "#f0f921"
             ]
            ]
           }
          ],
          "surface": [
           {
            "type": "surface",
            "colorbar": {
             "outlinewidth": 0,
             "ticks": ""
            },
            "colorscale": [
             [
              0.0,
              "#0d0887"
             ],
             [
              0.1111111111111111,
              "#46039f"
             ],
             [
              0.2222222222222222,
              "#7201a8"
             ],
             [
              0.3333333333333333,
              "#9c179e"
             ],
             [
              0.4444444444444444,
              "#bd3786"
             ],
             [
              0.5555555555555556,
              "#d8576b"
             ],
             [
              0.6666666666666666,
              "#ed7953"
             ],
             [
              0.7777777777777778,
              "#fb9f3a"
             ],
             [
              0.8888888888888888,
              "#fdca26"
             ],
             [
              1.0,
              "#f0f921"
             ]
            ]
           }
          ],
          "mesh3d": [
           {
            "type": "mesh3d",
            "colorbar": {
             "outlinewidth": 0,
             "ticks": ""
            }
           }
          ],
          "scatter": [
           {
            "fillpattern": {
             "fillmode": "overlay",
             "size": 10,
             "solidity": 0.2
            },
            "type": "scatter"
           }
          ],
          "parcoords": [
           {
            "type": "parcoords",
            "line": {
             "colorbar": {
              "outlinewidth": 0,
              "ticks": ""
             }
            }
           }
          ],
          "scatterpolargl": [
           {
            "type": "scatterpolargl",
            "marker": {
             "colorbar": {
              "outlinewidth": 0,
              "ticks": ""
             }
            }
           }
          ],
          "bar": [
           {
            "error_x": {
             "color": "#2a3f5f"
            },
            "error_y": {
             "color": "#2a3f5f"
            },
            "marker": {
             "line": {
              "color": "#E5ECF6",
              "width": 0.5
             },
             "pattern": {
              "fillmode": "overlay",
              "size": 10,
              "solidity": 0.2
             }
            },
            "type": "bar"
           }
          ],
          "scattergeo": [
           {
            "type": "scattergeo",
            "marker": {
             "colorbar": {
              "outlinewidth": 0,
              "ticks": ""
             }
            }
           }
          ],
          "scatterpolar": [
           {
            "type": "scatterpolar",
            "marker": {
             "colorbar": {
              "outlinewidth": 0,
              "ticks": ""
             }
            }
           }
          ],
          "histogram": [
           {
            "marker": {
             "pattern": {
              "fillmode": "overlay",
              "size": 10,
              "solidity": 0.2
             }
            },
            "type": "histogram"
           }
          ],
          "scattergl": [
           {
            "type": "scattergl",
            "marker": {
             "colorbar": {
              "outlinewidth": 0,
              "ticks": ""
             }
            }
           }
          ],
          "scatter3d": [
           {
            "type": "scatter3d",
            "line": {
             "colorbar": {
              "outlinewidth": 0,
              "ticks": ""
             }
            },
            "marker": {
             "colorbar": {
              "outlinewidth": 0,
              "ticks": ""
             }
            }
           }
          ],
          "scattermap": [
           {
            "type": "scattermap",
            "marker": {
             "colorbar": {
              "outlinewidth": 0,
              "ticks": ""
             }
            }
           }
          ],
          "scattermapbox": [
           {
            "type": "scattermapbox",
            "marker": {
             "colorbar": {
              "outlinewidth": 0,
              "ticks": ""
             }
            }
           }
          ],
          "scatterternary": [
           {
            "type": "scatterternary",
            "marker": {
             "colorbar": {
              "outlinewidth": 0,
              "ticks": ""
             }
            }
           }
          ],
          "scattercarpet": [
           {
            "type": "scattercarpet",
            "marker": {
             "colorbar": {
              "outlinewidth": 0,
              "ticks": ""
             }
            }
           }
          ],
          "carpet": [
           {
            "aaxis": {
             "endlinecolor": "#2a3f5f",
             "gridcolor": "white",
             "linecolor": "white",
             "minorgridcolor": "white",
             "startlinecolor": "#2a3f5f"
            },
            "baxis": {
             "endlinecolor": "#2a3f5f",
             "gridcolor": "white",
             "linecolor": "white",
             "minorgridcolor": "white",
             "startlinecolor": "#2a3f5f"
            },
            "type": "carpet"
           }
          ],
          "table": [
           {
            "cells": {
             "fill": {
              "color": "#EBF0F8"
             },
             "line": {
              "color": "white"
             }
            },
            "header": {
             "fill": {
              "color": "#C8D4E3"
             },
             "line": {
              "color": "white"
             }
            },
            "type": "table"
           }
          ],
          "barpolar": [
           {
            "marker": {
             "line": {
              "color": "#E5ECF6",
              "width": 0.5
             },
             "pattern": {
              "fillmode": "overlay",
              "size": 10,
              "solidity": 0.2
             }
            },
            "type": "barpolar"
           }
          ],
          "pie": [
           {
            "automargin": true,
            "type": "pie"
           }
          ]
         },
         "layout": {
          "autotypenumbers": "strict",
          "colorway": [
           "#636efa",
           "#EF553B",
           "#00cc96",
           "#ab63fa",
           "#FFA15A",
           "#19d3f3",
           "#FF6692",
           "#B6E880",
           "#FF97FF",
           "#FECB52"
          ],
          "font": {
           "color": "#2a3f5f"
          },
          "hovermode": "closest",
          "hoverlabel": {
           "align": "left"
          },
          "paper_bgcolor": "white",
          "plot_bgcolor": "#E5ECF6",
          "polar": {
           "bgcolor": "#E5ECF6",
           "angularaxis": {
            "gridcolor": "white",
            "linecolor": "white",
            "ticks": ""
           },
           "radialaxis": {
            "gridcolor": "white",
            "linecolor": "white",
            "ticks": ""
           }
          },
          "ternary": {
           "bgcolor": "#E5ECF6",
           "aaxis": {
            "gridcolor": "white",
            "linecolor": "white",
            "ticks": ""
           },
           "baxis": {
            "gridcolor": "white",
            "linecolor": "white",
            "ticks": ""
           },
           "caxis": {
            "gridcolor": "white",
            "linecolor": "white",
            "ticks": ""
           }
          },
          "coloraxis": {
           "colorbar": {
            "outlinewidth": 0,
            "ticks": ""
           }
          },
          "colorscale": {
           "sequential": [
            [
             0.0,
             "#0d0887"
            ],
            [
             0.1111111111111111,
             "#46039f"
            ],
            [
             0.2222222222222222,
             "#7201a8"
            ],
            [
             0.3333333333333333,
             "#9c179e"
            ],
            [
             0.4444444444444444,
             "#bd3786"
            ],
            [
             0.5555555555555556,
             "#d8576b"
            ],
            [
             0.6666666666666666,
             "#ed7953"
            ],
            [
             0.7777777777777778,
             "#fb9f3a"
            ],
            [
             0.8888888888888888,
             "#fdca26"
            ],
            [
             1.0,
             "#f0f921"
            ]
           ],
           "sequentialminus": [
            [
             0.0,
             "#0d0887"
            ],
            [
             0.1111111111111111,
             "#46039f"
            ],
            [
             0.2222222222222222,
             "#7201a8"
            ],
            [
             0.3333333333333333,
             "#9c179e"
            ],
            [
             0.4444444444444444,
             "#bd3786"
            ],
            [
             0.5555555555555556,
             "#d8576b"
            ],
            [
             0.6666666666666666,
             "#ed7953"
            ],
            [
             0.7777777777777778,
             "#fb9f3a"
            ],
            [
             0.8888888888888888,
             "#fdca26"
            ],
            [
             1.0,
             "#f0f921"
            ]
           ],
           "diverging": [
            [
             0,
             "#8e0152"
            ],
            [
             0.1,
             "#c51b7d"
            ],
            [
             0.2,
             "#de77ae"
            ],
            [
             0.3,
             "#f1b6da"
            ],
            [
             0.4,
             "#fde0ef"
            ],
            [
             0.5,
             "#f7f7f7"
            ],
            [
             0.6,
             "#e6f5d0"
            ],
            [
             0.7,
             "#b8e186"
            ],
            [
             0.8,
             "#7fbc41"
            ],
            [
             0.9,
             "#4d9221"
            ],
            [
             1,
             "#276419"
            ]
           ]
          },
          "xaxis": {
           "gridcolor": "white",
           "linecolor": "white",
           "ticks": "",
           "title": {
            "standoff": 15
           },
           "zerolinecolor": "white",
           "automargin": true,
           "zerolinewidth": 2
          },
          "yaxis": {
           "gridcolor": "white",
           "linecolor": "white",
           "ticks": "",
           "title": {
            "standoff": 15
           },
           "zerolinecolor": "white",
           "automargin": true,
           "zerolinewidth": 2
          },
          "scene": {
           "xaxis": {
            "backgroundcolor": "#E5ECF6",
            "gridcolor": "white",
            "linecolor": "white",
            "showbackground": true,
            "ticks": "",
            "zerolinecolor": "white",
            "gridwidth": 2
           },
           "yaxis": {
            "backgroundcolor": "#E5ECF6",
            "gridcolor": "white",
            "linecolor": "white",
            "showbackground": true,
            "ticks": "",
            "zerolinecolor": "white",
            "gridwidth": 2
           },
           "zaxis": {
            "backgroundcolor": "#E5ECF6",
            "gridcolor": "white",
            "linecolor": "white",
            "showbackground": true,
            "ticks": "",
            "zerolinecolor": "white",
            "gridwidth": 2
           }
          },
          "shapedefaults": {
           "line": {
            "color": "#2a3f5f"
           }
          },
          "annotationdefaults": {
           "arrowcolor": "#2a3f5f",
           "arrowhead": 0,
           "arrowwidth": 1
          },
          "geo": {
           "bgcolor": "white",
           "landcolor": "#E5ECF6",
           "subunitcolor": "white",
           "showland": true,
           "showlakes": true,
           "lakecolor": "white"
          },
          "title": {
           "x": 0.05
          },
          "mapbox": {
           "style": "light"
          }
         }
        },
        "title": {
         "text": "KNN-TSC Accuracy by Time"
        },
        "xaxis": {
         "title": {
          "text": "Time"
         }
        },
        "yaxis": {
         "title": {
          "text": "Accuracy"
         }
        }
       },
       "config": {
        "plotlyServerURL": "https://plot.ly"
       }
      }
     },
     "metadata": {},
     "output_type": "display_data"
    }
   ],
   "execution_count": 6
  },
  {
   "metadata": {},
   "cell_type": "markdown",
   "source": "## ROCKET",
   "id": "ee4254015a500d55"
  },
  {
   "metadata": {
    "ExecuteTime": {
     "end_time": "2025-08-04T13:38:39.444946Z",
     "start_time": "2025-08-04T13:38:39.430137Z"
    }
   },
   "cell_type": "code",
   "source": [
    "def train_and_test_ROCKET_TSC(num_kernels, save_path=None, begin_time=1):\n",
    "    acc_by_time = []\n",
    "    pred = []\n",
    "    is_start = [False for _ in range(int(len(data) * 0.8))]\n",
    "    avg_begin_time = 0\n",
    "    for t in range(1, SEQ_LEN + 1):\n",
    "        train_data, test_data, train_labels, test_labels, train_scaler = get_data(data, t)\n",
    "        rocket_tsc = RocketClassifier(rocket_transform=\"multirocket\", num_kernels=num_kernels, random_state=42)\n",
    "        cv_results = cross_validate(rocket_tsc, train_data, train_labels, cv=4, scoring=\"accuracy\", return_estimator=True)\n",
    "        best_index = np.argmax(cv_results[\"test_score\"])\n",
    "        best_model = cv_results[\"estimator\"][best_index]\n",
    "        if save_path is not None:\n",
    "            os.makedirs(save_path, exist_ok=True)\n",
    "            filename = os.path.join(save_path, f\"rocket_tsc_{t}.pkl\")\n",
    "            with open(filename, \"wb\") as f:\n",
    "                pickle.dump(best_model, f)\n",
    "            filename = os.path.join(save_path, f\"scaler_{t}.pkl\")\n",
    "            with open(filename, \"wb\") as f:\n",
    "                pickle.dump(train_scaler, f)\n",
    "        y_pred_proba = best_model.predict_proba(test_data)\n",
    "        y_pred = []\n",
    "        for i in range(len(y_pred_proba)):\n",
    "            max_index = np.argmax(y_pred_proba[i])\n",
    "            if not is_start[i]:\n",
    "                if y_pred_proba[i][max_index] > 0.5 and t >= begin_time:\n",
    "                    is_start[i] = True\n",
    "                    avg_begin_time += t\n",
    "                    y_pred.append(max_index)\n",
    "                else:\n",
    "                    y_pred.append(-1)\n",
    "            else:\n",
    "                y_pred.append(max_index)\n",
    "        pred.append(y_pred)\n",
    "        pred_labels = best_model.predict(test_data)\n",
    "        acc, acc_by_class = calc_acc(pred_labels, test_labels, NUM_CLASSES)\n",
    "        print(f\"------------- Time {t} -------------\")\n",
    "        print(f\"Accuracy: {acc}\")\n",
    "        acc_by_time.append(acc)\n",
    "        for i in range(NUM_CLASSES):\n",
    "            print(f\"Accuracy of class {i+1}: {acc_by_class[i]}\")\n",
    "    pred = np.array(pred)\n",
    "    corrects = np.zeros(NUM_CLASSES)\n",
    "    totals = np.bincount(test_labels, minlength=NUM_CLASSES)\n",
    "    conf_matrix = np.zeros((NUM_CLASSES, NUM_CLASSES))\n",
    "    avg_rate = 0\n",
    "    for i in range(pred.shape[1]):\n",
    "        batch_pred = pred[:, i]\n",
    "        batch_pred = batch_pred[batch_pred != -1]\n",
    "        if len(batch_pred) == 0:\n",
    "            continue\n",
    "        unique_vals, counts = np.unique(batch_pred, return_counts=True)\n",
    "        pred_label = unique_vals[np.argmax(counts)]\n",
    "        rate = len(batch_pred[batch_pred == pred_label]) / len(batch_pred)\n",
    "        avg_rate += rate\n",
    "        label = test_labels[i]\n",
    "        if rate > 0.9 and label == pred_label:\n",
    "            corrects[label] += 1\n",
    "        conf_matrix[label, pred_label] += 1\n",
    "    accuracy = np.sum(corrects) / np.sum(totals)\n",
    "    totals[totals == 0] = 1\n",
    "    accuracy_by_class = corrects / totals\n",
    "    avg_begin_time /= len(pred[0])\n",
    "    avg_rate /= len(pred[0])\n",
    "    print(f\"accuracy: {accuracy:.4f}\")\n",
    "    print(f\"accuracy by class: {accuracy_by_class}\")\n",
    "    print(f\"average begin time: {avg_begin_time}\")\n",
    "    print(f\"average rate: {avg_rate}\")\n",
    "    print(f\"confusion matrix:\\n{conf_matrix}\")\n",
    "    return acc_by_time"
   ],
   "id": "f0ee921ee2bccf0d",
   "outputs": [],
   "execution_count": 10
  },
  {
   "metadata": {
    "ExecuteTime": {
     "end_time": "2025-07-31T08:44:33.032292Z",
     "start_time": "2025-07-31T08:44:27.763636Z"
    }
   },
   "cell_type": "code",
   "source": [
    "fig = go.Figure()\n",
    "for num_kernels in [1000, 2000, 5000, 10000, 20000]:\n",
    "    acc_by_time = train_and_test_ROCKET_TSC(num_kernels)\n",
    "    fig.add_trace(go.Scatter(x=list(range(1, SEQ_LEN+1)), y=acc_by_time, name=f\"K={num_kernels}\", mode=\"lines\"))\n",
    "fig.update_layout(title=\"ROCKET Accuracy by Time\", xaxis_title=\"Time\", yaxis_title=\"Accuracy\")\n",
    "fig.show()\n",
    "# select num_kernels=10000"
   ],
   "id": "520fc294d09a55a9",
   "outputs": [
    {
     "name": "stderr",
     "output_type": "stream",
     "text": [
      "\n",
      "KeyboardInterrupt\n",
      "\n"
     ]
    }
   ],
   "execution_count": 9
  },
  {
   "metadata": {
    "ExecuteTime": {
     "end_time": "2025-08-04T16:13:04.463299Z",
     "start_time": "2025-08-04T13:38:46.055939Z"
    }
   },
   "cell_type": "code",
   "source": [
    "fig = go.Figure()\n",
    "acc_by_time = train_and_test_ROCKET_TSC(num_kernels=20000, save_path=\"ckpt/track_models/rocket_tsc\", begin_time=2)\n",
    "fig.add_trace(go.Scatter(x=list(range(1, SEQ_LEN+1)), y=acc_by_time, mode=\"lines\"))\n",
    "fig.update_layout(title=\"ROCKET Accuracy by Time\", xaxis_title=\"Time\", yaxis_title=\"Accuracy\")\n",
    "fig.show()"
   ],
   "id": "10de18a39ff00586",
   "outputs": [
    {
     "name": "stdout",
     "output_type": "stream",
     "text": [
      "------------- Time 1 -------------\n",
      "Accuracy: 0.8880866425992779\n",
      "Accuracy of class 1: 0.8115942028985508\n",
      "Accuracy of class 2: 0.967741935483871\n",
      "Accuracy of class 3: 0.8194444444444444\n",
      "Accuracy of class 4: 0.9594594594594594\n",
      "------------- Time 2 -------------\n",
      "Accuracy: 0.8844765342960289\n",
      "Accuracy of class 1: 0.8260869565217391\n",
      "Accuracy of class 2: 0.9354838709677419\n",
      "Accuracy of class 3: 0.8055555555555556\n",
      "Accuracy of class 4: 0.972972972972973\n",
      "------------- Time 3 -------------\n",
      "Accuracy: 0.8953068592057761\n",
      "Accuracy of class 1: 0.8985507246376812\n",
      "Accuracy of class 2: 0.9354838709677419\n",
      "Accuracy of class 3: 0.7777777777777778\n",
      "Accuracy of class 4: 0.972972972972973\n",
      "------------- Time 4 -------------\n",
      "Accuracy: 0.924187725631769\n",
      "Accuracy of class 1: 0.8985507246376812\n",
      "Accuracy of class 2: 0.9354838709677419\n",
      "Accuracy of class 3: 0.9027777777777778\n",
      "Accuracy of class 4: 0.9594594594594594\n",
      "------------- Time 5 -------------\n",
      "Accuracy: 0.9205776173285198\n",
      "Accuracy of class 1: 0.9130434782608695\n",
      "Accuracy of class 2: 0.9354838709677419\n",
      "Accuracy of class 3: 0.8472222222222222\n",
      "Accuracy of class 4: 0.9864864864864865\n",
      "------------- Time 6 -------------\n",
      "Accuracy: 0.9133574007220217\n",
      "Accuracy of class 1: 0.8985507246376812\n",
      "Accuracy of class 2: 0.9354838709677419\n",
      "Accuracy of class 3: 0.8333333333333334\n",
      "Accuracy of class 4: 0.9864864864864865\n",
      "------------- Time 7 -------------\n",
      "Accuracy: 0.924187725631769\n",
      "Accuracy of class 1: 0.9130434782608695\n",
      "Accuracy of class 2: 0.9354838709677419\n",
      "Accuracy of class 3: 0.8611111111111112\n",
      "Accuracy of class 4: 0.9864864864864865\n",
      "------------- Time 8 -------------\n",
      "Accuracy: 0.9169675090252708\n",
      "Accuracy of class 1: 0.8985507246376812\n",
      "Accuracy of class 2: 0.9516129032258065\n",
      "Accuracy of class 3: 0.8333333333333334\n",
      "Accuracy of class 4: 0.9864864864864865\n",
      "------------- Time 9 -------------\n",
      "Accuracy: 0.9097472924187726\n",
      "Accuracy of class 1: 0.8840579710144928\n",
      "Accuracy of class 2: 0.9354838709677419\n",
      "Accuracy of class 3: 0.8333333333333334\n",
      "Accuracy of class 4: 0.9864864864864865\n",
      "------------- Time 10 -------------\n",
      "Accuracy: 0.924187725631769\n",
      "Accuracy of class 1: 0.9130434782608695\n",
      "Accuracy of class 2: 0.9354838709677419\n",
      "Accuracy of class 3: 0.8611111111111112\n",
      "Accuracy of class 4: 0.9864864864864865\n",
      "------------- Time 11 -------------\n",
      "Accuracy: 0.9133574007220217\n",
      "Accuracy of class 1: 0.8985507246376812\n",
      "Accuracy of class 2: 0.9354838709677419\n",
      "Accuracy of class 3: 0.8333333333333334\n",
      "Accuracy of class 4: 0.9864864864864865\n",
      "------------- Time 12 -------------\n",
      "Accuracy: 0.9205776173285198\n",
      "Accuracy of class 1: 0.9130434782608695\n",
      "Accuracy of class 2: 0.9354838709677419\n",
      "Accuracy of class 3: 0.8472222222222222\n",
      "Accuracy of class 4: 0.9864864864864865\n",
      "------------- Time 13 -------------\n",
      "Accuracy: 0.9314079422382672\n",
      "Accuracy of class 1: 0.9130434782608695\n",
      "Accuracy of class 2: 0.9354838709677419\n",
      "Accuracy of class 3: 0.8888888888888888\n",
      "Accuracy of class 4: 0.9864864864864865\n",
      "------------- Time 14 -------------\n",
      "Accuracy: 0.9314079422382672\n",
      "Accuracy of class 1: 0.9130434782608695\n",
      "Accuracy of class 2: 0.9516129032258065\n",
      "Accuracy of class 3: 0.875\n",
      "Accuracy of class 4: 0.9864864864864865\n",
      "------------- Time 15 -------------\n",
      "Accuracy: 0.9350180505415162\n",
      "Accuracy of class 1: 0.9420289855072463\n",
      "Accuracy of class 2: 0.967741935483871\n",
      "Accuracy of class 3: 0.8472222222222222\n",
      "Accuracy of class 4: 0.9864864864864865\n",
      "------------- Time 16 -------------\n",
      "Accuracy: 0.9494584837545126\n",
      "Accuracy of class 1: 0.9420289855072463\n",
      "Accuracy of class 2: 0.967741935483871\n",
      "Accuracy of class 3: 0.9027777777777778\n",
      "Accuracy of class 4: 0.9864864864864865\n",
      "------------- Time 17 -------------\n",
      "Accuracy: 0.9314079422382672\n",
      "Accuracy of class 1: 0.927536231884058\n",
      "Accuracy of class 2: 0.967741935483871\n",
      "Accuracy of class 3: 0.8472222222222222\n",
      "Accuracy of class 4: 0.9864864864864865\n",
      "------------- Time 18 -------------\n",
      "Accuracy: 0.9422382671480144\n",
      "Accuracy of class 1: 0.9420289855072463\n",
      "Accuracy of class 2: 0.967741935483871\n",
      "Accuracy of class 3: 0.875\n",
      "Accuracy of class 4: 0.9864864864864865\n",
      "------------- Time 19 -------------\n",
      "Accuracy: 0.9386281588447654\n",
      "Accuracy of class 1: 0.9565217391304348\n",
      "Accuracy of class 2: 0.967741935483871\n",
      "Accuracy of class 3: 0.8611111111111112\n",
      "Accuracy of class 4: 0.972972972972973\n",
      "------------- Time 20 -------------\n",
      "Accuracy: 0.9386281588447654\n",
      "Accuracy of class 1: 0.9565217391304348\n",
      "Accuracy of class 2: 0.967741935483871\n",
      "Accuracy of class 3: 0.8472222222222222\n",
      "Accuracy of class 4: 0.9864864864864865\n",
      "------------- Time 21 -------------\n",
      "Accuracy: 0.9386281588447654\n",
      "Accuracy of class 1: 0.9420289855072463\n",
      "Accuracy of class 2: 0.9838709677419355\n",
      "Accuracy of class 3: 0.8611111111111112\n",
      "Accuracy of class 4: 0.972972972972973\n",
      "------------- Time 22 -------------\n",
      "Accuracy: 0.9422382671480144\n",
      "Accuracy of class 1: 0.9565217391304348\n",
      "Accuracy of class 2: 0.9838709677419355\n",
      "Accuracy of class 3: 0.8611111111111112\n",
      "Accuracy of class 4: 0.972972972972973\n",
      "------------- Time 23 -------------\n",
      "Accuracy: 0.9386281588447654\n",
      "Accuracy of class 1: 0.9420289855072463\n",
      "Accuracy of class 2: 0.967741935483871\n",
      "Accuracy of class 3: 0.875\n",
      "Accuracy of class 4: 0.972972972972973\n",
      "------------- Time 24 -------------\n",
      "Accuracy: 0.9458483754512635\n",
      "Accuracy of class 1: 0.9565217391304348\n",
      "Accuracy of class 2: 0.9838709677419355\n",
      "Accuracy of class 3: 0.875\n",
      "Accuracy of class 4: 0.972972972972973\n",
      "------------- Time 25 -------------\n",
      "Accuracy: 0.9422382671480144\n",
      "Accuracy of class 1: 0.9420289855072463\n",
      "Accuracy of class 2: 0.967741935483871\n",
      "Accuracy of class 3: 0.875\n",
      "Accuracy of class 4: 0.9864864864864865\n",
      "------------- Time 26 -------------\n",
      "Accuracy: 0.9350180505415162\n",
      "Accuracy of class 1: 0.9420289855072463\n",
      "Accuracy of class 2: 0.967741935483871\n",
      "Accuracy of class 3: 0.8611111111111112\n",
      "Accuracy of class 4: 0.972972972972973\n",
      "------------- Time 27 -------------\n",
      "Accuracy: 0.924187725631769\n",
      "Accuracy of class 1: 0.927536231884058\n",
      "Accuracy of class 2: 0.967741935483871\n",
      "Accuracy of class 3: 0.8472222222222222\n",
      "Accuracy of class 4: 0.9594594594594594\n",
      "------------- Time 28 -------------\n",
      "Accuracy: 0.9422382671480144\n",
      "Accuracy of class 1: 0.9420289855072463\n",
      "Accuracy of class 2: 0.967741935483871\n",
      "Accuracy of class 3: 0.875\n",
      "Accuracy of class 4: 0.9864864864864865\n",
      "------------- Time 29 -------------\n",
      "Accuracy: 0.9314079422382672\n",
      "Accuracy of class 1: 0.9420289855072463\n",
      "Accuracy of class 2: 0.967741935483871\n",
      "Accuracy of class 3: 0.8472222222222222\n",
      "Accuracy of class 4: 0.972972972972973\n",
      "accuracy: 0.8773\n",
      "accuracy by class: [0.86956522 0.93548387 0.75       0.95945946]\n",
      "average begin time: 2.0\n",
      "average rate: 0.9713769984528109\n",
      "confusion matrix:\n",
      "[[65.  1.  3.  0.]\n",
      " [ 2. 59.  1.  0.]\n",
      " [ 5.  0. 63.  4.]\n",
      " [ 0.  0.  1. 73.]]\n"
     ]
    },
    {
     "data": {
      "application/vnd.plotly.v1+json": {
       "data": [
        {
         "mode": "lines",
         "x": [
          1,
          2,
          3,
          4,
          5,
          6,
          7,
          8,
          9,
          10,
          11,
          12,
          13,
          14,
          15,
          16,
          17,
          18,
          19,
          20,
          21,
          22,
          23,
          24,
          25,
          26,
          27,
          28,
          29
         ],
         "y": [
          0.8880866425992779,
          0.8844765342960289,
          0.8953068592057761,
          0.924187725631769,
          0.9205776173285198,
          0.9133574007220217,
          0.924187725631769,
          0.9169675090252708,
          0.9097472924187726,
          0.924187725631769,
          0.9133574007220217,
          0.9205776173285198,
          0.9314079422382672,
          0.9314079422382672,
          0.9350180505415162,
          0.9494584837545126,
          0.9314079422382672,
          0.9422382671480144,
          0.9386281588447654,
          0.9386281588447654,
          0.9386281588447654,
          0.9422382671480144,
          0.9386281588447654,
          0.9458483754512635,
          0.9422382671480144,
          0.9350180505415162,
          0.924187725631769,
          0.9422382671480144,
          0.9314079422382672
         ],
         "type": "scatter"
        }
       ],
       "layout": {
        "template": {
         "data": {
          "histogram2dcontour": [
           {
            "type": "histogram2dcontour",
            "colorbar": {
             "outlinewidth": 0,
             "ticks": ""
            },
            "colorscale": [
             [
              0.0,
              "#0d0887"
             ],
             [
              0.1111111111111111,
              "#46039f"
             ],
             [
              0.2222222222222222,
              "#7201a8"
             ],
             [
              0.3333333333333333,
              "#9c179e"
             ],
             [
              0.4444444444444444,
              "#bd3786"
             ],
             [
              0.5555555555555556,
              "#d8576b"
             ],
             [
              0.6666666666666666,
              "#ed7953"
             ],
             [
              0.7777777777777778,
              "#fb9f3a"
             ],
             [
              0.8888888888888888,
              "#fdca26"
             ],
             [
              1.0,
              "#f0f921"
             ]
            ]
           }
          ],
          "choropleth": [
           {
            "type": "choropleth",
            "colorbar": {
             "outlinewidth": 0,
             "ticks": ""
            }
           }
          ],
          "histogram2d": [
           {
            "type": "histogram2d",
            "colorbar": {
             "outlinewidth": 0,
             "ticks": ""
            },
            "colorscale": [
             [
              0.0,
              "#0d0887"
             ],
             [
              0.1111111111111111,
              "#46039f"
             ],
             [
              0.2222222222222222,
              "#7201a8"
             ],
             [
              0.3333333333333333,
              "#9c179e"
             ],
             [
              0.4444444444444444,
              "#bd3786"
             ],
             [
              0.5555555555555556,
              "#d8576b"
             ],
             [
              0.6666666666666666,
              "#ed7953"
             ],
             [
              0.7777777777777778,
              "#fb9f3a"
             ],
             [
              0.8888888888888888,
              "#fdca26"
             ],
             [
              1.0,
              "#f0f921"
             ]
            ]
           }
          ],
          "heatmap": [
           {
            "type": "heatmap",
            "colorbar": {
             "outlinewidth": 0,
             "ticks": ""
            },
            "colorscale": [
             [
              0.0,
              "#0d0887"
             ],
             [
              0.1111111111111111,
              "#46039f"
             ],
             [
              0.2222222222222222,
              "#7201a8"
             ],
             [
              0.3333333333333333,
              "#9c179e"
             ],
             [
              0.4444444444444444,
              "#bd3786"
             ],
             [
              0.5555555555555556,
              "#d8576b"
             ],
             [
              0.6666666666666666,
              "#ed7953"
             ],
             [
              0.7777777777777778,
              "#fb9f3a"
             ],
             [
              0.8888888888888888,
              "#fdca26"
             ],
             [
              1.0,
              "#f0f921"
             ]
            ]
           }
          ],
          "contourcarpet": [
           {
            "type": "contourcarpet",
            "colorbar": {
             "outlinewidth": 0,
             "ticks": ""
            }
           }
          ],
          "contour": [
           {
            "type": "contour",
            "colorbar": {
             "outlinewidth": 0,
             "ticks": ""
            },
            "colorscale": [
             [
              0.0,
              "#0d0887"
             ],
             [
              0.1111111111111111,
              "#46039f"
             ],
             [
              0.2222222222222222,
              "#7201a8"
             ],
             [
              0.3333333333333333,
              "#9c179e"
             ],
             [
              0.4444444444444444,
              "#bd3786"
             ],
             [
              0.5555555555555556,
              "#d8576b"
             ],
             [
              0.6666666666666666,
              "#ed7953"
             ],
             [
              0.7777777777777778,
              "#fb9f3a"
             ],
             [
              0.8888888888888888,
              "#fdca26"
             ],
             [
              1.0,
              "#f0f921"
             ]
            ]
           }
          ],
          "surface": [
           {
            "type": "surface",
            "colorbar": {
             "outlinewidth": 0,
             "ticks": ""
            },
            "colorscale": [
             [
              0.0,
              "#0d0887"
             ],
             [
              0.1111111111111111,
              "#46039f"
             ],
             [
              0.2222222222222222,
              "#7201a8"
             ],
             [
              0.3333333333333333,
              "#9c179e"
             ],
             [
              0.4444444444444444,
              "#bd3786"
             ],
             [
              0.5555555555555556,
              "#d8576b"
             ],
             [
              0.6666666666666666,
              "#ed7953"
             ],
             [
              0.7777777777777778,
              "#fb9f3a"
             ],
             [
              0.8888888888888888,
              "#fdca26"
             ],
             [
              1.0,
              "#f0f921"
             ]
            ]
           }
          ],
          "mesh3d": [
           {
            "type": "mesh3d",
            "colorbar": {
             "outlinewidth": 0,
             "ticks": ""
            }
           }
          ],
          "scatter": [
           {
            "fillpattern": {
             "fillmode": "overlay",
             "size": 10,
             "solidity": 0.2
            },
            "type": "scatter"
           }
          ],
          "parcoords": [
           {
            "type": "parcoords",
            "line": {
             "colorbar": {
              "outlinewidth": 0,
              "ticks": ""
             }
            }
           }
          ],
          "scatterpolargl": [
           {
            "type": "scatterpolargl",
            "marker": {
             "colorbar": {
              "outlinewidth": 0,
              "ticks": ""
             }
            }
           }
          ],
          "bar": [
           {
            "error_x": {
             "color": "#2a3f5f"
            },
            "error_y": {
             "color": "#2a3f5f"
            },
            "marker": {
             "line": {
              "color": "#E5ECF6",
              "width": 0.5
             },
             "pattern": {
              "fillmode": "overlay",
              "size": 10,
              "solidity": 0.2
             }
            },
            "type": "bar"
           }
          ],
          "scattergeo": [
           {
            "type": "scattergeo",
            "marker": {
             "colorbar": {
              "outlinewidth": 0,
              "ticks": ""
             }
            }
           }
          ],
          "scatterpolar": [
           {
            "type": "scatterpolar",
            "marker": {
             "colorbar": {
              "outlinewidth": 0,
              "ticks": ""
             }
            }
           }
          ],
          "histogram": [
           {
            "marker": {
             "pattern": {
              "fillmode": "overlay",
              "size": 10,
              "solidity": 0.2
             }
            },
            "type": "histogram"
           }
          ],
          "scattergl": [
           {
            "type": "scattergl",
            "marker": {
             "colorbar": {
              "outlinewidth": 0,
              "ticks": ""
             }
            }
           }
          ],
          "scatter3d": [
           {
            "type": "scatter3d",
            "line": {
             "colorbar": {
              "outlinewidth": 0,
              "ticks": ""
             }
            },
            "marker": {
             "colorbar": {
              "outlinewidth": 0,
              "ticks": ""
             }
            }
           }
          ],
          "scattermap": [
           {
            "type": "scattermap",
            "marker": {
             "colorbar": {
              "outlinewidth": 0,
              "ticks": ""
             }
            }
           }
          ],
          "scattermapbox": [
           {
            "type": "scattermapbox",
            "marker": {
             "colorbar": {
              "outlinewidth": 0,
              "ticks": ""
             }
            }
           }
          ],
          "scatterternary": [
           {
            "type": "scatterternary",
            "marker": {
             "colorbar": {
              "outlinewidth": 0,
              "ticks": ""
             }
            }
           }
          ],
          "scattercarpet": [
           {
            "type": "scattercarpet",
            "marker": {
             "colorbar": {
              "outlinewidth": 0,
              "ticks": ""
             }
            }
           }
          ],
          "carpet": [
           {
            "aaxis": {
             "endlinecolor": "#2a3f5f",
             "gridcolor": "white",
             "linecolor": "white",
             "minorgridcolor": "white",
             "startlinecolor": "#2a3f5f"
            },
            "baxis": {
             "endlinecolor": "#2a3f5f",
             "gridcolor": "white",
             "linecolor": "white",
             "minorgridcolor": "white",
             "startlinecolor": "#2a3f5f"
            },
            "type": "carpet"
           }
          ],
          "table": [
           {
            "cells": {
             "fill": {
              "color": "#EBF0F8"
             },
             "line": {
              "color": "white"
             }
            },
            "header": {
             "fill": {
              "color": "#C8D4E3"
             },
             "line": {
              "color": "white"
             }
            },
            "type": "table"
           }
          ],
          "barpolar": [
           {
            "marker": {
             "line": {
              "color": "#E5ECF6",
              "width": 0.5
             },
             "pattern": {
              "fillmode": "overlay",
              "size": 10,
              "solidity": 0.2
             }
            },
            "type": "barpolar"
           }
          ],
          "pie": [
           {
            "automargin": true,
            "type": "pie"
           }
          ]
         },
         "layout": {
          "autotypenumbers": "strict",
          "colorway": [
           "#636efa",
           "#EF553B",
           "#00cc96",
           "#ab63fa",
           "#FFA15A",
           "#19d3f3",
           "#FF6692",
           "#B6E880",
           "#FF97FF",
           "#FECB52"
          ],
          "font": {
           "color": "#2a3f5f"
          },
          "hovermode": "closest",
          "hoverlabel": {
           "align": "left"
          },
          "paper_bgcolor": "white",
          "plot_bgcolor": "#E5ECF6",
          "polar": {
           "bgcolor": "#E5ECF6",
           "angularaxis": {
            "gridcolor": "white",
            "linecolor": "white",
            "ticks": ""
           },
           "radialaxis": {
            "gridcolor": "white",
            "linecolor": "white",
            "ticks": ""
           }
          },
          "ternary": {
           "bgcolor": "#E5ECF6",
           "aaxis": {
            "gridcolor": "white",
            "linecolor": "white",
            "ticks": ""
           },
           "baxis": {
            "gridcolor": "white",
            "linecolor": "white",
            "ticks": ""
           },
           "caxis": {
            "gridcolor": "white",
            "linecolor": "white",
            "ticks": ""
           }
          },
          "coloraxis": {
           "colorbar": {
            "outlinewidth": 0,
            "ticks": ""
           }
          },
          "colorscale": {
           "sequential": [
            [
             0.0,
             "#0d0887"
            ],
            [
             0.1111111111111111,
             "#46039f"
            ],
            [
             0.2222222222222222,
             "#7201a8"
            ],
            [
             0.3333333333333333,
             "#9c179e"
            ],
            [
             0.4444444444444444,
             "#bd3786"
            ],
            [
             0.5555555555555556,
             "#d8576b"
            ],
            [
             0.6666666666666666,
             "#ed7953"
            ],
            [
             0.7777777777777778,
             "#fb9f3a"
            ],
            [
             0.8888888888888888,
             "#fdca26"
            ],
            [
             1.0,
             "#f0f921"
            ]
           ],
           "sequentialminus": [
            [
             0.0,
             "#0d0887"
            ],
            [
             0.1111111111111111,
             "#46039f"
            ],
            [
             0.2222222222222222,
             "#7201a8"
            ],
            [
             0.3333333333333333,
             "#9c179e"
            ],
            [
             0.4444444444444444,
             "#bd3786"
            ],
            [
             0.5555555555555556,
             "#d8576b"
            ],
            [
             0.6666666666666666,
             "#ed7953"
            ],
            [
             0.7777777777777778,
             "#fb9f3a"
            ],
            [
             0.8888888888888888,
             "#fdca26"
            ],
            [
             1.0,
             "#f0f921"
            ]
           ],
           "diverging": [
            [
             0,
             "#8e0152"
            ],
            [
             0.1,
             "#c51b7d"
            ],
            [
             0.2,
             "#de77ae"
            ],
            [
             0.3,
             "#f1b6da"
            ],
            [
             0.4,
             "#fde0ef"
            ],
            [
             0.5,
             "#f7f7f7"
            ],
            [
             0.6,
             "#e6f5d0"
            ],
            [
             0.7,
             "#b8e186"
            ],
            [
             0.8,
             "#7fbc41"
            ],
            [
             0.9,
             "#4d9221"
            ],
            [
             1,
             "#276419"
            ]
           ]
          },
          "xaxis": {
           "gridcolor": "white",
           "linecolor": "white",
           "ticks": "",
           "title": {
            "standoff": 15
           },
           "zerolinecolor": "white",
           "automargin": true,
           "zerolinewidth": 2
          },
          "yaxis": {
           "gridcolor": "white",
           "linecolor": "white",
           "ticks": "",
           "title": {
            "standoff": 15
           },
           "zerolinecolor": "white",
           "automargin": true,
           "zerolinewidth": 2
          },
          "scene": {
           "xaxis": {
            "backgroundcolor": "#E5ECF6",
            "gridcolor": "white",
            "linecolor": "white",
            "showbackground": true,
            "ticks": "",
            "zerolinecolor": "white",
            "gridwidth": 2
           },
           "yaxis": {
            "backgroundcolor": "#E5ECF6",
            "gridcolor": "white",
            "linecolor": "white",
            "showbackground": true,
            "ticks": "",
            "zerolinecolor": "white",
            "gridwidth": 2
           },
           "zaxis": {
            "backgroundcolor": "#E5ECF6",
            "gridcolor": "white",
            "linecolor": "white",
            "showbackground": true,
            "ticks": "",
            "zerolinecolor": "white",
            "gridwidth": 2
           }
          },
          "shapedefaults": {
           "line": {
            "color": "#2a3f5f"
           }
          },
          "annotationdefaults": {
           "arrowcolor": "#2a3f5f",
           "arrowhead": 0,
           "arrowwidth": 1
          },
          "geo": {
           "bgcolor": "white",
           "landcolor": "#E5ECF6",
           "subunitcolor": "white",
           "showland": true,
           "showlakes": true,
           "lakecolor": "white"
          },
          "title": {
           "x": 0.05
          },
          "mapbox": {
           "style": "light"
          }
         }
        },
        "title": {
         "text": "ROCKET Accuracy by Time"
        },
        "xaxis": {
         "title": {
          "text": "Time"
         }
        },
        "yaxis": {
         "title": {
          "text": "Accuracy"
         }
        }
       },
       "config": {
        "plotlyServerURL": "https://plot.ly"
       }
      }
     },
     "metadata": {},
     "output_type": "display_data"
    }
   ],
   "execution_count": 11
  },
  {
   "metadata": {},
   "cell_type": "markdown",
   "source": "## SVC",
   "id": "37a859fee7c9a9a5"
  },
  {
   "metadata": {},
   "cell_type": "code",
   "source": [
    "def train_and_test_SVC():\n",
    "    acc_by_time = []\n",
    "    for t in range(1, SEQ_LEN + 1):\n",
    "        train_data, test_data, train_labels, test_labels, train_scaler = get_data(data, t)\n",
    "        svc_tsc = TimeSeriesSVC(kernel=AggrDist(RBF()), random_state=42)\n",
    "        svc_tsc.fit(train_data, train_labels)\n",
    "        pred_labels = svc_tsc.predict(test_data)\n",
    "        acc, acc_by_class = calc_acc(pred_labels, test_labels, NUM_CLASSES)\n",
    "        print(f\"------------- Time {t} -------------\")\n",
    "        print(f\"Accuracy: {acc}\")\n",
    "        acc_by_time.append(acc)\n",
    "        for i in range(NUM_CLASSES):\n",
    "            print(f\"Accuracy of class {i+1}: {acc_by_class[i]}\")\n",
    "    return acc_by_time"
   ],
   "id": "b6e7b1e452fefa17",
   "outputs": [],
   "execution_count": null
  },
  {
   "metadata": {},
   "cell_type": "code",
   "source": [
    "fig = go.Figure()\n",
    "acc_by_time = train_and_test_SVC()\n",
    "fig.add_trace(go.Scatter(x=list(range(1, SEQ_LEN+1)), y=acc_by_time, name=\"SVC\", mode=\"lines\"))\n",
    "fig.update_layout(title=\"SVC Accuracy by Time\", xaxis_title=\"Time\", yaxis_title=\"Accuracy\")\n",
    "fig.show()\n",
    "# exclude SVC"
   ],
   "id": "cd3fc6623d5012a6",
   "outputs": [],
   "execution_count": null
  },
  {
   "metadata": {},
   "cell_type": "markdown",
   "source": "## HIVECOTEV2",
   "id": "4c32e7c33fad2b51"
  },
  {
   "metadata": {},
   "cell_type": "code",
   "source": [
    "def train_and_test_HIVECOTEV2():\n",
    "    acc_by_time = []\n",
    "    for t in range(1, SEQ_LEN + 1):\n",
    "        train_data, test_data, train_labels, test_labels, train_scaler = get_data(data, t)\n",
    "        hivecotev2_tsc = HIVECOTEV2(random_state=42)\n",
    "        hivecotev2_tsc.fit(train_data, train_labels)\n",
    "        pred_labels = hivecotev2_tsc.predict(test_data)\n",
    "        acc, acc_by_class = calc_acc(pred_labels, test_labels, NUM_CLASSES)\n",
    "        print(f\"------------- Time {t} -------------\")\n",
    "        print(f\"Accuracy: {acc}\")\n",
    "        acc_by_time.append(acc)\n",
    "        for i in range(NUM_CLASSES):\n",
    "            print(f\"Accuracy of class {i+1}: {acc_by_class[i]}\")\n",
    "    return acc_by_time"
   ],
   "id": "dd0568a59a2582f6",
   "outputs": [],
   "execution_count": null
  },
  {
   "metadata": {},
   "cell_type": "code",
   "source": [
    "fig = go.Figure()\n",
    "acc_by_time = train_and_test_HIVECOTEV2()\n",
    "fig.add_trace(go.Scatter(x=list(range(1, SEQ_LEN+1)), y=acc_by_time, name=\"HIVECOTEV2\", mode=\"lines\"))\n",
    "fig.update_layout(title=\"HIVECOTEV2 Accuracy by Time\", xaxis_title=\"Time\", yaxis_title=\"Accuracy\")\n",
    "fig.show()"
   ],
   "id": "a786509045b5cc20",
   "outputs": [],
   "execution_count": null
  },
  {
   "metadata": {},
   "cell_type": "markdown",
   "source": "## WE",
   "id": "f9781ac56e3c794c"
  },
  {
   "metadata": {},
   "cell_type": "code",
   "source": [
    "def train_and_test_WE():\n",
    "    acc_by_time = []\n",
    "    for t in range(1, SEQ_LEN + 1):\n",
    "        train_data, test_data, train_labels, test_labels, train_scaler = get_data(data, t)\n",
    "        we_tsc = WeightedEnsembleClassifier(\n",
    "            [\n",
    "                (\"KNN-TSC\", KNeighborsTimeSeriesClassifier(n_neighbors=3, distance=FlatDist(ScipyDist()))),\n",
    "                (\"ROCKET\", RocketClassifier(num_kernels=20000, random_state=42)),\n",
    "            ],\n",
    "            weights=[2, 1, 1, 1],\n",
    "        )\n",
    "        we_tsc.fit(train_data, train_labels)\n",
    "        pred_labels = we_tsc.predict(test_data)\n",
    "        acc, acc_by_class = calc_acc(pred_labels, test_labels, NUM_CLASSES)\n",
    "        print(f\"------------- Time {t} -------------\")\n",
    "        print(f\"Accuracy: {acc}\")\n",
    "        acc_by_time.append(acc)\n",
    "        for i in range(NUM_CLASSES):\n",
    "            print(f\"Accuracy of class {i+1}: {acc_by_class[i]}\")\n",
    "    return acc_by_time"
   ],
   "id": "ea79d0b61c804901",
   "outputs": [],
   "execution_count": null
  },
  {
   "metadata": {},
   "cell_type": "code",
   "source": [
    "fig = go.Figure()\n",
    "acc_by_time = train_and_test_WE()\n",
    "fig.add_trace(go.Scatter(x=list(range(1, SEQ_LEN+1)), y=acc_by_time, name=\"WE\", mode=\"lines\"))\n",
    "fig.update_layout(title=\"WE Accuracy by Time\", xaxis_title=\"Time\", yaxis_title=\"Accuracy\")\n",
    "fig.show()"
   ],
   "id": "f893ff9262f242e1",
   "outputs": [],
   "execution_count": null
  }
 ],
 "metadata": {
  "kernelspec": {
   "display_name": "Python 3",
   "language": "python",
   "name": "python3"
  },
  "language_info": {
   "codemirror_mode": {
    "name": "ipython",
    "version": 2
   },
   "file_extension": ".py",
   "mimetype": "text/x-python",
   "name": "python",
   "nbconvert_exporter": "python",
   "pygments_lexer": "ipython2",
   "version": "2.7.6"
  }
 },
 "nbformat": 4,
 "nbformat_minor": 5
}
